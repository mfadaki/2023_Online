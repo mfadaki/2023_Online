{
 "cells": [
  {
   "cell_type": "markdown",
   "metadata": {},
   "source": [
    "## We Should NoT create the demand every time. That's the reason I created the demand once and then save it in a pickle file."
   ]
  },
  {
   "cell_type": "markdown",
   "metadata": {},
   "source": [
    "- Lostsales vs backorder\n",
    "- Max (FR) vs Max(Profit)\n"
   ]
  },
  {
   "cell_type": "code",
   "execution_count": 3,
   "metadata": {},
   "outputs": [
    {
     "ename": "ModuleNotFoundError",
     "evalue": "No module named 'bokeh'",
     "output_type": "error",
     "traceback": [
      "\u001b[0;31m---------------------------------------------------------------------------\u001b[0m",
      "\u001b[0;31mModuleNotFoundError\u001b[0m                       Traceback (most recent call last)",
      "\u001b[1;32m/Users/E90188/Documents/Research/2023_Online/MDP/MCTS/Quantum_Capacity.ipynb Cell 3\u001b[0m in \u001b[0;36m<cell line: 10>\u001b[0;34m()\u001b[0m\n\u001b[1;32m      <a href='vscode-notebook-cell:/Users/E90188/Documents/Research/2023_Online/MDP/MCTS/Quantum_Capacity.ipynb#W2sZmlsZQ%3D%3D?line=6'>7</a>\u001b[0m \u001b[39mimport\u001b[39;00m \u001b[39mpickle\u001b[39;00m\n\u001b[1;32m      <a href='vscode-notebook-cell:/Users/E90188/Documents/Research/2023_Online/MDP/MCTS/Quantum_Capacity.ipynb#W2sZmlsZQ%3D%3D?line=8'>9</a>\u001b[0m \u001b[39m# importing the export_png() function\u001b[39;00m\n\u001b[0;32m---> <a href='vscode-notebook-cell:/Users/E90188/Documents/Research/2023_Online/MDP/MCTS/Quantum_Capacity.ipynb#W2sZmlsZQ%3D%3D?line=9'>10</a>\u001b[0m \u001b[39mfrom\u001b[39;00m \u001b[39mbokeh\u001b[39;00m\u001b[39m.\u001b[39;00m\u001b[39mio\u001b[39;00m \u001b[39mimport\u001b[39;00m export_png\n",
      "\u001b[0;31mModuleNotFoundError\u001b[0m: No module named 'bokeh'"
     ]
    }
   ],
   "source": [
    "import scipy as sp\n",
    "import scipy.stats as spt\n",
    "import numpy as np\n",
    "import pandas as pd\n",
    "import matplotlib.pyplot as plt\n",
    "from scipy.stats import norm\n",
    "import pickle\n",
    "\n",
    "# importing the export_png() function\n",
    "from bokeh.io import export_png"
   ]
  },
  {
   "cell_type": "code",
   "execution_count": 4,
   "metadata": {},
   "outputs": [],
   "source": [
    "k = 100\n",
    "ent = 0\n",
    "p=10\n",
    "h=0.005\n",
    "s=0.005\n",
    "w=p*0.6\n",
    "\n",
    "policy=['P','L', 'U', 'R', 'Lx']\n",
    "\n",
    "uniform_min = 0\n",
    "uniform_max = k * 1.2\n",
    "sample_size = 1000\n",
    "#sample_size = 5000\n",
    "\n"
   ]
  },
  {
   "cell_type": "code",
   "execution_count": 23,
   "metadata": {},
   "outputs": [],
   "source": [
    "# Demands ###### USE THIS IF ONLY DEMANDS are generated for the first time.\n",
    "\n",
    "#d1 = spt.uniform.rvs(loc=uniform_min, scale=uniform_min+uniform_max, size=sample_size, random_state=None)\n",
    "#d2 = spt.uniform.rvs(loc=uniform_min, scale=uniform_min+uniform_max, size=sample_size, random_state=None)\n",
    "\n",
    "#with open('demand.pickle', 'wb') as f:\n",
    "    #pickle.dump([d1,d2], f)"
   ]
  },
  {
   "cell_type": "code",
   "execution_count": 38,
   "metadata": {},
   "outputs": [],
   "source": [
    "with open('demand.pickle', 'rb') as f:\n",
    "    [d1,d2] = pickle.load(f)"
   ]
  },
  {
   "cell_type": "markdown",
   "metadata": {},
   "source": [
    "#### Capacity Allocation Policies"
   ]
  },
  {
   "cell_type": "code",
   "execution_count": 16,
   "metadata": {},
   "outputs": [],
   "source": [
    "import math\n",
    "k=9\n",
    "demands = [(8, 5), (6, 3), (2, 6), (6, 3), (4, 7), (4, 5), (3, 9), (8, 2), (8, 3), (6, 6)]\n",
    "def proportional(x1,x2):\n",
    "    return math.floor(min(x1,k*x1/(x1+x2))), math.floor(min(x2,k*x2/(x1+x2)))"
   ]
  },
  {
   "cell_type": "code",
   "execution_count": 17,
   "metadata": {},
   "outputs": [
    {
     "data": {
      "text/plain": [
       "[(5, 3),\n",
       " (6, 3),\n",
       " (2, 6),\n",
       " (6, 3),\n",
       " (3, 5),\n",
       " (4, 5),\n",
       " (2, 6),\n",
       " (7, 1),\n",
       " (6, 2),\n",
       " (4, 4)]"
      ]
     },
     "execution_count": 17,
     "metadata": {},
     "output_type": "execute_result"
    }
   ],
   "source": [
    "allocations = [proportional(x[0],x[1]) for x in demands]\n",
    "allocations"
   ]
  },
  {
   "cell_type": "code",
   "execution_count": 19,
   "metadata": {},
   "outputs": [
    {
     "name": "stdout",
     "output_type": "stream",
     "text": [
      "0.82\n",
      "0.78\n"
     ]
    }
   ],
   "source": [
    "fr_1 = round(sum([y[0] for y in allocations]) / sum([x[0] for x in demands]),2)\n",
    "fr_2 = round(sum([y[1] for y in allocations]) / sum([x[1] for x in demands]),2)\n",
    "print(fr_1)\n",
    "print(fr_2)"
   ]
  },
  {
   "cell_type": "code",
   "execution_count": 10,
   "metadata": {},
   "outputs": [
    {
     "data": {
      "text/plain": [
       "(46, 53)"
      ]
     },
     "execution_count": 10,
     "metadata": {},
     "output_type": "execute_result"
    }
   ],
   "source": [
    "proportional(60,70)"
   ]
  },
  {
   "cell_type": "code",
   "execution_count": 6,
   "metadata": {},
   "outputs": [],
   "source": [
    "def linear(x1,x2):\n",
    "    d=[x1,x2]\n",
    "    d_sorted = np.sort(d)[::-1]\n",
    "    sort_index_d = np.argsort(d)[::-1]\n",
    "    g_linear=[-1,-1]\n",
    "    test=0\n",
    "\n",
    "    for n in range (2,0,-1):\n",
    "        if test==0:\n",
    "            for i in range(2,0,-1):\n",
    "                if i <= n:\n",
    "                    #print(\"n=\",n)\n",
    "                    g_linear[i-1] = d[sort_index_d[i-1]]-(1/n)*max(0,sum(d_sorted[:n])-k)\n",
    "                    #print(g_linear[i-1])\n",
    "                else:\n",
    "                    g_linear[i-1] = 0\n",
    "                    #print(g_linear[i-1])\n",
    "            if np.prod(g_linear) >= 0:\n",
    "            #if g_linear[0] >= 0 and g_linear[1] >= 0:\n",
    "                test=1\n",
    "    if d[0] < d[1]:\n",
    "        g_linear[0], g_linear[1] = g_linear[1], g_linear[0]\n",
    "    return g_linear"
   ]
  },
  {
   "cell_type": "code",
   "execution_count": 7,
   "metadata": {},
   "outputs": [],
   "source": [
    "def uniform(x1,x2):\n",
    "    d=[x1,x2]\n",
    "    #d_sorted = np.sort(d)[::-1]\n",
    "    d_sorted = np.sort(d)\n",
    "    sort_index_d = np.argsort(d)[::-1]\n",
    "    g_linear=[-1,-1]\n",
    "    test=0\n",
    "\n",
    "    for n in range (2,-1,-1):\n",
    "        if test==0:\n",
    "            for i in range(2,0,-1):\n",
    "                if i <= n:\n",
    "                    #print(\"n=\",n)\n",
    "                    if n < 2:\n",
    "                        sm=sum(d_sorted[:n])\n",
    "                    else:\n",
    "                        sm=0\n",
    "                    g_linear[i-1] = (1/n)*(k-sm)\n",
    "                    #print(g_linear[i-1])\n",
    "                else:\n",
    "                    g_linear[i-1] = d[sort_index_d[i-1]]\n",
    "                    #print(g_linear[i-1])\n",
    "            if g_linear[0] <= d[sort_index_d[0]] and g_linear[1] <= d[sort_index_d[1]]:\n",
    "                test=1\n",
    "    if d[0] < d[1]:\n",
    "        g_linear[0], g_linear[1] = g_linear[1], g_linear[0]\n",
    "    return g_linear"
   ]
  },
  {
   "cell_type": "code",
   "execution_count": 8,
   "metadata": {},
   "outputs": [
    {
     "data": {
      "text/plain": [
       "[40, 60.0]"
      ]
     },
     "execution_count": 8,
     "metadata": {},
     "output_type": "execute_result"
    }
   ],
   "source": [
    "uniform(40,70)"
   ]
  },
  {
   "cell_type": "code",
   "execution_count": 9,
   "metadata": {},
   "outputs": [
    {
     "data": {
      "text/plain": [
       "[40.0, 60.0]"
      ]
     },
     "execution_count": 9,
     "metadata": {},
     "output_type": "execute_result"
    }
   ],
   "source": [
    "linear(70,90)"
   ]
  },
  {
   "cell_type": "code",
   "execution_count": 10,
   "metadata": {},
   "outputs": [],
   "source": [
    "def relaxed_linear(x1,x2):\n",
    "    d=[x1,x2]\n",
    "    g_linear=[-1,-1]\n",
    "    g_linear[0] = min(d[0], d[0]-(1/2)*(sum(d)-k))\n",
    "    g_linear[1] = min(d[1], d[1]-(1/2)*(sum(d)-k))\n",
    "\n",
    "    return g_linear"
   ]
  },
  {
   "cell_type": "code",
   "execution_count": 11,
   "metadata": {},
   "outputs": [
    {
     "data": {
      "text/plain": [
       "[355.0, -255.0]"
      ]
     },
     "execution_count": 11,
     "metadata": {},
     "output_type": "execute_result"
    }
   ],
   "source": [
    "relaxed_linear(700,90) # As Cachon said, this policy sometimes gives negative allocations!!!"
   ]
  },
  {
   "cell_type": "code",
   "execution_count": 12,
   "metadata": {},
   "outputs": [],
   "source": [
    "def lexicographic(x1,x2):\n",
    "    d=[x1,x2]\n",
    "    g_linear=[-1,-1]\n",
    "    if d[0] >= k:\n",
    "        g_linear[0] = k\n",
    "    else:\n",
    "        g_linear[0] = d[0]\n",
    "\n",
    "    if d[1] >= k-g_linear[0]:\n",
    "        g_linear[1] = k-g_linear[0]\n",
    "    else:\n",
    "        g_linear[1] = d[1]\n",
    "\n",
    "    return g_linear"
   ]
  },
  {
   "cell_type": "markdown",
   "metadata": {},
   "source": [
    "#### Main Function"
   ]
  },
  {
   "cell_type": "code",
   "execution_count": 13,
   "metadata": {},
   "outputs": [],
   "source": [
    "def origin_updated(ent):\n",
    "    shortage_max=0\n",
    "    \n",
    "    q1_quant = d1*np.cosh(ent)+d2*np.sinh(ent)\n",
    "    q2_quant = d2*np.cosh(ent)+d1*np.sinh(ent)\n",
    "    \n",
    "    if quant1==1:\n",
    "        order1=q1_quant\n",
    "    else:\n",
    "        order1=d1\n",
    "        \n",
    "    if quant2==1:\n",
    "        order2=q2_quant\n",
    "    else:\n",
    "        order2=d2\n",
    "    \n",
    "    if policy_selected=='P':\n",
    "        g1_quant = [proportional(order1[cc],order2[cc]) for cc in range(sample_size)]\n",
    "        g2_quant = [proportional(order2[cc],order1[cc]) for cc in range(sample_size)]\n",
    "    \n",
    "    if policy_selected=='L':\n",
    "        g1_quant = [linear(order1[cc],order2[cc])[0] for cc in range(sample_size)]\n",
    "        g2_quant = [linear(order1[cc],order2[cc])[1] for cc in range(sample_size)]\n",
    "        \n",
    "    if policy_selected=='U':\n",
    "        g1_quant = [uniform(order1[cc],order2[cc])[0] for cc in range(sample_size)]\n",
    "        g2_quant = [uniform(order1[cc],order2[cc])[1] for cc in range(sample_size)]\n",
    "        \n",
    "    if policy_selected=='R':\n",
    "        g1_quant = [relaxed_linear(order1[cc],order2[cc])[0] for cc in range(sample_size)]\n",
    "        g2_quant = [relaxed_linear(order1[cc],order2[cc])[1] for cc in range(sample_size)]\n",
    "    \n",
    "    if policy_selected=='Lx':\n",
    "        g1_quant = [lexicographic(order1[cc],order2[cc])[0] for cc in range(sample_size)]\n",
    "        g2_quant = [lexicographic(order1[cc],order2[cc])[1] for cc in range(sample_size)]\n",
    "\n",
    "    \n",
    "    fr_quant_1 = round(sum(g1_quant)/sum(d1)*100,1)\n",
    "    fr_quant_2 = round(sum(g2_quant)/sum(d2)*100,1)\n",
    "    \n",
    "    #fr_quant_1 = round(sum(g1_quant)/sum(order1)*100,1)\n",
    "    #fr_quant_2 = round(sum(g2_quant)/sum(order2)*100,1)\n",
    "    \n",
    "    balance1=g1_quant - d1\n",
    "    holding1 = [sum(balance1[:j+1]) if sum(balance1[:j+1]) > 0 else 0 for j in range(len(balance1))]\n",
    "    shortage1 = [sum(balance1[:j+1]) if sum(balance1[:j+1]) < 0 else 0 for j in range(len(balance1))] #Not LOST Sales\n",
    "    holding1_avr = sum(holding1)/sample_size\n",
    "    shortage1_avr = -1*sum(shortage1)/sample_size\n",
    "    \n",
    "    balance2=g2_quant - d2\n",
    "    holding2 = [sum(balance2[:j+1]) if sum(balance2[:j+1]) > 0 else 0 for j in range(len(balance2))]\n",
    "    shortage2 = [sum(balance2[:j+1]) if sum(balance2[:j+1]) < 0 else 0 for j in range(len(balance2))] #Not LOST Sales\n",
    "    holding2_avr = sum(holding2)/sample_size\n",
    "    shortage2_avr = -1*sum(shortage2)/sample_size\n",
    "    \n",
    "    sale1_avr = min(sum(g1_quant),sum(d1))/sample_size     #Our case is not lost sales. So, the total sum is compared.\n",
    "    sale2_avr = min(sum(g2_quant),sum(d2))/sample_size\n",
    "\n",
    "    profit1_quant_avr = round(sale1_avr*p - (sum(g1_quant)/sample_size)*w - shortage1_avr*s - holding1_avr*h,0)\n",
    "    profit2_quant_avr = round(sale2_avr*p - (sum(g2_quant)/sample_size)*w - shortage2_avr*s - holding2_avr*h,0)\n",
    "\n",
    "    \n",
    "    return fr_quant_1, shortage1_avr*s, holding1_avr*h, profit1_quant_avr, fr_quant_2, shortage2_avr*s, holding2_avr*h, profit2_quant_avr"
   ]
  },
  {
   "cell_type": "code",
   "execution_count": 14,
   "metadata": {},
   "outputs": [],
   "source": [
    "def result_selector(item):\n",
    "    switcher = {\n",
    "        0: 'policy selected',\n",
    "        1: 'Fill Rate Buyer 1',\n",
    "        2: 'Shortage Cost Buyer 1',\n",
    "        3: 'Holding Cost Buyer 1',\n",
    "        4: 'Profit Buyer 1',\n",
    "        5: 'Fill Rate Buyer 2',\n",
    "        6: 'Shortage Cost Buyer 2',\n",
    "        7: 'Holding Cost Buyer 2',\n",
    "        8: 'Profit Buyer 2',\n",
    "    }\n",
    "    return (switcher.get(item, \"Invalid Result Item\"))"
   ]
  },
  {
   "cell_type": "markdown",
   "metadata": {},
   "source": [
    "### No Strategic Reasoning"
   ]
  },
  {
   "cell_type": "code",
   "execution_count": 24,
   "metadata": {},
   "outputs": [
    {
     "name": "stdout",
     "output_type": "stream",
     "text": [
      "P\n",
      "L\n",
      "U\n",
      "R\n",
      "Lx\n"
     ]
    }
   ],
   "source": [
    "#uniform_min = 0\n",
    "#uniform_max = 100 * 1.2\n",
    "#sample_size = 1000\n",
    "\n",
    "# Demands\n",
    "#d1 = spt.uniform.rvs(loc=uniform_min, scale=uniform_min+uniform_max, size=sample_size, random_state=None)\n",
    "#d2 = spt.uniform.rvs(loc=uniform_min, scale=uniform_min+uniform_max, size=sample_size, random_state=None)\n",
    "        \n",
    "k_min = 50\n",
    "k_max = 140        \n",
    "k_range = np.arange(k_min, k_max, 1)\n",
    "result = []\n",
    "m=9\n",
    "n=5\n",
    "result=[[0] * m for i in range(n)] #creating n*m dimensions list in Python\n",
    "nn=0\n",
    "\n",
    "for policy_selected in policy:\n",
    "    print(policy_selected)\n",
    "    fr_1_arr = [0]*len(k_range)\n",
    "    short1_arr = [0]*len(k_range)\n",
    "    holding1_arr = [0]*len(k_range)\n",
    "    profit1_arr = [0]*len(k_range)\n",
    "    fr_2_arr = [0]*len(k_range)\n",
    "    short2_arr = [0]*len(k_range)\n",
    "    holding2_arr = [0]*len(k_range)\n",
    "    profit2_arr = [0]*len(k_range)\n",
    "    i=0\n",
    "    \n",
    "    quant1=0\n",
    "    quant2=0\n",
    "\n",
    "    \n",
    "    for k in k_range:\n",
    "        fr_1_arr[i], short1_arr[i], holding1_arr[i], profit1_arr[i], fr_2_arr[i], short2_arr[i], holding2_arr[i], profit2_arr[i] = origin_updated(0)\n",
    "        i=i+1\n",
    "    \n",
    "    result[nn][0] = policy_selected\n",
    "    result[nn][1] = fr_1_arr\n",
    "    result[nn][2] = short1_arr\n",
    "    result[nn][3] = holding1_arr\n",
    "    result[nn][4] = profit1_arr\n",
    "    \n",
    "    result[nn][5] = fr_2_arr\n",
    "    result[nn][6] = short2_arr\n",
    "    result[nn][7] = holding2_arr\n",
    "    result[nn][8] = profit2_arr\n",
    "    \n",
    "    nn=nn+1"
   ]
  },
  {
   "cell_type": "code",
   "execution_count": 95,
   "metadata": {},
   "outputs": [],
   "source": [
    "#with open('results_NoReasoning.pickle', 'wb') as f:\n",
    "    #pickle.dump([result], f)\n"
   ]
  },
  {
   "cell_type": "code",
   "execution_count": 16,
   "metadata": {},
   "outputs": [],
   "source": [
    "with open('results_NoReasoning.pickle', 'rb') as f:\n",
    "    [result] = pickle.load(f)"
   ]
  },
  {
   "cell_type": "code",
   "execution_count": 25,
   "metadata": {},
   "outputs": [
    {
     "data": {
      "text/html": [
       "\n",
       "    <div class=\"bk-root\">\n",
       "        <a href=\"https://bokeh.pydata.org\" target=\"_blank\" class=\"bk-logo bk-logo-small bk-logo-notebook\"></a>\n",
       "        <span id=\"1590\">Loading BokehJS ...</span>\n",
       "    </div>"
      ]
     },
     "metadata": {},
     "output_type": "display_data"
    },
    {
     "data": {
      "application/javascript": "\n(function(root) {\n  function now() {\n    return new Date();\n  }\n\n  var force = true;\n\n  if (typeof (root._bokeh_onload_callbacks) === \"undefined\" || force === true) {\n    root._bokeh_onload_callbacks = [];\n    root._bokeh_is_loading = undefined;\n  }\n\n  var JS_MIME_TYPE = 'application/javascript';\n  var HTML_MIME_TYPE = 'text/html';\n  var EXEC_MIME_TYPE = 'application/vnd.bokehjs_exec.v0+json';\n  var CLASS_NAME = 'output_bokeh rendered_html';\n\n  /**\n   * Render data to the DOM node\n   */\n  function render(props, node) {\n    var script = document.createElement(\"script\");\n    node.appendChild(script);\n  }\n\n  /**\n   * Handle when an output is cleared or removed\n   */\n  function handleClearOutput(event, handle) {\n    var cell = handle.cell;\n\n    var id = cell.output_area._bokeh_element_id;\n    var server_id = cell.output_area._bokeh_server_id;\n    // Clean up Bokeh references\n    if (id != null && id in Bokeh.index) {\n      Bokeh.index[id].model.document.clear();\n      delete Bokeh.index[id];\n    }\n\n    if (server_id !== undefined) {\n      // Clean up Bokeh references\n      var cmd = \"from bokeh.io.state import curstate; print(curstate().uuid_to_server['\" + server_id + \"'].get_sessions()[0].document.roots[0]._id)\";\n      cell.notebook.kernel.execute(cmd, {\n        iopub: {\n          output: function(msg) {\n            var id = msg.content.text.trim();\n            if (id in Bokeh.index) {\n              Bokeh.index[id].model.document.clear();\n              delete Bokeh.index[id];\n            }\n          }\n        }\n      });\n      // Destroy server and session\n      var cmd = \"import bokeh.io.notebook as ion; ion.destroy_server('\" + server_id + \"')\";\n      cell.notebook.kernel.execute(cmd);\n    }\n  }\n\n  /**\n   * Handle when a new output is added\n   */\n  function handleAddOutput(event, handle) {\n    var output_area = handle.output_area;\n    var output = handle.output;\n\n    // limit handleAddOutput to display_data with EXEC_MIME_TYPE content only\n    if ((output.output_type != \"display_data\") || (!output.data.hasOwnProperty(EXEC_MIME_TYPE))) {\n      return\n    }\n\n    var toinsert = output_area.element.find(\".\" + CLASS_NAME.split(' ')[0]);\n\n    if (output.metadata[EXEC_MIME_TYPE][\"id\"] !== undefined) {\n      toinsert[toinsert.length - 1].firstChild.textContent = output.data[JS_MIME_TYPE];\n      // store reference to embed id on output_area\n      output_area._bokeh_element_id = output.metadata[EXEC_MIME_TYPE][\"id\"];\n    }\n    if (output.metadata[EXEC_MIME_TYPE][\"server_id\"] !== undefined) {\n      var bk_div = document.createElement(\"div\");\n      bk_div.innerHTML = output.data[HTML_MIME_TYPE];\n      var script_attrs = bk_div.children[0].attributes;\n      for (var i = 0; i < script_attrs.length; i++) {\n        toinsert[toinsert.length - 1].firstChild.setAttribute(script_attrs[i].name, script_attrs[i].value);\n      }\n      // store reference to server id on output_area\n      output_area._bokeh_server_id = output.metadata[EXEC_MIME_TYPE][\"server_id\"];\n    }\n  }\n\n  function register_renderer(events, OutputArea) {\n\n    function append_mime(data, metadata, element) {\n      // create a DOM node to render to\n      var toinsert = this.create_output_subarea(\n        metadata,\n        CLASS_NAME,\n        EXEC_MIME_TYPE\n      );\n      this.keyboard_manager.register_events(toinsert);\n      // Render to node\n      var props = {data: data, metadata: metadata[EXEC_MIME_TYPE]};\n      render(props, toinsert[toinsert.length - 1]);\n      element.append(toinsert);\n      return toinsert\n    }\n\n    /* Handle when an output is cleared or removed */\n    events.on('clear_output.CodeCell', handleClearOutput);\n    events.on('delete.Cell', handleClearOutput);\n\n    /* Handle when a new output is added */\n    events.on('output_added.OutputArea', handleAddOutput);\n\n    /**\n     * Register the mime type and append_mime function with output_area\n     */\n    OutputArea.prototype.register_mime_type(EXEC_MIME_TYPE, append_mime, {\n      /* Is output safe? */\n      safe: true,\n      /* Index of renderer in `output_area.display_order` */\n      index: 0\n    });\n  }\n\n  // register the mime type if in Jupyter Notebook environment and previously unregistered\n  if (root.Jupyter !== undefined) {\n    var events = require('base/js/events');\n    var OutputArea = require('notebook/js/outputarea').OutputArea;\n\n    if (OutputArea.prototype.mime_types().indexOf(EXEC_MIME_TYPE) == -1) {\n      register_renderer(events, OutputArea);\n    }\n  }\n\n  \n  if (typeof (root._bokeh_timeout) === \"undefined\" || force === true) {\n    root._bokeh_timeout = Date.now() + 5000;\n    root._bokeh_failed_load = false;\n  }\n\n  var NB_LOAD_WARNING = {'data': {'text/html':\n     \"<div style='background-color: #fdd'>\\n\"+\n     \"<p>\\n\"+\n     \"BokehJS does not appear to have successfully loaded. If loading BokehJS from CDN, this \\n\"+\n     \"may be due to a slow or bad network connection. Possible fixes:\\n\"+\n     \"</p>\\n\"+\n     \"<ul>\\n\"+\n     \"<li>re-rerun `output_notebook()` to attempt to load from CDN again, or</li>\\n\"+\n     \"<li>use INLINE resources instead, as so:</li>\\n\"+\n     \"</ul>\\n\"+\n     \"<code>\\n\"+\n     \"from bokeh.resources import INLINE\\n\"+\n     \"output_notebook(resources=INLINE)\\n\"+\n     \"</code>\\n\"+\n     \"</div>\"}};\n\n  function display_loaded() {\n    var el = document.getElementById(\"1590\");\n    if (el != null) {\n      el.textContent = \"BokehJS is loading...\";\n    }\n    if (root.Bokeh !== undefined) {\n      if (el != null) {\n        el.textContent = \"BokehJS \" + root.Bokeh.version + \" successfully loaded.\";\n      }\n    } else if (Date.now() < root._bokeh_timeout) {\n      setTimeout(display_loaded, 100)\n    }\n  }\n\n\n  function run_callbacks() {\n    try {\n      root._bokeh_onload_callbacks.forEach(function(callback) { callback() });\n    }\n    finally {\n      delete root._bokeh_onload_callbacks\n    }\n    console.info(\"Bokeh: all callbacks have finished\");\n  }\n\n  function load_libs(js_urls, callback) {\n    root._bokeh_onload_callbacks.push(callback);\n    if (root._bokeh_is_loading > 0) {\n      console.log(\"Bokeh: BokehJS is being loaded, scheduling callback at\", now());\n      return null;\n    }\n    if (js_urls == null || js_urls.length === 0) {\n      run_callbacks();\n      return null;\n    }\n    console.log(\"Bokeh: BokehJS not loaded, scheduling load and callback at\", now());\n    root._bokeh_is_loading = js_urls.length;\n    for (var i = 0; i < js_urls.length; i++) {\n      var url = js_urls[i];\n      var s = document.createElement('script');\n      s.src = url;\n      s.async = false;\n      s.onreadystatechange = s.onload = function() {\n        root._bokeh_is_loading--;\n        if (root._bokeh_is_loading === 0) {\n          console.log(\"Bokeh: all BokehJS libraries loaded\");\n          run_callbacks()\n        }\n      };\n      s.onerror = function() {\n        console.warn(\"failed to load library \" + url);\n      };\n      console.log(\"Bokeh: injecting script tag for BokehJS library: \", url);\n      document.getElementsByTagName(\"head\")[0].appendChild(s);\n    }\n  };var element = document.getElementById(\"1590\");\n  if (element == null) {\n    console.log(\"Bokeh: ERROR: autoload.js configured with elementid '1590' but no matching script tag was found. \")\n    return false;\n  }\n\n  var js_urls = [\"https://cdn.pydata.org/bokeh/release/bokeh-1.0.4.min.js\", \"https://cdn.pydata.org/bokeh/release/bokeh-widgets-1.0.4.min.js\", \"https://cdn.pydata.org/bokeh/release/bokeh-tables-1.0.4.min.js\", \"https://cdn.pydata.org/bokeh/release/bokeh-gl-1.0.4.min.js\"];\n\n  var inline_js = [\n    function(Bokeh) {\n      Bokeh.set_log_level(\"info\");\n    },\n    \n    function(Bokeh) {\n      \n    },\n    function(Bokeh) {\n      console.log(\"Bokeh: injecting CSS: https://cdn.pydata.org/bokeh/release/bokeh-1.0.4.min.css\");\n      Bokeh.embed.inject_css(\"https://cdn.pydata.org/bokeh/release/bokeh-1.0.4.min.css\");\n      console.log(\"Bokeh: injecting CSS: https://cdn.pydata.org/bokeh/release/bokeh-widgets-1.0.4.min.css\");\n      Bokeh.embed.inject_css(\"https://cdn.pydata.org/bokeh/release/bokeh-widgets-1.0.4.min.css\");\n      console.log(\"Bokeh: injecting CSS: https://cdn.pydata.org/bokeh/release/bokeh-tables-1.0.4.min.css\");\n      Bokeh.embed.inject_css(\"https://cdn.pydata.org/bokeh/release/bokeh-tables-1.0.4.min.css\");\n    }\n  ];\n\n  function run_inline_js() {\n    \n    if ((root.Bokeh !== undefined) || (force === true)) {\n      for (var i = 0; i < inline_js.length; i++) {\n        inline_js[i].call(root, root.Bokeh);\n      }if (force === true) {\n        display_loaded();\n      }} else if (Date.now() < root._bokeh_timeout) {\n      setTimeout(run_inline_js, 100);\n    } else if (!root._bokeh_failed_load) {\n      console.log(\"Bokeh: BokehJS failed to load within specified timeout.\");\n      root._bokeh_failed_load = true;\n    } else if (force !== true) {\n      var cell = $(document.getElementById(\"1590\")).parents('.cell').data().cell;\n      cell.output_area.append_execute_result(NB_LOAD_WARNING)\n    }\n\n  }\n\n  if (root._bokeh_is_loading === 0) {\n    console.log(\"Bokeh: BokehJS loaded, going straight to plotting\");\n    run_inline_js();\n  } else {\n    load_libs(js_urls, function() {\n      console.log(\"Bokeh: BokehJS plotting callback run at\", now());\n      run_inline_js();\n    });\n  }\n}(window));",
      "application/vnd.bokehjs_load.v0+json": ""
     },
     "metadata": {},
     "output_type": "display_data"
    },
    {
     "data": {
      "text/html": [
       "\n",
       "\n",
       "\n",
       "\n",
       "\n",
       "\n",
       "  <div class=\"bk-root\" id=\"0667e951-b368-4a02-8156-a58df01fae2c\" data-root-id=\"1625\"></div>\n"
      ]
     },
     "metadata": {},
     "output_type": "display_data"
    },
    {
     "data": {
      "application/javascript": "(function(root) {\n  function embed_document(root) {\n    \n  var docs_json = {\"9adf87d0-9356-4caa-b07f-42a7e1e95895\":{\"roots\":{\"references\":[{\"attributes\":{\"above\":[{\"id\":\"1707\",\"type\":\"Legend\"}],\"below\":[{\"id\":\"1634\",\"type\":\"LinearAxis\"}],\"left\":[{\"id\":\"1639\",\"type\":\"LinearAxis\"}],\"plot_height\":320,\"plot_width\":400,\"renderers\":[{\"id\":\"1634\",\"type\":\"LinearAxis\"},{\"id\":\"1638\",\"type\":\"Grid\"},{\"id\":\"1639\",\"type\":\"LinearAxis\"},{\"id\":\"1643\",\"type\":\"Grid\"},{\"id\":\"1652\",\"type\":\"BoxAnnotation\"},{\"id\":\"1663\",\"type\":\"GlyphRenderer\"},{\"id\":\"1669\",\"type\":\"GlyphRenderer\"},{\"id\":\"1675\",\"type\":\"GlyphRenderer\"},{\"id\":\"1681\",\"type\":\"GlyphRenderer\"},{\"id\":\"1687\",\"type\":\"GlyphRenderer\"},{\"id\":\"1693\",\"type\":\"GlyphRenderer\"},{\"id\":\"1699\",\"type\":\"GlyphRenderer\"},{\"id\":\"1705\",\"type\":\"GlyphRenderer\"},{\"id\":\"1707\",\"type\":\"Legend\"}],\"title\":{\"id\":\"1759\",\"type\":\"Title\"},\"toolbar\":{\"id\":\"1650\",\"type\":\"Toolbar\"},\"x_range\":{\"id\":\"1626\",\"type\":\"DataRange1d\"},\"x_scale\":{\"id\":\"1630\",\"type\":\"LinearScale\"},\"y_range\":{\"id\":\"1628\",\"type\":\"DataRange1d\"},\"y_scale\":{\"id\":\"1632\",\"type\":\"LinearScale\"}},\"id\":\"1625\",\"subtype\":\"Figure\",\"type\":\"Plot\"},{\"attributes\":{},\"id\":\"1771\",\"type\":\"Selection\"},{\"attributes\":{},\"id\":\"1770\",\"type\":\"UnionRenderers\"},{\"attributes\":{\"axis_label\":\"Profit Buyer 1\",\"formatter\":{\"id\":\"1762\",\"type\":\"BasicTickFormatter\"},\"plot\":{\"id\":\"1625\",\"subtype\":\"Figure\",\"type\":\"Plot\"},\"ticker\":{\"id\":\"1640\",\"type\":\"BasicTicker\"}},\"id\":\"1639\",\"type\":\"LinearAxis\"},{\"attributes\":{\"fill_color\":{\"value\":\"white\"},\"size\":{\"units\":\"screen\",\"value\":7},\"x\":{\"field\":\"x_marker\"},\"y\":{\"field\":\"y_marker\"}},\"id\":\"1703\",\"type\":\"Diamond\"},{\"attributes\":{\"data_source\":{\"id\":\"1671\",\"type\":\"ColumnDataSource\"},\"glyph\":{\"id\":\"1673\",\"type\":\"Line\"},\"hover_glyph\":null,\"muted_glyph\":null,\"nonselection_glyph\":{\"id\":\"1674\",\"type\":\"Line\"},\"selection_glyph\":null,\"view\":{\"id\":\"1676\",\"type\":\"CDSView\"}},\"id\":\"1675\",\"type\":\"GlyphRenderer\"},{\"attributes\":{\"fill_color\":{\"value\":\"white\"},\"size\":{\"units\":\"screen\",\"value\":7},\"x\":{\"field\":\"x_marker\"},\"y\":{\"field\":\"y_marker\"}},\"id\":\"1685\",\"type\":\"Circle\"},{\"attributes\":{\"line_alpha\":0.1,\"line_color\":\"#1f77b4\",\"line_width\":2,\"x\":{\"field\":\"x\"},\"y\":{\"field\":\"y\"}},\"id\":\"1674\",\"type\":\"Line\"},{\"attributes\":{},\"id\":\"1778\",\"type\":\"UnionRenderers\"},{\"attributes\":{},\"id\":\"1640\",\"type\":\"BasicTicker\"},{\"attributes\":{\"fill_alpha\":{\"value\":0.1},\"fill_color\":{\"value\":\"#1f77b4\"},\"line_alpha\":{\"value\":0.1},\"line_color\":{\"value\":\"#1f77b4\"},\"size\":{\"units\":\"screen\",\"value\":7},\"x\":{\"field\":\"x_marker\"},\"y\":{\"field\":\"y_marker\"}},\"id\":\"1704\",\"type\":\"Diamond\"},{\"attributes\":{\"fill_alpha\":{\"value\":0.1},\"fill_color\":{\"value\":\"#1f77b4\"},\"line_alpha\":{\"value\":0.1},\"line_color\":{\"value\":\"#1f77b4\"},\"size\":{\"units\":\"screen\",\"value\":7},\"x\":{\"field\":\"x_marker\"},\"y\":{\"field\":\"y_marker\"}},\"id\":\"1686\",\"type\":\"Circle\"},{\"attributes\":{},\"id\":\"1779\",\"type\":\"Selection\"},{\"attributes\":{\"dimension\":1,\"plot\":{\"id\":\"1625\",\"subtype\":\"Figure\",\"type\":\"Plot\"},\"ticker\":{\"id\":\"1640\",\"type\":\"BasicTicker\"},\"visible\":false},\"id\":\"1643\",\"type\":\"Grid\"},{\"attributes\":{\"data_source\":{\"id\":\"1701\",\"type\":\"ColumnDataSource\"},\"glyph\":{\"id\":\"1703\",\"type\":\"Diamond\"},\"hover_glyph\":null,\"muted_glyph\":null,\"nonselection_glyph\":{\"id\":\"1704\",\"type\":\"Diamond\"},\"selection_glyph\":null,\"view\":{\"id\":\"1706\",\"type\":\"CDSView\"}},\"id\":\"1705\",\"type\":\"GlyphRenderer\"},{\"attributes\":{\"data_source\":{\"id\":\"1683\",\"type\":\"ColumnDataSource\"},\"glyph\":{\"id\":\"1685\",\"type\":\"Circle\"},\"hover_glyph\":null,\"muted_glyph\":null,\"nonselection_glyph\":{\"id\":\"1686\",\"type\":\"Circle\"},\"selection_glyph\":null,\"view\":{\"id\":\"1688\",\"type\":\"CDSView\"}},\"id\":\"1687\",\"type\":\"GlyphRenderer\"},{\"attributes\":{\"source\":{\"id\":\"1671\",\"type\":\"ColumnDataSource\"}},\"id\":\"1676\",\"type\":\"CDSView\"},{\"attributes\":{\"callback\":null},\"id\":\"1628\",\"type\":\"DataRange1d\"},{\"attributes\":{},\"id\":\"1780\",\"type\":\"UnionRenderers\"},{\"attributes\":{\"callback\":null,\"data\":{\"x\":[50,51,52,53,54,55,56,57,58,59,60,61,62,63,64,65,66,67,68,69,70,71,72,73,74,75,76,77,78,79,80,81,82,83,84,85,86,87,88,89,90,91,92,93,94,95,96,97,98,99,100,101,102,103,104,105,106,107,108,109,110,111,112,113,114,115,116,117,118,119,120,121,122,123,124,125,126,127,128,129,130,131,132,133,134,135,136,137,138,139],\"y\":[-348.0,-341.0,-333.0,-326.0,-318.0,-311.0,-304.0,-296.0,-289.0,-281.0,-274.0,-267.0,-260.0,-253.0,-245.0,-238.0,-231.0,-225.0,-218.0,-211.0,-204.0,-197.0,-190.0,-183.0,-177.0,-170.0,-163.0,-157.0,-150.0,-144.0,-137.0,-131.0,-125.0,-118.0,-112.0,-106.0,-100.0,-94.0,-88.0,-82.0,-76.0,-70.0,-64.0,-58.0,-52.0,-47.0,-41.0,-36.0,-30.0,-25.0,-19.0,-14.0,-9.0,-3.0,2.0,7.0,12.0,17.0,22.0,27.0,32.0,37.0,41.0,46.0,51.0,55.0,60.0,64.0,68.0,73.0,77.0,81.0,85.0,89.0,93.0,97.0,100.0,104.0,108.0,111.0,115.0,118.0,121.0,125.0,128.0,131.0,134.0,137.0,140.0,143.0]},\"selected\":{\"id\":\"1767\",\"type\":\"Selection\"},\"selection_policy\":{\"id\":\"1768\",\"type\":\"UnionRenderers\"}},\"id\":\"1665\",\"type\":\"ColumnDataSource\"},{\"attributes\":{\"source\":{\"id\":\"1701\",\"type\":\"ColumnDataSource\"}},\"id\":\"1706\",\"type\":\"CDSView\"},{\"attributes\":{\"source\":{\"id\":\"1683\",\"type\":\"ColumnDataSource\"}},\"id\":\"1688\",\"type\":\"CDSView\"},{\"attributes\":{\"callback\":null},\"id\":\"1626\",\"type\":\"DataRange1d\"},{\"attributes\":{\"callback\":null,\"data\":{\"x_marker\":[50,58,66,74,82,90,98,106,114,122,130,138],\"y_marker\":[-348.0,-289.0,-231.0,-177.0,-125.0,-76.0,-30.0,12.0,51.0,85.0,115.0,140.0]},\"selected\":{\"id\":\"1775\",\"type\":\"Selection\"},\"selection_policy\":{\"id\":\"1776\",\"type\":\"UnionRenderers\"}},\"id\":\"1689\",\"type\":\"ColumnDataSource\"},{\"attributes\":{\"plot\":null,\"text\":\"\"},\"id\":\"1759\",\"type\":\"Title\"},{\"attributes\":{\"callback\":null,\"data\":{\"x\":[50,51,52,53,54,55,56,57,58,59,60,61,62,63,64,65,66,67,68,69,70,71,72,73,74,75,76,77,78,79,80,81,82,83,84,85,86,87,88,89,90,91,92,93,94,95,96,97,98,99,100,101,102,103,104,105,106,107,108,109,110,111,112,113,114,115,116,117,118,119,120,121,122,123,124,125,126,127,128,129,130,131,132,133,134,135,136,137,138,139],\"y\":[-347.0,-339.0,-332.0,-324.0,-317.0,-309.0,-302.0,-295.0,-287.0,-280.0,-273.0,-265.0,-258.0,-251.0,-244.0,-237.0,-230.0,-223.0,-216.0,-209.0,-202.0,-195.0,-189.0,-182.0,-175.0,-168.0,-162.0,-155.0,-149.0,-142.0,-136.0,-130.0,-123.0,-117.0,-111.0,-105.0,-99.0,-93.0,-86.0,-80.0,-75.0,-69.0,-63.0,-57.0,-51.0,-46.0,-40.0,-35.0,-29.0,-24.0,-18.0,-13.0,-7.0,-2.0,3.0,8.0,13.0,18.0,23.0,28.0,33.0,38.0,42.0,47.0,52.0,56.0,61.0,65.0,69.0,74.0,78.0,82.0,86.0,90.0,94.0,97.0,101.0,105.0,108.0,112.0,115.0,119.0,122.0,125.0,129.0,132.0,135.0,138.0,141.0,144.0]},\"selected\":{\"id\":\"1765\",\"type\":\"Selection\"},\"selection_policy\":{\"id\":\"1766\",\"type\":\"UnionRenderers\"}},\"id\":\"1659\",\"type\":\"ColumnDataSource\"},{\"attributes\":{\"active_drag\":\"auto\",\"active_inspect\":\"auto\",\"active_multi\":null,\"active_scroll\":\"auto\",\"active_tap\":\"auto\",\"tools\":[{\"id\":\"1644\",\"type\":\"PanTool\"},{\"id\":\"1645\",\"type\":\"WheelZoomTool\"},{\"id\":\"1646\",\"type\":\"BoxZoomTool\"},{\"id\":\"1647\",\"type\":\"SaveTool\"},{\"id\":\"1648\",\"type\":\"ResetTool\"},{\"id\":\"1649\",\"type\":\"HelpTool\"}]},\"id\":\"1650\",\"type\":\"Toolbar\"},{\"attributes\":{},\"id\":\"1644\",\"type\":\"PanTool\"},{\"attributes\":{\"line_width\":2,\"x\":{\"field\":\"x\"},\"y\":{\"field\":\"y\"}},\"id\":\"1673\",\"type\":\"Line\"},{\"attributes\":{},\"id\":\"1773\",\"type\":\"Selection\"},{\"attributes\":{\"label\":{\"value\":\"P\"},\"renderers\":[{\"id\":\"1687\",\"type\":\"GlyphRenderer\"}]},\"id\":\"1708\",\"type\":\"LegendItem\"},{\"attributes\":{\"fill_color\":{\"value\":\"white\"},\"size\":{\"units\":\"screen\",\"value\":7},\"x\":{\"field\":\"x_marker\"},\"y\":{\"field\":\"y_marker\"}},\"id\":\"1691\",\"type\":\"Triangle\"},{\"attributes\":{},\"id\":\"1645\",\"type\":\"WheelZoomTool\"},{\"attributes\":{},\"id\":\"1777\",\"type\":\"Selection\"},{\"attributes\":{},\"id\":\"1776\",\"type\":\"UnionRenderers\"},{\"attributes\":{\"label\":{\"value\":\"L\"},\"renderers\":[{\"id\":\"1693\",\"type\":\"GlyphRenderer\"}]},\"id\":\"1709\",\"type\":\"LegendItem\"},{\"attributes\":{\"line_width\":2,\"x\":{\"field\":\"x\"},\"y\":{\"field\":\"y\"}},\"id\":\"1667\",\"type\":\"Line\"},{\"attributes\":{\"overlay\":{\"id\":\"1652\",\"type\":\"BoxAnnotation\"}},\"id\":\"1646\",\"type\":\"BoxZoomTool\"},{\"attributes\":{\"fill_alpha\":{\"value\":0.1},\"fill_color\":{\"value\":\"#1f77b4\"},\"line_alpha\":{\"value\":0.1},\"line_color\":{\"value\":\"#1f77b4\"},\"size\":{\"units\":\"screen\",\"value\":7},\"x\":{\"field\":\"x_marker\"},\"y\":{\"field\":\"y_marker\"}},\"id\":\"1692\",\"type\":\"Triangle\"},{\"attributes\":{\"label\":{\"value\":\"U\"},\"renderers\":[{\"id\":\"1699\",\"type\":\"GlyphRenderer\"}]},\"id\":\"1710\",\"type\":\"LegendItem\"},{\"attributes\":{},\"id\":\"1774\",\"type\":\"UnionRenderers\"},{\"attributes\":{\"data_source\":{\"id\":\"1689\",\"type\":\"ColumnDataSource\"},\"glyph\":{\"id\":\"1691\",\"type\":\"Triangle\"},\"hover_glyph\":null,\"muted_glyph\":null,\"nonselection_glyph\":{\"id\":\"1692\",\"type\":\"Triangle\"},\"selection_glyph\":null,\"view\":{\"id\":\"1694\",\"type\":\"CDSView\"}},\"id\":\"1693\",\"type\":\"GlyphRenderer\"},{\"attributes\":{\"items\":[{\"id\":\"1708\",\"type\":\"LegendItem\"},{\"id\":\"1709\",\"type\":\"LegendItem\"},{\"id\":\"1710\",\"type\":\"LegendItem\"},{\"id\":\"1711\",\"type\":\"LegendItem\"}],\"label_standoff\":1,\"label_text_font_size\":{\"value\":\"12px\"},\"location\":[0,0],\"orientation\":\"horizontal\",\"plot\":{\"id\":\"1625\",\"subtype\":\"Figure\",\"type\":\"Plot\"},\"spacing\":0},\"id\":\"1707\",\"type\":\"Legend\"},{\"attributes\":{},\"id\":\"1647\",\"type\":\"SaveTool\"},{\"attributes\":{\"callback\":null,\"data\":{\"x_marker\":[50,60,70,80,90,100,110,120,130],\"y_marker\":[-94.0,-5.0,70.0,131.0,178.0,212.0,232.0,239.0,239.0]},\"selected\":{\"id\":\"1779\",\"type\":\"Selection\"},\"selection_policy\":{\"id\":\"1780\",\"type\":\"UnionRenderers\"}},\"id\":\"1701\",\"type\":\"ColumnDataSource\"},{\"attributes\":{\"label\":{\"value\":\"Lx\"},\"renderers\":[{\"id\":\"1705\",\"type\":\"GlyphRenderer\"}]},\"id\":\"1711\",\"type\":\"LegendItem\"},{\"attributes\":{\"line_alpha\":0.1,\"line_color\":\"#1f77b4\",\"line_width\":2,\"x\":{\"field\":\"x\"},\"y\":{\"field\":\"y\"}},\"id\":\"1668\",\"type\":\"Line\"},{\"attributes\":{},\"id\":\"1648\",\"type\":\"ResetTool\"},{\"attributes\":{\"source\":{\"id\":\"1689\",\"type\":\"ColumnDataSource\"}},\"id\":\"1694\",\"type\":\"CDSView\"},{\"attributes\":{\"source\":{\"id\":\"1665\",\"type\":\"ColumnDataSource\"}},\"id\":\"1670\",\"type\":\"CDSView\"},{\"attributes\":{},\"id\":\"1769\",\"type\":\"Selection\"},{\"attributes\":{\"callback\":null,\"data\":{\"x_marker\":[50,62,74,86,98,110,122,134],\"y_marker\":[-347.0,-257.0,-174.0,-97.0,-27.0,35.0,88.0,130.0]},\"selected\":{\"id\":\"1777\",\"type\":\"Selection\"},\"selection_policy\":{\"id\":\"1778\",\"type\":\"UnionRenderers\"}},\"id\":\"1695\",\"type\":\"ColumnDataSource\"},{\"attributes\":{},\"id\":\"1649\",\"type\":\"HelpTool\"},{\"attributes\":{},\"id\":\"1760\",\"type\":\"BasicTickFormatter\"},{\"attributes\":{\"callback\":null,\"data\":{\"x_marker\":[50,60,70,80,90,100,110,120,130],\"y_marker\":[-347.0,-273.0,-202.0,-136.0,-75.0,-18.0,33.0,78.0,115.0]},\"selected\":{\"id\":\"1773\",\"type\":\"Selection\"},\"selection_policy\":{\"id\":\"1774\",\"type\":\"UnionRenderers\"}},\"id\":\"1683\",\"type\":\"ColumnDataSource\"},{\"attributes\":{\"data_source\":{\"id\":\"1665\",\"type\":\"ColumnDataSource\"},\"glyph\":{\"id\":\"1667\",\"type\":\"Line\"},\"hover_glyph\":null,\"muted_glyph\":null,\"nonselection_glyph\":{\"id\":\"1668\",\"type\":\"Line\"},\"selection_glyph\":null,\"view\":{\"id\":\"1670\",\"type\":\"CDSView\"}},\"id\":\"1669\",\"type\":\"GlyphRenderer\"},{\"attributes\":{},\"id\":\"1762\",\"type\":\"BasicTickFormatter\"},{\"attributes\":{\"source\":{\"id\":\"1677\",\"type\":\"ColumnDataSource\"}},\"id\":\"1682\",\"type\":\"CDSView\"},{\"attributes\":{},\"id\":\"1772\",\"type\":\"UnionRenderers\"},{\"attributes\":{\"line_width\":2,\"x\":{\"field\":\"x\"},\"y\":{\"field\":\"y\"}},\"id\":\"1661\",\"type\":\"Line\"},{\"attributes\":{\"callback\":null,\"data\":{\"x\":[50,51,52,53,54,55,56,57,58,59,60,61,62,63,64,65,66,67,68,69,70,71,72,73,74,75,76,77,78,79,80,81,82,83,84,85,86,87,88,89,90,91,92,93,94,95,96,97,98,99,100,101,102,103,104,105,106,107,108,109,110,111,112,113,114,115,116,117,118,119,120,121,122,123,124,125,126,127,128,129,130,131,132,133,134,135,136,137,138,139],\"y\":[-347.0,-339.0,-331.0,-324.0,-316.0,-309.0,-301.0,-294.0,-286.0,-279.0,-272.0,-264.0,-257.0,-250.0,-243.0,-236.0,-229.0,-222.0,-215.0,-208.0,-201.0,-194.0,-187.0,-180.0,-174.0,-167.0,-160.0,-154.0,-147.0,-141.0,-134.0,-128.0,-122.0,-115.0,-109.0,-103.0,-97.0,-91.0,-85.0,-79.0,-73.0,-67.0,-61.0,-55.0,-49.0,-44.0,-38.0,-33.0,-27.0,-22.0,-16.0,-11.0,-5.0,-0.0,5.0,10.0,15.0,20.0,25.0,30.0,35.0,40.0,44.0,49.0,54.0,58.0,63.0,67.0,71.0,76.0,80.0,84.0,88.0,92.0,95.0,99.0,103.0,107.0,110.0,114.0,117.0,121.0,124.0,127.0,130.0,133.0,136.0,139.0,142.0,145.0]},\"selected\":{\"id\":\"1769\",\"type\":\"Selection\"},\"selection_policy\":{\"id\":\"1770\",\"type\":\"UnionRenderers\"}},\"id\":\"1671\",\"type\":\"ColumnDataSource\"},{\"attributes\":{\"data_source\":{\"id\":\"1677\",\"type\":\"ColumnDataSource\"},\"glyph\":{\"id\":\"1679\",\"type\":\"Line\"},\"hover_glyph\":null,\"muted_glyph\":null,\"nonselection_glyph\":{\"id\":\"1680\",\"type\":\"Line\"},\"selection_glyph\":null,\"view\":{\"id\":\"1682\",\"type\":\"CDSView\"}},\"id\":\"1681\",\"type\":\"GlyphRenderer\"},{\"attributes\":{\"bottom_units\":\"screen\",\"fill_alpha\":{\"value\":0.5},\"fill_color\":{\"value\":\"lightgrey\"},\"left_units\":\"screen\",\"level\":\"overlay\",\"line_alpha\":{\"value\":1.0},\"line_color\":{\"value\":\"black\"},\"line_dash\":[4,4],\"line_width\":{\"value\":2},\"plot\":null,\"render_mode\":\"css\",\"right_units\":\"screen\",\"top_units\":\"screen\"},\"id\":\"1652\",\"type\":\"BoxAnnotation\"},{\"attributes\":{\"fill_color\":{\"value\":\"white\"},\"size\":{\"units\":\"screen\",\"value\":7},\"x\":{\"field\":\"x_marker\"},\"y\":{\"field\":\"y_marker\"}},\"id\":\"1697\",\"type\":\"Square\"},{\"attributes\":{},\"id\":\"1765\",\"type\":\"Selection\"},{\"attributes\":{},\"id\":\"1630\",\"type\":\"LinearScale\"},{\"attributes\":{\"line_alpha\":0.1,\"line_color\":\"#1f77b4\",\"line_width\":2,\"x\":{\"field\":\"x\"},\"y\":{\"field\":\"y\"}},\"id\":\"1680\",\"type\":\"Line\"},{\"attributes\":{\"fill_alpha\":{\"value\":0.1},\"fill_color\":{\"value\":\"#1f77b4\"},\"line_alpha\":{\"value\":0.1},\"line_color\":{\"value\":\"#1f77b4\"},\"size\":{\"units\":\"screen\",\"value\":7},\"x\":{\"field\":\"x_marker\"},\"y\":{\"field\":\"y_marker\"}},\"id\":\"1698\",\"type\":\"Square\"},{\"attributes\":{},\"id\":\"1766\",\"type\":\"UnionRenderers\"},{\"attributes\":{},\"id\":\"1632\",\"type\":\"LinearScale\"},{\"attributes\":{\"data_source\":{\"id\":\"1695\",\"type\":\"ColumnDataSource\"},\"glyph\":{\"id\":\"1697\",\"type\":\"Square\"},\"hover_glyph\":null,\"muted_glyph\":null,\"nonselection_glyph\":{\"id\":\"1698\",\"type\":\"Square\"},\"selection_glyph\":null,\"view\":{\"id\":\"1700\",\"type\":\"CDSView\"}},\"id\":\"1699\",\"type\":\"GlyphRenderer\"},{\"attributes\":{\"callback\":null,\"data\":{\"x\":[50,51,52,53,54,55,56,57,58,59,60,61,62,63,64,65,66,67,68,69,70,71,72,73,74,75,76,77,78,79,80,81,82,83,84,85,86,87,88,89,90,91,92,93,94,95,96,97,98,99,100,101,102,103,104,105,106,107,108,109,110,111,112,113,114,115,116,117,118,119,120,121,122,123,124,125,126,127,128,129,130,131,132,133,134,135,136,137,138,139],\"y\":[-94.0,-84.0,-75.0,-65.0,-56.0,-47.0,-38.0,-30.0,-21.0,-13.0,-5.0,3.0,11.0,19.0,27.0,35.0,42.0,49.0,56.0,63.0,70.0,77.0,84.0,90.0,96.0,103.0,109.0,115.0,120.0,126.0,131.0,137.0,142.0,147.0,152.0,157.0,161.0,166.0,170.0,174.0,178.0,182.0,186.0,190.0,193.0,197.0,200.0,203.0,206.0,209.0,212.0,215.0,217.0,220.0,222.0,224.0,226.0,227.0,229.0,231.0,232.0,233.0,234.0,235.0,236.0,237.0,238.0,238.0,239.0,239.0,239.0,239.0,239.0,239.0,239.0,239.0,239.0,239.0,239.0,239.0,239.0,239.0,239.0,239.0,239.0,239.0,239.0,239.0,239.0,239.0]},\"selected\":{\"id\":\"1771\",\"type\":\"Selection\"},\"selection_policy\":{\"id\":\"1772\",\"type\":\"UnionRenderers\"}},\"id\":\"1677\",\"type\":\"ColumnDataSource\"},{\"attributes\":{},\"id\":\"1767\",\"type\":\"Selection\"},{\"attributes\":{\"line_alpha\":0.1,\"line_color\":\"#1f77b4\",\"line_width\":2,\"x\":{\"field\":\"x\"},\"y\":{\"field\":\"y\"}},\"id\":\"1662\",\"type\":\"Line\"},{\"attributes\":{},\"id\":\"1775\",\"type\":\"Selection\"},{\"attributes\":{\"axis_label\":\"Capacity (k)\",\"formatter\":{\"id\":\"1760\",\"type\":\"BasicTickFormatter\"},\"plot\":{\"id\":\"1625\",\"subtype\":\"Figure\",\"type\":\"Plot\"},\"ticker\":{\"id\":\"1635\",\"type\":\"BasicTicker\"}},\"id\":\"1634\",\"type\":\"LinearAxis\"},{\"attributes\":{\"source\":{\"id\":\"1695\",\"type\":\"ColumnDataSource\"}},\"id\":\"1700\",\"type\":\"CDSView\"},{\"attributes\":{},\"id\":\"1768\",\"type\":\"UnionRenderers\"},{\"attributes\":{\"data_source\":{\"id\":\"1659\",\"type\":\"ColumnDataSource\"},\"glyph\":{\"id\":\"1661\",\"type\":\"Line\"},\"hover_glyph\":null,\"muted_glyph\":null,\"nonselection_glyph\":{\"id\":\"1662\",\"type\":\"Line\"},\"selection_glyph\":null,\"view\":{\"id\":\"1664\",\"type\":\"CDSView\"}},\"id\":\"1663\",\"type\":\"GlyphRenderer\"},{\"attributes\":{},\"id\":\"1635\",\"type\":\"BasicTicker\"},{\"attributes\":{\"line_width\":2,\"x\":{\"field\":\"x\"},\"y\":{\"field\":\"y\"}},\"id\":\"1679\",\"type\":\"Line\"},{\"attributes\":{\"source\":{\"id\":\"1659\",\"type\":\"ColumnDataSource\"}},\"id\":\"1664\",\"type\":\"CDSView\"},{\"attributes\":{\"plot\":{\"id\":\"1625\",\"subtype\":\"Figure\",\"type\":\"Plot\"},\"ticker\":{\"id\":\"1635\",\"type\":\"BasicTicker\"},\"visible\":false},\"id\":\"1638\",\"type\":\"Grid\"}],\"root_ids\":[\"1625\"]},\"title\":\"Bokeh Application\",\"version\":\"1.0.4\"}};\n  var render_items = [{\"docid\":\"9adf87d0-9356-4caa-b07f-42a7e1e95895\",\"roots\":{\"1625\":\"0667e951-b368-4a02-8156-a58df01fae2c\"}}];\n  root.Bokeh.embed.embed_items_notebook(docs_json, render_items);\n\n  }\n  if (root.Bokeh !== undefined) {\n    embed_document(root);\n  } else {\n    var attempts = 0;\n    var timer = setInterval(function(root) {\n      if (root.Bokeh !== undefined) {\n        embed_document(root);\n        clearInterval(timer);\n      }\n      attempts++;\n      if (attempts > 100) {\n        console.log(\"Bokeh: ERROR: Unable to run BokehJS code because BokehJS library is missing\");\n        clearInterval(timer);\n      }\n    }, 10, root)\n  }\n})(window);",
      "application/vnd.bokehjs_exec.v0+json": ""
     },
     "metadata": {
      "application/vnd.bokehjs_exec.v0+json": {
       "id": "1625"
      }
     },
     "output_type": "display_data"
    }
   ],
   "source": [
    "item = 4\n",
    "consider_minmax = 0\n",
    "y_min = -115\n",
    "y_max = 255\n",
    "%run Bokeh_NoStrategic.ipynb"
   ]
  },
  {
   "cell_type": "code",
   "execution_count": 115,
   "metadata": {},
   "outputs": [
    {
     "data": {
      "text/plain": [
       "'Original_Profit_Buyer_1'"
      ]
     },
     "execution_count": 115,
     "metadata": {},
     "output_type": "execute_result"
    }
   ],
   "source": [
    "'Original_'+result_selector(item).replace(\" \", \"_\")"
   ]
  },
  {
   "cell_type": "code",
   "execution_count": 119,
   "metadata": {},
   "outputs": [
    {
     "data": {
      "text/html": [
       "\n",
       "    <div class=\"bk-root\">\n",
       "        <a href=\"https://bokeh.pydata.org\" target=\"_blank\" class=\"bk-logo bk-logo-small bk-logo-notebook\"></a>\n",
       "        <span id=\"82670\">Loading BokehJS ...</span>\n",
       "    </div>"
      ]
     },
     "metadata": {},
     "output_type": "display_data"
    },
    {
     "data": {
      "application/javascript": "\n(function(root) {\n  function now() {\n    return new Date();\n  }\n\n  var force = true;\n\n  if (typeof (root._bokeh_onload_callbacks) === \"undefined\" || force === true) {\n    root._bokeh_onload_callbacks = [];\n    root._bokeh_is_loading = undefined;\n  }\n\n  var JS_MIME_TYPE = 'application/javascript';\n  var HTML_MIME_TYPE = 'text/html';\n  var EXEC_MIME_TYPE = 'application/vnd.bokehjs_exec.v0+json';\n  var CLASS_NAME = 'output_bokeh rendered_html';\n\n  /**\n   * Render data to the DOM node\n   */\n  function render(props, node) {\n    var script = document.createElement(\"script\");\n    node.appendChild(script);\n  }\n\n  /**\n   * Handle when an output is cleared or removed\n   */\n  function handleClearOutput(event, handle) {\n    var cell = handle.cell;\n\n    var id = cell.output_area._bokeh_element_id;\n    var server_id = cell.output_area._bokeh_server_id;\n    // Clean up Bokeh references\n    if (id != null && id in Bokeh.index) {\n      Bokeh.index[id].model.document.clear();\n      delete Bokeh.index[id];\n    }\n\n    if (server_id !== undefined) {\n      // Clean up Bokeh references\n      var cmd = \"from bokeh.io.state import curstate; print(curstate().uuid_to_server['\" + server_id + \"'].get_sessions()[0].document.roots[0]._id)\";\n      cell.notebook.kernel.execute(cmd, {\n        iopub: {\n          output: function(msg) {\n            var id = msg.content.text.trim();\n            if (id in Bokeh.index) {\n              Bokeh.index[id].model.document.clear();\n              delete Bokeh.index[id];\n            }\n          }\n        }\n      });\n      // Destroy server and session\n      var cmd = \"import bokeh.io.notebook as ion; ion.destroy_server('\" + server_id + \"')\";\n      cell.notebook.kernel.execute(cmd);\n    }\n  }\n\n  /**\n   * Handle when a new output is added\n   */\n  function handleAddOutput(event, handle) {\n    var output_area = handle.output_area;\n    var output = handle.output;\n\n    // limit handleAddOutput to display_data with EXEC_MIME_TYPE content only\n    if ((output.output_type != \"display_data\") || (!output.data.hasOwnProperty(EXEC_MIME_TYPE))) {\n      return\n    }\n\n    var toinsert = output_area.element.find(\".\" + CLASS_NAME.split(' ')[0]);\n\n    if (output.metadata[EXEC_MIME_TYPE][\"id\"] !== undefined) {\n      toinsert[toinsert.length - 1].firstChild.textContent = output.data[JS_MIME_TYPE];\n      // store reference to embed id on output_area\n      output_area._bokeh_element_id = output.metadata[EXEC_MIME_TYPE][\"id\"];\n    }\n    if (output.metadata[EXEC_MIME_TYPE][\"server_id\"] !== undefined) {\n      var bk_div = document.createElement(\"div\");\n      bk_div.innerHTML = output.data[HTML_MIME_TYPE];\n      var script_attrs = bk_div.children[0].attributes;\n      for (var i = 0; i < script_attrs.length; i++) {\n        toinsert[toinsert.length - 1].firstChild.setAttribute(script_attrs[i].name, script_attrs[i].value);\n      }\n      // store reference to server id on output_area\n      output_area._bokeh_server_id = output.metadata[EXEC_MIME_TYPE][\"server_id\"];\n    }\n  }\n\n  function register_renderer(events, OutputArea) {\n\n    function append_mime(data, metadata, element) {\n      // create a DOM node to render to\n      var toinsert = this.create_output_subarea(\n        metadata,\n        CLASS_NAME,\n        EXEC_MIME_TYPE\n      );\n      this.keyboard_manager.register_events(toinsert);\n      // Render to node\n      var props = {data: data, metadata: metadata[EXEC_MIME_TYPE]};\n      render(props, toinsert[toinsert.length - 1]);\n      element.append(toinsert);\n      return toinsert\n    }\n\n    /* Handle when an output is cleared or removed */\n    events.on('clear_output.CodeCell', handleClearOutput);\n    events.on('delete.Cell', handleClearOutput);\n\n    /* Handle when a new output is added */\n    events.on('output_added.OutputArea', handleAddOutput);\n\n    /**\n     * Register the mime type and append_mime function with output_area\n     */\n    OutputArea.prototype.register_mime_type(EXEC_MIME_TYPE, append_mime, {\n      /* Is output safe? */\n      safe: true,\n      /* Index of renderer in `output_area.display_order` */\n      index: 0\n    });\n  }\n\n  // register the mime type if in Jupyter Notebook environment and previously unregistered\n  if (root.Jupyter !== undefined) {\n    var events = require('base/js/events');\n    var OutputArea = require('notebook/js/outputarea').OutputArea;\n\n    if (OutputArea.prototype.mime_types().indexOf(EXEC_MIME_TYPE) == -1) {\n      register_renderer(events, OutputArea);\n    }\n  }\n\n  \n  if (typeof (root._bokeh_timeout) === \"undefined\" || force === true) {\n    root._bokeh_timeout = Date.now() + 5000;\n    root._bokeh_failed_load = false;\n  }\n\n  var NB_LOAD_WARNING = {'data': {'text/html':\n     \"<div style='background-color: #fdd'>\\n\"+\n     \"<p>\\n\"+\n     \"BokehJS does not appear to have successfully loaded. If loading BokehJS from CDN, this \\n\"+\n     \"may be due to a slow or bad network connection. Possible fixes:\\n\"+\n     \"</p>\\n\"+\n     \"<ul>\\n\"+\n     \"<li>re-rerun `output_notebook()` to attempt to load from CDN again, or</li>\\n\"+\n     \"<li>use INLINE resources instead, as so:</li>\\n\"+\n     \"</ul>\\n\"+\n     \"<code>\\n\"+\n     \"from bokeh.resources import INLINE\\n\"+\n     \"output_notebook(resources=INLINE)\\n\"+\n     \"</code>\\n\"+\n     \"</div>\"}};\n\n  function display_loaded() {\n    var el = document.getElementById(\"82670\");\n    if (el != null) {\n      el.textContent = \"BokehJS is loading...\";\n    }\n    if (root.Bokeh !== undefined) {\n      if (el != null) {\n        el.textContent = \"BokehJS \" + root.Bokeh.version + \" successfully loaded.\";\n      }\n    } else if (Date.now() < root._bokeh_timeout) {\n      setTimeout(display_loaded, 100)\n    }\n  }\n\n\n  function run_callbacks() {\n    try {\n      root._bokeh_onload_callbacks.forEach(function(callback) { callback() });\n    }\n    finally {\n      delete root._bokeh_onload_callbacks\n    }\n    console.info(\"Bokeh: all callbacks have finished\");\n  }\n\n  function load_libs(js_urls, callback) {\n    root._bokeh_onload_callbacks.push(callback);\n    if (root._bokeh_is_loading > 0) {\n      console.log(\"Bokeh: BokehJS is being loaded, scheduling callback at\", now());\n      return null;\n    }\n    if (js_urls == null || js_urls.length === 0) {\n      run_callbacks();\n      return null;\n    }\n    console.log(\"Bokeh: BokehJS not loaded, scheduling load and callback at\", now());\n    root._bokeh_is_loading = js_urls.length;\n    for (var i = 0; i < js_urls.length; i++) {\n      var url = js_urls[i];\n      var s = document.createElement('script');\n      s.src = url;\n      s.async = false;\n      s.onreadystatechange = s.onload = function() {\n        root._bokeh_is_loading--;\n        if (root._bokeh_is_loading === 0) {\n          console.log(\"Bokeh: all BokehJS libraries loaded\");\n          run_callbacks()\n        }\n      };\n      s.onerror = function() {\n        console.warn(\"failed to load library \" + url);\n      };\n      console.log(\"Bokeh: injecting script tag for BokehJS library: \", url);\n      document.getElementsByTagName(\"head\")[0].appendChild(s);\n    }\n  };var element = document.getElementById(\"82670\");\n  if (element == null) {\n    console.log(\"Bokeh: ERROR: autoload.js configured with elementid '82670' but no matching script tag was found. \")\n    return false;\n  }\n\n  var js_urls = [\"https://cdn.pydata.org/bokeh/release/bokeh-1.0.4.min.js\", \"https://cdn.pydata.org/bokeh/release/bokeh-widgets-1.0.4.min.js\", \"https://cdn.pydata.org/bokeh/release/bokeh-tables-1.0.4.min.js\", \"https://cdn.pydata.org/bokeh/release/bokeh-gl-1.0.4.min.js\"];\n\n  var inline_js = [\n    function(Bokeh) {\n      Bokeh.set_log_level(\"info\");\n    },\n    \n    function(Bokeh) {\n      \n    },\n    function(Bokeh) {\n      console.log(\"Bokeh: injecting CSS: https://cdn.pydata.org/bokeh/release/bokeh-1.0.4.min.css\");\n      Bokeh.embed.inject_css(\"https://cdn.pydata.org/bokeh/release/bokeh-1.0.4.min.css\");\n      console.log(\"Bokeh: injecting CSS: https://cdn.pydata.org/bokeh/release/bokeh-widgets-1.0.4.min.css\");\n      Bokeh.embed.inject_css(\"https://cdn.pydata.org/bokeh/release/bokeh-widgets-1.0.4.min.css\");\n      console.log(\"Bokeh: injecting CSS: https://cdn.pydata.org/bokeh/release/bokeh-tables-1.0.4.min.css\");\n      Bokeh.embed.inject_css(\"https://cdn.pydata.org/bokeh/release/bokeh-tables-1.0.4.min.css\");\n    }\n  ];\n\n  function run_inline_js() {\n    \n    if ((root.Bokeh !== undefined) || (force === true)) {\n      for (var i = 0; i < inline_js.length; i++) {\n        inline_js[i].call(root, root.Bokeh);\n      }if (force === true) {\n        display_loaded();\n      }} else if (Date.now() < root._bokeh_timeout) {\n      setTimeout(run_inline_js, 100);\n    } else if (!root._bokeh_failed_load) {\n      console.log(\"Bokeh: BokehJS failed to load within specified timeout.\");\n      root._bokeh_failed_load = true;\n    } else if (force !== true) {\n      var cell = $(document.getElementById(\"82670\")).parents('.cell').data().cell;\n      cell.output_area.append_execute_result(NB_LOAD_WARNING)\n    }\n\n  }\n\n  if (root._bokeh_is_loading === 0) {\n    console.log(\"Bokeh: BokehJS loaded, going straight to plotting\");\n    run_inline_js();\n  } else {\n    load_libs(js_urls, function() {\n      console.log(\"Bokeh: BokehJS plotting callback run at\", now());\n      run_inline_js();\n    });\n  }\n}(window));",
      "application/vnd.bokehjs_load.v0+json": ""
     },
     "metadata": {},
     "output_type": "display_data"
    },
    {
     "data": {
      "text/html": [
       "\n",
       "\n",
       "\n",
       "\n",
       "\n",
       "\n",
       "  <div class=\"bk-root\" id=\"57f41be2-bce5-4d5f-9919-c4a09de19005\" data-root-id=\"82705\"></div>\n"
      ]
     },
     "metadata": {},
     "output_type": "display_data"
    },
    {
     "data": {
      "application/javascript": "(function(root) {\n  function embed_document(root) {\n    \n  var docs_json = {\"af01d800-094d-4f02-b208-86b903c8e735\":{\"roots\":{\"references\":[{\"attributes\":{\"above\":[{\"id\":\"82787\",\"type\":\"Legend\"}],\"below\":[{\"id\":\"82714\",\"type\":\"LinearAxis\"}],\"left\":[{\"id\":\"82719\",\"type\":\"LinearAxis\"}],\"plot_height\":320,\"plot_width\":400,\"renderers\":[{\"id\":\"82714\",\"type\":\"LinearAxis\"},{\"id\":\"82718\",\"type\":\"Grid\"},{\"id\":\"82719\",\"type\":\"LinearAxis\"},{\"id\":\"82723\",\"type\":\"Grid\"},{\"id\":\"82732\",\"type\":\"BoxAnnotation\"},{\"id\":\"82743\",\"type\":\"GlyphRenderer\"},{\"id\":\"82749\",\"type\":\"GlyphRenderer\"},{\"id\":\"82755\",\"type\":\"GlyphRenderer\"},{\"id\":\"82761\",\"type\":\"GlyphRenderer\"},{\"id\":\"82767\",\"type\":\"GlyphRenderer\"},{\"id\":\"82773\",\"type\":\"GlyphRenderer\"},{\"id\":\"82779\",\"type\":\"GlyphRenderer\"},{\"id\":\"82785\",\"type\":\"GlyphRenderer\"},{\"id\":\"82787\",\"type\":\"Legend\"}],\"title\":{\"id\":\"84430\",\"type\":\"Title\"},\"toolbar\":{\"id\":\"82730\",\"type\":\"Toolbar\"},\"x_range\":{\"id\":\"82706\",\"type\":\"DataRange1d\"},\"x_scale\":{\"id\":\"82710\",\"type\":\"LinearScale\"},\"y_range\":{\"id\":\"82708\",\"type\":\"Range1d\"},\"y_scale\":{\"id\":\"82712\",\"type\":\"LinearScale\"}},\"id\":\"82705\",\"subtype\":\"Figure\",\"type\":\"Plot\"},{\"attributes\":{},\"id\":\"82712\",\"type\":\"LinearScale\"},{\"attributes\":{\"line_alpha\":0.1,\"line_color\":\"#1f77b4\",\"line_width\":2,\"x\":{\"field\":\"x\"},\"y\":{\"field\":\"y\"}},\"id\":\"82760\",\"type\":\"Line\"},{\"attributes\":{\"line_alpha\":0.1,\"line_color\":\"#1f77b4\",\"line_width\":2,\"x\":{\"field\":\"x\"},\"y\":{\"field\":\"y\"}},\"id\":\"82742\",\"type\":\"Line\"},{\"attributes\":{\"fill_alpha\":{\"value\":0.1},\"fill_color\":{\"value\":\"#1f77b4\"},\"line_alpha\":{\"value\":0.1},\"line_color\":{\"value\":\"#1f77b4\"},\"size\":{\"units\":\"screen\",\"value\":7},\"x\":{\"field\":\"x_marker\"},\"y\":{\"field\":\"y_marker\"}},\"id\":\"82778\",\"type\":\"Square\"},{\"attributes\":{},\"id\":\"84446\",\"type\":\"UnionRenderers\"},{\"attributes\":{\"axis_label\":\"Capacity (k)\",\"formatter\":{\"id\":\"84432\",\"type\":\"BasicTickFormatter\"},\"plot\":{\"id\":\"82705\",\"subtype\":\"Figure\",\"type\":\"Plot\"},\"ticker\":{\"id\":\"82715\",\"type\":\"BasicTicker\"}},\"id\":\"82714\",\"type\":\"LinearAxis\"},{\"attributes\":{\"data_source\":{\"id\":\"82757\",\"type\":\"ColumnDataSource\"},\"glyph\":{\"id\":\"82759\",\"type\":\"Line\"},\"hover_glyph\":null,\"muted_glyph\":null,\"nonselection_glyph\":{\"id\":\"82760\",\"type\":\"Line\"},\"selection_glyph\":null,\"view\":{\"id\":\"82762\",\"type\":\"CDSView\"}},\"id\":\"82761\",\"type\":\"GlyphRenderer\"},{\"attributes\":{\"data_source\":{\"id\":\"82739\",\"type\":\"ColumnDataSource\"},\"glyph\":{\"id\":\"82741\",\"type\":\"Line\"},\"hover_glyph\":null,\"muted_glyph\":null,\"nonselection_glyph\":{\"id\":\"82742\",\"type\":\"Line\"},\"selection_glyph\":null,\"view\":{\"id\":\"82744\",\"type\":\"CDSView\"}},\"id\":\"82743\",\"type\":\"GlyphRenderer\"},{\"attributes\":{\"data_source\":{\"id\":\"82775\",\"type\":\"ColumnDataSource\"},\"glyph\":{\"id\":\"82777\",\"type\":\"Square\"},\"hover_glyph\":null,\"muted_glyph\":null,\"nonselection_glyph\":{\"id\":\"82778\",\"type\":\"Square\"},\"selection_glyph\":null,\"view\":{\"id\":\"82780\",\"type\":\"CDSView\"}},\"id\":\"82779\",\"type\":\"GlyphRenderer\"},{\"attributes\":{},\"id\":\"82715\",\"type\":\"BasicTicker\"},{\"attributes\":{\"source\":{\"id\":\"82757\",\"type\":\"ColumnDataSource\"}},\"id\":\"82762\",\"type\":\"CDSView\"},{\"attributes\":{\"source\":{\"id\":\"82739\",\"type\":\"ColumnDataSource\"}},\"id\":\"82744\",\"type\":\"CDSView\"},{\"attributes\":{\"source\":{\"id\":\"82775\",\"type\":\"ColumnDataSource\"}},\"id\":\"82780\",\"type\":\"CDSView\"},{\"attributes\":{\"plot\":{\"id\":\"82705\",\"subtype\":\"Figure\",\"type\":\"Plot\"},\"ticker\":{\"id\":\"82715\",\"type\":\"BasicTicker\"},\"visible\":false},\"id\":\"82718\",\"type\":\"Grid\"},{\"attributes\":{\"callback\":null,\"data\":{\"x_marker\":[50,60,70,80,90,100,110,120,130],\"y_marker\":[3.0,32.0,60.0,86.0,110.0,133.0,153.0,171.0,186.0]},\"selected\":{\"id\":\"84445\",\"type\":\"Selection\"},\"selection_policy\":{\"id\":\"84444\",\"type\":\"UnionRenderers\"}},\"id\":\"82763\",\"type\":\"ColumnDataSource\"},{\"attributes\":{\"callback\":null,\"data\":{\"x\":[50,51,52,53,54,55,56,57,58,59,60,61,62,63,64,65,66,67,68,69,70,71,72,73,74,75,76,77,78,79,80,81,82,83,84,85,86,87,88,89,90,91,92,93,94,95,96,97,98,99,100,101,102,103,104,105,106,107,108,109,110,111,112,113,114,115,116,117,118,119,120,121,122,123,124,125,126,127,128,129,130,131,132,133,134,135,136,137,138,139],\"y\":[1.0,4.0,7.0,10.0,13.0,15.0,18.0,21.0,24.0,27.0,30.0,33.0,35.0,38.0,41.0,44.0,47.0,50.0,52.0,55.0,58.0,61.0,63.0,66.0,69.0,72.0,74.0,77.0,79.0,82.0,85.0,87.0,90.0,92.0,95.0,97.0,100.0,102.0,104.0,107.0,109.0,112.0,114.0,116.0,119.0,121.0,123.0,125.0,128.0,130.0,132.0,134.0,136.0,138.0,140.0,143.0,145.0,147.0,149.0,151.0,153.0,154.0,156.0,158.0,160.0,162.0,164.0,165.0,167.0,169.0,171.0,172.0,174.0,176.0,177.0,179.0,180.0,182.0,183.0,185.0,186.0,188.0,189.0,190.0,192.0,193.0,194.0,196.0,197.0,198.0]},\"selected\":{\"id\":\"84439\",\"type\":\"Selection\"},\"selection_policy\":{\"id\":\"84438\",\"type\":\"UnionRenderers\"}},\"id\":\"82745\",\"type\":\"ColumnDataSource\"},{\"attributes\":{\"callback\":null,\"data\":{\"x_marker\":[50,60,70,80,90,100,110,120,130],\"y_marker\":[-98.0,-76.0,-52.0,-25.0,4.0,35.0,68.0,102.0,133.0]},\"selected\":{\"id\":\"84451\",\"type\":\"Selection\"},\"selection_policy\":{\"id\":\"84450\",\"type\":\"UnionRenderers\"}},\"id\":\"82781\",\"type\":\"ColumnDataSource\"},{\"attributes\":{},\"id\":\"84451\",\"type\":\"Selection\"},{\"attributes\":{\"axis_label\":\"Profit Buyer 2\",\"formatter\":{\"id\":\"84434\",\"type\":\"BasicTickFormatter\"},\"plot\":{\"id\":\"82705\",\"subtype\":\"Figure\",\"type\":\"Plot\"},\"ticker\":{\"id\":\"82720\",\"type\":\"BasicTicker\"}},\"id\":\"82719\",\"type\":\"LinearAxis\"},{\"attributes\":{},\"id\":\"84438\",\"type\":\"UnionRenderers\"},{\"attributes\":{},\"id\":\"84441\",\"type\":\"Selection\"},{\"attributes\":{},\"id\":\"82720\",\"type\":\"BasicTicker\"},{\"attributes\":{\"fill_color\":{\"value\":\"white\"},\"size\":{\"units\":\"screen\",\"value\":7},\"x\":{\"field\":\"x_marker\"},\"y\":{\"field\":\"y_marker\"}},\"id\":\"82765\",\"type\":\"Circle\"},{\"attributes\":{\"line_width\":2,\"x\":{\"field\":\"x\"},\"y\":{\"field\":\"y\"}},\"id\":\"82747\",\"type\":\"Line\"},{\"attributes\":{\"fill_color\":{\"value\":\"white\"},\"size\":{\"units\":\"screen\",\"value\":7},\"x\":{\"field\":\"x_marker\"},\"y\":{\"field\":\"y_marker\"}},\"id\":\"82783\",\"type\":\"Diamond\"},{\"attributes\":{\"dimension\":1,\"plot\":{\"id\":\"82705\",\"subtype\":\"Figure\",\"type\":\"Plot\"},\"ticker\":{\"id\":\"82720\",\"type\":\"BasicTicker\"},\"visible\":false},\"id\":\"82723\",\"type\":\"Grid\"},{\"attributes\":{\"fill_alpha\":{\"value\":0.1},\"fill_color\":{\"value\":\"#1f77b4\"},\"line_alpha\":{\"value\":0.1},\"line_color\":{\"value\":\"#1f77b4\"},\"size\":{\"units\":\"screen\",\"value\":7},\"x\":{\"field\":\"x_marker\"},\"y\":{\"field\":\"y_marker\"}},\"id\":\"82766\",\"type\":\"Circle\"},{\"attributes\":{\"line_alpha\":0.1,\"line_color\":\"#1f77b4\",\"line_width\":2,\"x\":{\"field\":\"x\"},\"y\":{\"field\":\"y\"}},\"id\":\"82748\",\"type\":\"Line\"},{\"attributes\":{\"fill_alpha\":{\"value\":0.1},\"fill_color\":{\"value\":\"#1f77b4\"},\"line_alpha\":{\"value\":0.1},\"line_color\":{\"value\":\"#1f77b4\"},\"size\":{\"units\":\"screen\",\"value\":7},\"x\":{\"field\":\"x_marker\"},\"y\":{\"field\":\"y_marker\"}},\"id\":\"82784\",\"type\":\"Diamond\"},{\"attributes\":{\"callback\":null,\"end\":255,\"start\":-115},\"id\":\"82708\",\"type\":\"Range1d\"},{\"attributes\":{\"data_source\":{\"id\":\"82763\",\"type\":\"ColumnDataSource\"},\"glyph\":{\"id\":\"82765\",\"type\":\"Circle\"},\"hover_glyph\":null,\"muted_glyph\":null,\"nonselection_glyph\":{\"id\":\"82766\",\"type\":\"Circle\"},\"selection_glyph\":null,\"view\":{\"id\":\"82768\",\"type\":\"CDSView\"}},\"id\":\"82767\",\"type\":\"GlyphRenderer\"},{\"attributes\":{\"line_width\":2,\"x\":{\"field\":\"x\"},\"y\":{\"field\":\"y\"}},\"id\":\"82759\",\"type\":\"Line\"},{\"attributes\":{\"data_source\":{\"id\":\"82745\",\"type\":\"ColumnDataSource\"},\"glyph\":{\"id\":\"82747\",\"type\":\"Line\"},\"hover_glyph\":null,\"muted_glyph\":null,\"nonselection_glyph\":{\"id\":\"82748\",\"type\":\"Line\"},\"selection_glyph\":null,\"view\":{\"id\":\"82750\",\"type\":\"CDSView\"}},\"id\":\"82749\",\"type\":\"GlyphRenderer\"},{\"attributes\":{\"data_source\":{\"id\":\"82781\",\"type\":\"ColumnDataSource\"},\"glyph\":{\"id\":\"82783\",\"type\":\"Diamond\"},\"hover_glyph\":null,\"muted_glyph\":null,\"nonselection_glyph\":{\"id\":\"82784\",\"type\":\"Diamond\"},\"selection_glyph\":null,\"view\":{\"id\":\"82786\",\"type\":\"CDSView\"}},\"id\":\"82785\",\"type\":\"GlyphRenderer\"},{\"attributes\":{},\"id\":\"84442\",\"type\":\"UnionRenderers\"},{\"attributes\":{\"callback\":null},\"id\":\"82706\",\"type\":\"DataRange1d\"},{\"attributes\":{\"source\":{\"id\":\"82763\",\"type\":\"ColumnDataSource\"}},\"id\":\"82768\",\"type\":\"CDSView\"},{\"attributes\":{\"source\":{\"id\":\"82745\",\"type\":\"ColumnDataSource\"}},\"id\":\"82750\",\"type\":\"CDSView\"},{\"attributes\":{\"callback\":null,\"data\":{\"x\":[50,51,52,53,54,55,56,57,58,59,60,61,62,63,64,65,66,67,68,69,70,71,72,73,74,75,76,77,78,79,80,81,82,83,84,85,86,87,88,89,90,91,92,93,94,95,96,97,98,99,100,101,102,103,104,105,106,107,108,109,110,111,112,113,114,115,116,117,118,119,120,121,122,123,124,125,126,127,128,129,130,131,132,133,134,135,136,137,138,139],\"y\":[3.0,6.0,9.0,12.0,15.0,18.0,21.0,24.0,26.0,29.0,32.0,35.0,38.0,41.0,43.0,46.0,49.0,52.0,54.0,57.0,60.0,63.0,65.0,68.0,71.0,73.0,76.0,78.0,81.0,83.0,86.0,89.0,91.0,93.0,96.0,98.0,101.0,103.0,105.0,108.0,110.0,113.0,115.0,117.0,119.0,122.0,124.0,126.0,128.0,130.0,133.0,135.0,137.0,139.0,141.0,143.0,145.0,147.0,149.0,151.0,153.0,155.0,157.0,159.0,161.0,162.0,164.0,166.0,168.0,169.0,171.0,173.0,174.0,176.0,178.0,179.0,181.0,182.0,184.0,185.0,186.0,188.0,189.0,191.0,192.0,193.0,194.0,196.0,197.0,198.0]},\"selected\":{\"id\":\"84437\",\"type\":\"Selection\"},\"selection_policy\":{\"id\":\"84436\",\"type\":\"UnionRenderers\"}},\"id\":\"82739\",\"type\":\"ColumnDataSource\"},{\"attributes\":{\"source\":{\"id\":\"82781\",\"type\":\"ColumnDataSource\"}},\"id\":\"82786\",\"type\":\"CDSView\"},{\"attributes\":{},\"id\":\"84443\",\"type\":\"Selection\"},{\"attributes\":{\"active_drag\":\"auto\",\"active_inspect\":\"auto\",\"active_multi\":null,\"active_scroll\":\"auto\",\"active_tap\":\"auto\",\"tools\":[{\"id\":\"82724\",\"type\":\"PanTool\"},{\"id\":\"82725\",\"type\":\"WheelZoomTool\"},{\"id\":\"82726\",\"type\":\"BoxZoomTool\"},{\"id\":\"82727\",\"type\":\"SaveTool\"},{\"id\":\"82728\",\"type\":\"ResetTool\"},{\"id\":\"82729\",\"type\":\"HelpTool\"}]},\"id\":\"82730\",\"type\":\"Toolbar\"},{\"attributes\":{\"callback\":null,\"data\":{\"x_marker\":[50,58,66,74,82,90,98,106,114,122,130,138],\"y_marker\":[1.0,24.0,47.0,69.0,90.0,109.0,128.0,145.0,160.0,174.0,186.0,197.0]},\"selected\":{\"id\":\"84447\",\"type\":\"Selection\"},\"selection_policy\":{\"id\":\"84446\",\"type\":\"UnionRenderers\"}},\"id\":\"82769\",\"type\":\"ColumnDataSource\"},{\"attributes\":{\"callback\":null,\"data\":{\"x\":[50,51,52,53,54,55,56,57,58,59,60,61,62,63,64,65,66,67,68,69,70,71,72,73,74,75,76,77,78,79,80,81,82,83,84,85,86,87,88,89,90,91,92,93,94,95,96,97,98,99,100,101,102,103,104,105,106,107,108,109,110,111,112,113,114,115,116,117,118,119,120,121,122,123,124,125,126,127,128,129,130,131,132,133,134,135,136,137,138,139],\"y\":[5.0,8.0,11.0,14.0,16.0,19.0,22.0,25.0,28.0,31.0,34.0,37.0,39.0,42.0,45.0,48.0,51.0,53.0,56.0,59.0,61.0,64.0,67.0,69.0,72.0,75.0,77.0,80.0,82.0,85.0,87.0,90.0,92.0,95.0,97.0,100.0,102.0,104.0,107.0,109.0,111.0,114.0,116.0,118.0,121.0,123.0,125.0,127.0,130.0,132.0,134.0,136.0,138.0,140.0,142.0,144.0,146.0,148.0,150.0,152.0,154.0,156.0,158.0,160.0,162.0,163.0,165.0,167.0,169.0,170.0,172.0,174.0,175.0,177.0,178.0,180.0,181.0,183.0,184.0,186.0,187.0,188.0,190.0,191.0,192.0,194.0,195.0,196.0,197.0,199.0]},\"selected\":{\"id\":\"84441\",\"type\":\"Selection\"},\"selection_policy\":{\"id\":\"84440\",\"type\":\"UnionRenderers\"}},\"id\":\"82751\",\"type\":\"ColumnDataSource\"},{\"attributes\":{},\"id\":\"82724\",\"type\":\"PanTool\"},{\"attributes\":{},\"id\":\"84432\",\"type\":\"BasicTickFormatter\"},{\"attributes\":{},\"id\":\"84444\",\"type\":\"UnionRenderers\"},{\"attributes\":{},\"id\":\"84437\",\"type\":\"Selection\"},{\"attributes\":{},\"id\":\"84440\",\"type\":\"UnionRenderers\"},{\"attributes\":{},\"id\":\"82725\",\"type\":\"WheelZoomTool\"},{\"attributes\":{},\"id\":\"84445\",\"type\":\"Selection\"},{\"attributes\":{\"fill_color\":{\"value\":\"white\"},\"size\":{\"units\":\"screen\",\"value\":7},\"x\":{\"field\":\"x_marker\"},\"y\":{\"field\":\"y_marker\"}},\"id\":\"82771\",\"type\":\"Triangle\"},{\"attributes\":{\"label\":{\"value\":\"P\"},\"renderers\":[{\"id\":\"82767\",\"type\":\"GlyphRenderer\"}]},\"id\":\"82788\",\"type\":\"LegendItem\"},{\"attributes\":{\"overlay\":{\"id\":\"82732\",\"type\":\"BoxAnnotation\"}},\"id\":\"82726\",\"type\":\"BoxZoomTool\"},{\"attributes\":{\"line_width\":2,\"x\":{\"field\":\"x\"},\"y\":{\"field\":\"y\"}},\"id\":\"82753\",\"type\":\"Line\"},{\"attributes\":{},\"id\":\"84447\",\"type\":\"Selection\"},{\"attributes\":{\"fill_alpha\":{\"value\":0.1},\"fill_color\":{\"value\":\"#1f77b4\"},\"line_alpha\":{\"value\":0.1},\"line_color\":{\"value\":\"#1f77b4\"},\"size\":{\"units\":\"screen\",\"value\":7},\"x\":{\"field\":\"x_marker\"},\"y\":{\"field\":\"y_marker\"}},\"id\":\"82772\",\"type\":\"Triangle\"},{\"attributes\":{\"label\":{\"value\":\"L\"},\"renderers\":[{\"id\":\"82773\",\"type\":\"GlyphRenderer\"}]},\"id\":\"82789\",\"type\":\"LegendItem\"},{\"attributes\":{},\"id\":\"82727\",\"type\":\"SaveTool\"},{\"attributes\":{\"line_alpha\":0.1,\"line_color\":\"#1f77b4\",\"line_width\":2,\"x\":{\"field\":\"x\"},\"y\":{\"field\":\"y\"}},\"id\":\"82754\",\"type\":\"Line\"},{\"attributes\":{},\"id\":\"84448\",\"type\":\"UnionRenderers\"},{\"attributes\":{\"data_source\":{\"id\":\"82769\",\"type\":\"ColumnDataSource\"},\"glyph\":{\"id\":\"82771\",\"type\":\"Triangle\"},\"hover_glyph\":null,\"muted_glyph\":null,\"nonselection_glyph\":{\"id\":\"82772\",\"type\":\"Triangle\"},\"selection_glyph\":null,\"view\":{\"id\":\"82774\",\"type\":\"CDSView\"}},\"id\":\"82773\",\"type\":\"GlyphRenderer\"},{\"attributes\":{\"data_source\":{\"id\":\"82751\",\"type\":\"ColumnDataSource\"},\"glyph\":{\"id\":\"82753\",\"type\":\"Line\"},\"hover_glyph\":null,\"muted_glyph\":null,\"nonselection_glyph\":{\"id\":\"82754\",\"type\":\"Line\"},\"selection_glyph\":null,\"view\":{\"id\":\"82756\",\"type\":\"CDSView\"}},\"id\":\"82755\",\"type\":\"GlyphRenderer\"},{\"attributes\":{},\"id\":\"82728\",\"type\":\"ResetTool\"},{\"attributes\":{\"label\":{\"value\":\"U\"},\"renderers\":[{\"id\":\"82779\",\"type\":\"GlyphRenderer\"}]},\"id\":\"82790\",\"type\":\"LegendItem\"},{\"attributes\":{},\"id\":\"84449\",\"type\":\"Selection\"},{\"attributes\":{\"items\":[{\"id\":\"82788\",\"type\":\"LegendItem\"},{\"id\":\"82789\",\"type\":\"LegendItem\"},{\"id\":\"82790\",\"type\":\"LegendItem\"},{\"id\":\"82791\",\"type\":\"LegendItem\"}],\"label_standoff\":1,\"label_text_font_size\":{\"value\":\"12px\"},\"location\":[0,0],\"orientation\":\"horizontal\",\"plot\":{\"id\":\"82705\",\"subtype\":\"Figure\",\"type\":\"Plot\"},\"spacing\":0},\"id\":\"82787\",\"type\":\"Legend\"},{\"attributes\":{\"plot\":null,\"text\":\"\"},\"id\":\"84430\",\"type\":\"Title\"},{\"attributes\":{\"label\":{\"value\":\"Lx\"},\"renderers\":[{\"id\":\"82785\",\"type\":\"GlyphRenderer\"}]},\"id\":\"82791\",\"type\":\"LegendItem\"},{\"attributes\":{},\"id\":\"82729\",\"type\":\"HelpTool\"},{\"attributes\":{\"source\":{\"id\":\"82751\",\"type\":\"ColumnDataSource\"}},\"id\":\"82756\",\"type\":\"CDSView\"},{\"attributes\":{\"source\":{\"id\":\"82769\",\"type\":\"ColumnDataSource\"}},\"id\":\"82774\",\"type\":\"CDSView\"},{\"attributes\":{},\"id\":\"84450\",\"type\":\"UnionRenderers\"},{\"attributes\":{\"callback\":null,\"data\":{\"x_marker\":[50,62,74,86,98,110,122,134],\"y_marker\":[5.0,39.0,72.0,102.0,130.0,154.0,175.0,192.0]},\"selected\":{\"id\":\"84449\",\"type\":\"Selection\"},\"selection_policy\":{\"id\":\"84448\",\"type\":\"UnionRenderers\"}},\"id\":\"82775\",\"type\":\"ColumnDataSource\"},{\"attributes\":{\"callback\":null,\"data\":{\"x\":[50,51,52,53,54,55,56,57,58,59,60,61,62,63,64,65,66,67,68,69,70,71,72,73,74,75,76,77,78,79,80,81,82,83,84,85,86,87,88,89,90,91,92,93,94,95,96,97,98,99,100,101,102,103,104,105,106,107,108,109,110,111,112,113,114,115,116,117,118,119,120,121,122,123,124,125,126,127,128,129,130,131,132,133,134,135,136,137,138,139],\"y\":[-98.0,-96.0,-94.0,-92.0,-89.0,-87.0,-85.0,-83.0,-81.0,-79.0,-76.0,-74.0,-72.0,-69.0,-67.0,-64.0,-62.0,-59.0,-57.0,-54.0,-52.0,-49.0,-47.0,-44.0,-41.0,-39.0,-36.0,-33.0,-31.0,-28.0,-25.0,-22.0,-19.0,-17.0,-14.0,-11.0,-8.0,-5.0,-2.0,1.0,4.0,7.0,10.0,13.0,16.0,19.0,23.0,26.0,29.0,32.0,35.0,38.0,42.0,45.0,48.0,51.0,55.0,58.0,61.0,65.0,68.0,71.0,75.0,78.0,81.0,85.0,88.0,92.0,95.0,98.0,102.0,105.0,108.0,112.0,115.0,118.0,121.0,124.0,127.0,130.0,133.0,136.0,139.0,141.0,144.0,147.0,149.0,152.0,154.0,157.0]},\"selected\":{\"id\":\"84443\",\"type\":\"Selection\"},\"selection_policy\":{\"id\":\"84442\",\"type\":\"UnionRenderers\"}},\"id\":\"82757\",\"type\":\"ColumnDataSource\"},{\"attributes\":{},\"id\":\"84434\",\"type\":\"BasicTickFormatter\"},{\"attributes\":{\"line_width\":2,\"x\":{\"field\":\"x\"},\"y\":{\"field\":\"y\"}},\"id\":\"82741\",\"type\":\"Line\"},{\"attributes\":{},\"id\":\"84436\",\"type\":\"UnionRenderers\"},{\"attributes\":{},\"id\":\"84439\",\"type\":\"Selection\"},{\"attributes\":{\"bottom_units\":\"screen\",\"fill_alpha\":{\"value\":0.5},\"fill_color\":{\"value\":\"lightgrey\"},\"left_units\":\"screen\",\"level\":\"overlay\",\"line_alpha\":{\"value\":1.0},\"line_color\":{\"value\":\"black\"},\"line_dash\":[4,4],\"line_width\":{\"value\":2},\"plot\":null,\"render_mode\":\"css\",\"right_units\":\"screen\",\"top_units\":\"screen\"},\"id\":\"82732\",\"type\":\"BoxAnnotation\"},{\"attributes\":{\"fill_color\":{\"value\":\"white\"},\"size\":{\"units\":\"screen\",\"value\":7},\"x\":{\"field\":\"x_marker\"},\"y\":{\"field\":\"y_marker\"}},\"id\":\"82777\",\"type\":\"Square\"},{\"attributes\":{},\"id\":\"82710\",\"type\":\"LinearScale\"}],\"root_ids\":[\"82705\"]},\"title\":\"Bokeh Application\",\"version\":\"1.0.4\"}};\n  var render_items = [{\"docid\":\"af01d800-094d-4f02-b208-86b903c8e735\",\"roots\":{\"82705\":\"57f41be2-bce5-4d5f-9919-c4a09de19005\"}}];\n  root.Bokeh.embed.embed_items_notebook(docs_json, render_items);\n\n  }\n  if (root.Bokeh !== undefined) {\n    embed_document(root);\n  } else {\n    var attempts = 0;\n    var timer = setInterval(function(root) {\n      if (root.Bokeh !== undefined) {\n        embed_document(root);\n        clearInterval(timer);\n      }\n      attempts++;\n      if (attempts > 100) {\n        console.log(\"Bokeh: ERROR: Unable to run BokehJS code because BokehJS library is missing\");\n        clearInterval(timer);\n      }\n    }, 10, root)\n  }\n})(window);",
      "application/vnd.bokehjs_exec.v0+json": ""
     },
     "metadata": {
      "application/vnd.bokehjs_exec.v0+json": {
       "id": "82705"
      }
     },
     "output_type": "display_data"
    }
   ],
   "source": [
    "item = 8\n",
    "%run Bokeh_NoStrategic.ipynb"
   ]
  },
  {
   "cell_type": "code",
   "execution_count": 117,
   "metadata": {},
   "outputs": [
    {
     "data": {
      "text/plain": [
       "'Original_Profit_Buyer_2'"
      ]
     },
     "execution_count": 117,
     "metadata": {},
     "output_type": "execute_result"
    }
   ],
   "source": [
    "'Original_'+result_selector(item).replace(\" \", \"_\")"
   ]
  },
  {
   "cell_type": "markdown",
   "metadata": {},
   "source": [
    "#### Quantum"
   ]
  },
  {
   "cell_type": "code",
   "execution_count": 26,
   "metadata": {},
   "outputs": [],
   "source": [
    "k = 100\n",
    "ent = 0\n",
    "p=10\n",
    "h=0.005\n",
    "s=0.005\n",
    "w=p*0.6\n",
    "\n",
    "policy=['P','L', 'U', 'R', 'Lx']"
   ]
  },
  {
   "cell_type": "code",
   "execution_count": 27,
   "metadata": {},
   "outputs": [],
   "source": [
    "q1_quant = d1*np.cosh(ent)+d2*np.sinh(ent)\n",
    "q2_quant = d2*np.cosh(ent)+d1*np.sinh(ent)"
   ]
  },
  {
   "cell_type": "code",
   "execution_count": 28,
   "metadata": {},
   "outputs": [],
   "source": [
    "g1_quant = [proportional(q1_quant[cc],q2_quant[cc]) for cc in range(sample_size)]\n",
    "g2_quant = [proportional(q2_quant[cc],q1_quant[cc]) for cc in range(sample_size)]"
   ]
  },
  {
   "cell_type": "code",
   "execution_count": 29,
   "metadata": {},
   "outputs": [
    {
     "data": {
      "text/plain": [
       "73.9"
      ]
     },
     "execution_count": 29,
     "metadata": {},
     "output_type": "execute_result"
    }
   ],
   "source": [
    "fr_quant_1 = round(sum(g1_quant)/sum(d1)*100,1)\n",
    "fr_quant_2 = round(sum(g2_quant)/sum(d2)*100,1)\n",
    "fr_quant_1"
   ]
  },
  {
   "cell_type": "code",
   "execution_count": 30,
   "metadata": {},
   "outputs": [
    {
     "ename": "NameError",
     "evalue": "name 'fr_origin_1' is not defined",
     "output_type": "error",
     "traceback": [
      "\u001b[0;31m---------------------------------------------------------------------------\u001b[0m",
      "\u001b[0;31mNameError\u001b[0m                                 Traceback (most recent call last)",
      "\u001b[0;32m<ipython-input-30-d1d75bdcf18e>\u001b[0m in \u001b[0;36m<module>\u001b[0;34m()\u001b[0m\n\u001b[0;32m----> 1\u001b[0;31m data = {'fr_origin_1': [fr_origin_1], \n\u001b[0m\u001b[1;32m      2\u001b[0m         \u001b[0;34m'fr_origin_2'\u001b[0m\u001b[0;34m:\u001b[0m \u001b[0;34m[\u001b[0m\u001b[0mfr_origin_2\u001b[0m\u001b[0;34m]\u001b[0m\u001b[0;34m,\u001b[0m\u001b[0;34m\u001b[0m\u001b[0m\n\u001b[1;32m      3\u001b[0m         \u001b[0;34m'fr_quant_1'\u001b[0m\u001b[0;34m:\u001b[0m \u001b[0;34m[\u001b[0m\u001b[0mfr_quant_1\u001b[0m\u001b[0;34m]\u001b[0m\u001b[0;34m,\u001b[0m\u001b[0;34m\u001b[0m\u001b[0m\n\u001b[1;32m      4\u001b[0m         \u001b[0;34m'fr_quant_2'\u001b[0m\u001b[0;34m:\u001b[0m \u001b[0;34m[\u001b[0m\u001b[0mfr_quant_2\u001b[0m\u001b[0;34m]\u001b[0m\u001b[0;34m\u001b[0m\u001b[0m\n\u001b[1;32m      5\u001b[0m        }\n",
      "\u001b[0;31mNameError\u001b[0m: name 'fr_origin_1' is not defined"
     ]
    }
   ],
   "source": [
    "data = {'fr_origin_1': [fr_origin_1], \n",
    "        'fr_origin_2': [fr_origin_2],\n",
    "        'fr_quant_1': [fr_quant_1],\n",
    "        'fr_quant_2': [fr_quant_2]\n",
    "       }\n",
    "\n",
    "\n",
    "df = pd.DataFrame(data=data, index=['Row0'])\n",
    "df"
   ]
  },
  {
   "cell_type": "code",
   "execution_count": 31,
   "metadata": {},
   "outputs": [
    {
     "ename": "NameError",
     "evalue": "name 'g1_origin' is not defined",
     "output_type": "error",
     "traceback": [
      "\u001b[0;31m---------------------------------------------------------------------------\u001b[0m",
      "\u001b[0;31mNameError\u001b[0m                                 Traceback (most recent call last)",
      "\u001b[0;32m<ipython-input-31-200adc15d570>\u001b[0m in \u001b[0;36m<module>\u001b[0;34m()\u001b[0m\n\u001b[1;32m      1\u001b[0m data = {'d1': d1, \n\u001b[1;32m      2\u001b[0m         \u001b[0;34m'd2'\u001b[0m\u001b[0;34m:\u001b[0m \u001b[0md2\u001b[0m\u001b[0;34m,\u001b[0m\u001b[0;34m\u001b[0m\u001b[0m\n\u001b[0;32m----> 3\u001b[0;31m         \u001b[0;34m'g1_origin'\u001b[0m\u001b[0;34m:\u001b[0m \u001b[0mg1_origin\u001b[0m\u001b[0;34m,\u001b[0m\u001b[0;34m\u001b[0m\u001b[0m\n\u001b[0m\u001b[1;32m      4\u001b[0m         \u001b[0;34m'g2_origin'\u001b[0m\u001b[0;34m:\u001b[0m \u001b[0mg2_origin\u001b[0m\u001b[0;34m,\u001b[0m\u001b[0;34m\u001b[0m\u001b[0m\n\u001b[1;32m      5\u001b[0m         \u001b[0;34m'q1_quant'\u001b[0m\u001b[0;34m:\u001b[0m \u001b[0mq1_quant\u001b[0m\u001b[0;34m,\u001b[0m\u001b[0;34m\u001b[0m\u001b[0m\n",
      "\u001b[0;31mNameError\u001b[0m: name 'g1_origin' is not defined"
     ]
    }
   ],
   "source": [
    "data = {'d1': d1, \n",
    "        'd2': d2,\n",
    "        'g1_origin': g1_origin,\n",
    "        'g2_origin': g2_origin,\n",
    "        'q1_quant': q1_quant,\n",
    "        'q2_quant': q2_quant,\n",
    "        'g1_quant': g1_quant,\n",
    "        'g2_quant': g2_quant\n",
    "       }\n",
    "\n",
    "\n",
    "df_raw = pd.DataFrame(data=data)\n",
    "df_raw.head()"
   ]
  },
  {
   "cell_type": "markdown",
   "metadata": {},
   "source": [
    "#### Prime\n",
    "\n",
    "- We may consider the 'prime' in the code below for the case that minimum of demand and allocated stock is considered for computing the fill rate.\n",
    "Reasult shows that the fill rate decreases even from the original (no quantum) state."
   ]
  },
  {
   "cell_type": "code",
   "execution_count": 32,
   "metadata": {},
   "outputs": [],
   "source": [
    "g1_quant1_prime = [min(g1_quant[cc],d1[cc]) for cc in range(sample_size)]\n",
    "g1_quant2_prime = [min(g1_quant[cc],d1[cc]) for cc in range(sample_size)]\n",
    "fr_quant1_prime = round(sum(g1_quant1_prime)/sum(d1)*100,1)\n",
    "fr_quant2_prime = round(sum(g1_quant2_prime)/sum(d2)*100,1)"
   ]
  },
  {
   "cell_type": "code",
   "execution_count": 33,
   "metadata": {},
   "outputs": [
    {
     "ename": "NameError",
     "evalue": "name 'fr_origin_1' is not defined",
     "output_type": "error",
     "traceback": [
      "\u001b[0;31m---------------------------------------------------------------------------\u001b[0m",
      "\u001b[0;31mNameError\u001b[0m                                 Traceback (most recent call last)",
      "\u001b[0;32m<ipython-input-33-9b5aeaf831b7>\u001b[0m in \u001b[0;36m<module>\u001b[0;34m()\u001b[0m\n\u001b[0;32m----> 1\u001b[0;31m data = {'fr_origin_1': [fr_origin_1], \n\u001b[0m\u001b[1;32m      2\u001b[0m         \u001b[0;34m'fr_origin_2'\u001b[0m\u001b[0;34m:\u001b[0m \u001b[0;34m[\u001b[0m\u001b[0mfr_origin_2\u001b[0m\u001b[0;34m]\u001b[0m\u001b[0;34m,\u001b[0m\u001b[0;34m\u001b[0m\u001b[0m\n\u001b[1;32m      3\u001b[0m         \u001b[0;34m'fr_quant_1'\u001b[0m\u001b[0;34m:\u001b[0m \u001b[0;34m[\u001b[0m\u001b[0mfr_quant_1\u001b[0m\u001b[0;34m]\u001b[0m\u001b[0;34m,\u001b[0m\u001b[0;34m\u001b[0m\u001b[0m\n\u001b[1;32m      4\u001b[0m         \u001b[0;34m'fr_quant_2'\u001b[0m\u001b[0;34m:\u001b[0m \u001b[0;34m[\u001b[0m\u001b[0mfr_quant_2\u001b[0m\u001b[0;34m]\u001b[0m\u001b[0;34m,\u001b[0m\u001b[0;34m\u001b[0m\u001b[0m\n\u001b[1;32m      5\u001b[0m         \u001b[0;34m'fr_quant1_prime'\u001b[0m\u001b[0;34m:\u001b[0m \u001b[0;34m[\u001b[0m\u001b[0mfr_quant1_prime\u001b[0m\u001b[0;34m]\u001b[0m\u001b[0;34m,\u001b[0m\u001b[0;34m\u001b[0m\u001b[0m\n",
      "\u001b[0;31mNameError\u001b[0m: name 'fr_origin_1' is not defined"
     ]
    }
   ],
   "source": [
    "data = {'fr_origin_1': [fr_origin_1], \n",
    "        'fr_origin_2': [fr_origin_2],\n",
    "        'fr_quant_1': [fr_quant_1],\n",
    "        'fr_quant_2': [fr_quant_2],\n",
    "        'fr_quant1_prime': [fr_quant1_prime],\n",
    "        'fr_quant2_prime': [fr_quant2_prime]\n",
    "       }\n",
    "\n",
    "\n",
    "df = pd.DataFrame(data=data, index=['Row0'])\n",
    "df"
   ]
  },
  {
   "cell_type": "markdown",
   "metadata": {},
   "source": [
    "The excess amount received in this period will be used to fullfill the demand of the next periods as generally the shortage is higher than the excess (holding)."
   ]
  },
  {
   "cell_type": "code",
   "execution_count": 34,
   "metadata": {},
   "outputs": [
    {
     "data": {
      "text/html": [
       "<div>\n",
       "<style scoped>\n",
       "    .dataframe tbody tr th:only-of-type {\n",
       "        vertical-align: middle;\n",
       "    }\n",
       "\n",
       "    .dataframe tbody tr th {\n",
       "        vertical-align: top;\n",
       "    }\n",
       "\n",
       "    .dataframe thead th {\n",
       "        text-align: right;\n",
       "    }\n",
       "</style>\n",
       "<table border=\"1\" class=\"dataframe\">\n",
       "  <thead>\n",
       "    <tr style=\"text-align: right;\">\n",
       "      <th></th>\n",
       "      <th>d1</th>\n",
       "      <th>d2</th>\n",
       "      <th>q1_quant</th>\n",
       "      <th>q2_quant</th>\n",
       "      <th>g1_quant</th>\n",
       "      <th>g2_quant</th>\n",
       "    </tr>\n",
       "  </thead>\n",
       "  <tbody>\n",
       "    <tr>\n",
       "      <th>0</th>\n",
       "      <td>2.931998</td>\n",
       "      <td>48.269743</td>\n",
       "      <td>2.931998</td>\n",
       "      <td>48.269743</td>\n",
       "      <td>2.931998</td>\n",
       "      <td>48.269743</td>\n",
       "    </tr>\n",
       "    <tr>\n",
       "      <th>1</th>\n",
       "      <td>113.762052</td>\n",
       "      <td>85.122560</td>\n",
       "      <td>113.762052</td>\n",
       "      <td>85.122560</td>\n",
       "      <td>57.200027</td>\n",
       "      <td>42.799973</td>\n",
       "    </tr>\n",
       "    <tr>\n",
       "      <th>2</th>\n",
       "      <td>1.209665</td>\n",
       "      <td>82.186447</td>\n",
       "      <td>1.209665</td>\n",
       "      <td>82.186447</td>\n",
       "      <td>1.209665</td>\n",
       "      <td>82.186447</td>\n",
       "    </tr>\n",
       "    <tr>\n",
       "      <th>3</th>\n",
       "      <td>78.952595</td>\n",
       "      <td>100.808301</td>\n",
       "      <td>78.952595</td>\n",
       "      <td>100.808301</td>\n",
       "      <td>43.920895</td>\n",
       "      <td>56.079105</td>\n",
       "    </tr>\n",
       "    <tr>\n",
       "      <th>4</th>\n",
       "      <td>107.527437</td>\n",
       "      <td>28.562880</td>\n",
       "      <td>107.527437</td>\n",
       "      <td>28.562880</td>\n",
       "      <td>79.011821</td>\n",
       "      <td>20.988179</td>\n",
       "    </tr>\n",
       "  </tbody>\n",
       "</table>\n",
       "</div>"
      ],
      "text/plain": [
       "           d1          d2    q1_quant    q2_quant   g1_quant   g2_quant\n",
       "0    2.931998   48.269743    2.931998   48.269743   2.931998  48.269743\n",
       "1  113.762052   85.122560  113.762052   85.122560  57.200027  42.799973\n",
       "2    1.209665   82.186447    1.209665   82.186447   1.209665  82.186447\n",
       "3   78.952595  100.808301   78.952595  100.808301  43.920895  56.079105\n",
       "4  107.527437   28.562880  107.527437   28.562880  79.011821  20.988179"
      ]
     },
     "execution_count": 34,
     "metadata": {},
     "output_type": "execute_result"
    }
   ],
   "source": [
    "data = {'d1': d1, \n",
    "        'd2': d2,\n",
    "        'q1_quant': q1_quant,\n",
    "        'q2_quant': q2_quant,\n",
    "        'g1_quant': g1_quant,\n",
    "        'g2_quant': g2_quant\n",
    "       }\n",
    "\n",
    "\n",
    "df_raw = pd.DataFrame(data=data)\n",
    "df_raw.head()"
   ]
  },
  {
   "cell_type": "code",
   "execution_count": 38,
   "metadata": {},
   "outputs": [],
   "source": [
    "def policy_selector(pol):\n",
    "    switcher = {\n",
    "        'P': 0,\n",
    "        'L': 1,\n",
    "        'U': 2,\n",
    "        'R': 3,\n",
    "        'Lx': 4\n",
    "    }\n",
    "    return (switcher.get(pol, \"Invalid Policy\"))"
   ]
  },
  {
   "cell_type": "code",
   "execution_count": 35,
   "metadata": {},
   "outputs": [],
   "source": [
    "gamma = np.arange(0, (np.pi/3)+0.05, 0.05)\n",
    "result = []\n",
    "m=9\n",
    "n=5\n",
    "result=[[0] * m for i in range(n)] #creating n*m dimensions list in Python\n",
    "nn=0\n",
    "\n",
    "for policy_selected in policy:\n",
    "    fr_1_arr = [0]*len(gamma)\n",
    "    short1_arr = [0]*len(gamma)\n",
    "    holding1_arr = [0]*len(gamma)\n",
    "    profit1_arr = [0]*len(gamma)\n",
    "    fr_2_arr = [0]*len(gamma)\n",
    "    short2_arr = [0]*len(gamma)\n",
    "    holding2_arr = [0]*len(gamma)\n",
    "    profit2_arr = [0]*len(gamma)\n",
    "    i=0\n",
    "    \n",
    "    quant1=1\n",
    "    quant2=0\n",
    "\n",
    "    \n",
    "    for ent in gamma:\n",
    "        fr_1_arr[i], short1_arr[i], holding1_arr[i], profit1_arr[i], fr_2_arr[i], short2_arr[i], holding2_arr[i], profit2_arr[i] = origin_updated(ent)\n",
    "        i=i+1\n",
    "        \n",
    "    \n",
    "    result[nn][0] = policy_selected\n",
    "    result[nn][1] = fr_1_arr\n",
    "    result[nn][2] = short1_arr\n",
    "    result[nn][3] = holding1_arr\n",
    "    result[nn][4] = profit1_arr\n",
    "    \n",
    "    result[nn][5] = fr_2_arr\n",
    "    result[nn][6] = short2_arr\n",
    "    result[nn][7] = holding2_arr\n",
    "    result[nn][8] = profit2_arr\n",
    "    \n",
    "    nn=nn+1"
   ]
  },
  {
   "cell_type": "code",
   "execution_count": 122,
   "metadata": {},
   "outputs": [],
   "source": [
    "with open('results_one_quantum.pickle', 'wb') as f:\n",
    "    pickle.dump([result], f)"
   ]
  },
  {
   "cell_type": "code",
   "execution_count": 297,
   "metadata": {},
   "outputs": [],
   "source": [
    "with open('results_one_quantum.pickle', 'rb') as f:\n",
    "    [result] = pickle.load(f)"
   ]
  },
  {
   "cell_type": "code",
   "execution_count": 36,
   "metadata": {},
   "outputs": [
    {
     "data": {
      "text/html": [
       "\n",
       "    <div class=\"bk-root\">\n",
       "        <a href=\"https://bokeh.pydata.org\" target=\"_blank\" class=\"bk-logo bk-logo-small bk-logo-notebook\"></a>\n",
       "        <span id=\"1919\">Loading BokehJS ...</span>\n",
       "    </div>"
      ]
     },
     "metadata": {},
     "output_type": "display_data"
    },
    {
     "data": {
      "application/javascript": "\n(function(root) {\n  function now() {\n    return new Date();\n  }\n\n  var force = true;\n\n  if (typeof (root._bokeh_onload_callbacks) === \"undefined\" || force === true) {\n    root._bokeh_onload_callbacks = [];\n    root._bokeh_is_loading = undefined;\n  }\n\n  var JS_MIME_TYPE = 'application/javascript';\n  var HTML_MIME_TYPE = 'text/html';\n  var EXEC_MIME_TYPE = 'application/vnd.bokehjs_exec.v0+json';\n  var CLASS_NAME = 'output_bokeh rendered_html';\n\n  /**\n   * Render data to the DOM node\n   */\n  function render(props, node) {\n    var script = document.createElement(\"script\");\n    node.appendChild(script);\n  }\n\n  /**\n   * Handle when an output is cleared or removed\n   */\n  function handleClearOutput(event, handle) {\n    var cell = handle.cell;\n\n    var id = cell.output_area._bokeh_element_id;\n    var server_id = cell.output_area._bokeh_server_id;\n    // Clean up Bokeh references\n    if (id != null && id in Bokeh.index) {\n      Bokeh.index[id].model.document.clear();\n      delete Bokeh.index[id];\n    }\n\n    if (server_id !== undefined) {\n      // Clean up Bokeh references\n      var cmd = \"from bokeh.io.state import curstate; print(curstate().uuid_to_server['\" + server_id + \"'].get_sessions()[0].document.roots[0]._id)\";\n      cell.notebook.kernel.execute(cmd, {\n        iopub: {\n          output: function(msg) {\n            var id = msg.content.text.trim();\n            if (id in Bokeh.index) {\n              Bokeh.index[id].model.document.clear();\n              delete Bokeh.index[id];\n            }\n          }\n        }\n      });\n      // Destroy server and session\n      var cmd = \"import bokeh.io.notebook as ion; ion.destroy_server('\" + server_id + \"')\";\n      cell.notebook.kernel.execute(cmd);\n    }\n  }\n\n  /**\n   * Handle when a new output is added\n   */\n  function handleAddOutput(event, handle) {\n    var output_area = handle.output_area;\n    var output = handle.output;\n\n    // limit handleAddOutput to display_data with EXEC_MIME_TYPE content only\n    if ((output.output_type != \"display_data\") || (!output.data.hasOwnProperty(EXEC_MIME_TYPE))) {\n      return\n    }\n\n    var toinsert = output_area.element.find(\".\" + CLASS_NAME.split(' ')[0]);\n\n    if (output.metadata[EXEC_MIME_TYPE][\"id\"] !== undefined) {\n      toinsert[toinsert.length - 1].firstChild.textContent = output.data[JS_MIME_TYPE];\n      // store reference to embed id on output_area\n      output_area._bokeh_element_id = output.metadata[EXEC_MIME_TYPE][\"id\"];\n    }\n    if (output.metadata[EXEC_MIME_TYPE][\"server_id\"] !== undefined) {\n      var bk_div = document.createElement(\"div\");\n      bk_div.innerHTML = output.data[HTML_MIME_TYPE];\n      var script_attrs = bk_div.children[0].attributes;\n      for (var i = 0; i < script_attrs.length; i++) {\n        toinsert[toinsert.length - 1].firstChild.setAttribute(script_attrs[i].name, script_attrs[i].value);\n      }\n      // store reference to server id on output_area\n      output_area._bokeh_server_id = output.metadata[EXEC_MIME_TYPE][\"server_id\"];\n    }\n  }\n\n  function register_renderer(events, OutputArea) {\n\n    function append_mime(data, metadata, element) {\n      // create a DOM node to render to\n      var toinsert = this.create_output_subarea(\n        metadata,\n        CLASS_NAME,\n        EXEC_MIME_TYPE\n      );\n      this.keyboard_manager.register_events(toinsert);\n      // Render to node\n      var props = {data: data, metadata: metadata[EXEC_MIME_TYPE]};\n      render(props, toinsert[toinsert.length - 1]);\n      element.append(toinsert);\n      return toinsert\n    }\n\n    /* Handle when an output is cleared or removed */\n    events.on('clear_output.CodeCell', handleClearOutput);\n    events.on('delete.Cell', handleClearOutput);\n\n    /* Handle when a new output is added */\n    events.on('output_added.OutputArea', handleAddOutput);\n\n    /**\n     * Register the mime type and append_mime function with output_area\n     */\n    OutputArea.prototype.register_mime_type(EXEC_MIME_TYPE, append_mime, {\n      /* Is output safe? */\n      safe: true,\n      /* Index of renderer in `output_area.display_order` */\n      index: 0\n    });\n  }\n\n  // register the mime type if in Jupyter Notebook environment and previously unregistered\n  if (root.Jupyter !== undefined) {\n    var events = require('base/js/events');\n    var OutputArea = require('notebook/js/outputarea').OutputArea;\n\n    if (OutputArea.prototype.mime_types().indexOf(EXEC_MIME_TYPE) == -1) {\n      register_renderer(events, OutputArea);\n    }\n  }\n\n  \n  if (typeof (root._bokeh_timeout) === \"undefined\" || force === true) {\n    root._bokeh_timeout = Date.now() + 5000;\n    root._bokeh_failed_load = false;\n  }\n\n  var NB_LOAD_WARNING = {'data': {'text/html':\n     \"<div style='background-color: #fdd'>\\n\"+\n     \"<p>\\n\"+\n     \"BokehJS does not appear to have successfully loaded. If loading BokehJS from CDN, this \\n\"+\n     \"may be due to a slow or bad network connection. Possible fixes:\\n\"+\n     \"</p>\\n\"+\n     \"<ul>\\n\"+\n     \"<li>re-rerun `output_notebook()` to attempt to load from CDN again, or</li>\\n\"+\n     \"<li>use INLINE resources instead, as so:</li>\\n\"+\n     \"</ul>\\n\"+\n     \"<code>\\n\"+\n     \"from bokeh.resources import INLINE\\n\"+\n     \"output_notebook(resources=INLINE)\\n\"+\n     \"</code>\\n\"+\n     \"</div>\"}};\n\n  function display_loaded() {\n    var el = document.getElementById(\"1919\");\n    if (el != null) {\n      el.textContent = \"BokehJS is loading...\";\n    }\n    if (root.Bokeh !== undefined) {\n      if (el != null) {\n        el.textContent = \"BokehJS \" + root.Bokeh.version + \" successfully loaded.\";\n      }\n    } else if (Date.now() < root._bokeh_timeout) {\n      setTimeout(display_loaded, 100)\n    }\n  }\n\n\n  function run_callbacks() {\n    try {\n      root._bokeh_onload_callbacks.forEach(function(callback) { callback() });\n    }\n    finally {\n      delete root._bokeh_onload_callbacks\n    }\n    console.info(\"Bokeh: all callbacks have finished\");\n  }\n\n  function load_libs(js_urls, callback) {\n    root._bokeh_onload_callbacks.push(callback);\n    if (root._bokeh_is_loading > 0) {\n      console.log(\"Bokeh: BokehJS is being loaded, scheduling callback at\", now());\n      return null;\n    }\n    if (js_urls == null || js_urls.length === 0) {\n      run_callbacks();\n      return null;\n    }\n    console.log(\"Bokeh: BokehJS not loaded, scheduling load and callback at\", now());\n    root._bokeh_is_loading = js_urls.length;\n    for (var i = 0; i < js_urls.length; i++) {\n      var url = js_urls[i];\n      var s = document.createElement('script');\n      s.src = url;\n      s.async = false;\n      s.onreadystatechange = s.onload = function() {\n        root._bokeh_is_loading--;\n        if (root._bokeh_is_loading === 0) {\n          console.log(\"Bokeh: all BokehJS libraries loaded\");\n          run_callbacks()\n        }\n      };\n      s.onerror = function() {\n        console.warn(\"failed to load library \" + url);\n      };\n      console.log(\"Bokeh: injecting script tag for BokehJS library: \", url);\n      document.getElementsByTagName(\"head\")[0].appendChild(s);\n    }\n  };var element = document.getElementById(\"1919\");\n  if (element == null) {\n    console.log(\"Bokeh: ERROR: autoload.js configured with elementid '1919' but no matching script tag was found. \")\n    return false;\n  }\n\n  var js_urls = [\"https://cdn.pydata.org/bokeh/release/bokeh-1.0.4.min.js\", \"https://cdn.pydata.org/bokeh/release/bokeh-widgets-1.0.4.min.js\", \"https://cdn.pydata.org/bokeh/release/bokeh-tables-1.0.4.min.js\", \"https://cdn.pydata.org/bokeh/release/bokeh-gl-1.0.4.min.js\"];\n\n  var inline_js = [\n    function(Bokeh) {\n      Bokeh.set_log_level(\"info\");\n    },\n    \n    function(Bokeh) {\n      \n    },\n    function(Bokeh) {\n      console.log(\"Bokeh: injecting CSS: https://cdn.pydata.org/bokeh/release/bokeh-1.0.4.min.css\");\n      Bokeh.embed.inject_css(\"https://cdn.pydata.org/bokeh/release/bokeh-1.0.4.min.css\");\n      console.log(\"Bokeh: injecting CSS: https://cdn.pydata.org/bokeh/release/bokeh-widgets-1.0.4.min.css\");\n      Bokeh.embed.inject_css(\"https://cdn.pydata.org/bokeh/release/bokeh-widgets-1.0.4.min.css\");\n      console.log(\"Bokeh: injecting CSS: https://cdn.pydata.org/bokeh/release/bokeh-tables-1.0.4.min.css\");\n      Bokeh.embed.inject_css(\"https://cdn.pydata.org/bokeh/release/bokeh-tables-1.0.4.min.css\");\n    }\n  ];\n\n  function run_inline_js() {\n    \n    if ((root.Bokeh !== undefined) || (force === true)) {\n      for (var i = 0; i < inline_js.length; i++) {\n        inline_js[i].call(root, root.Bokeh);\n      }if (force === true) {\n        display_loaded();\n      }} else if (Date.now() < root._bokeh_timeout) {\n      setTimeout(run_inline_js, 100);\n    } else if (!root._bokeh_failed_load) {\n      console.log(\"Bokeh: BokehJS failed to load within specified timeout.\");\n      root._bokeh_failed_load = true;\n    } else if (force !== true) {\n      var cell = $(document.getElementById(\"1919\")).parents('.cell').data().cell;\n      cell.output_area.append_execute_result(NB_LOAD_WARNING)\n    }\n\n  }\n\n  if (root._bokeh_is_loading === 0) {\n    console.log(\"Bokeh: BokehJS loaded, going straight to plotting\");\n    run_inline_js();\n  } else {\n    load_libs(js_urls, function() {\n      console.log(\"Bokeh: BokehJS plotting callback run at\", now());\n      run_inline_js();\n    });\n  }\n}(window));",
      "application/vnd.bokehjs_load.v0+json": ""
     },
     "metadata": {},
     "output_type": "display_data"
    },
    {
     "data": {
      "text/html": [
       "\n",
       "\n",
       "\n",
       "\n",
       "\n",
       "\n",
       "  <div class=\"bk-root\" id=\"8cfdd64e-3dd5-4b2a-a845-435b4d2c8d6f\" data-root-id=\"1920\"></div>\n"
      ]
     },
     "metadata": {},
     "output_type": "display_data"
    },
    {
     "data": {
      "application/javascript": "(function(root) {\n  function embed_document(root) {\n    \n  var docs_json = {\"651345a9-fb03-4f17-8afc-e898526d2bd3\":{\"roots\":{\"references\":[{\"attributes\":{\"above\":[{\"id\":\"1990\",\"type\":\"Legend\"}],\"below\":[{\"id\":\"1929\",\"type\":\"LinearAxis\"}],\"left\":[{\"id\":\"1934\",\"type\":\"LinearAxis\"}],\"plot_height\":320,\"plot_width\":400,\"renderers\":[{\"id\":\"1929\",\"type\":\"LinearAxis\"},{\"id\":\"1933\",\"type\":\"Grid\"},{\"id\":\"1934\",\"type\":\"LinearAxis\"},{\"id\":\"1938\",\"type\":\"Grid\"},{\"id\":\"1947\",\"type\":\"BoxAnnotation\"},{\"id\":\"1958\",\"type\":\"GlyphRenderer\"},{\"id\":\"1964\",\"type\":\"GlyphRenderer\"},{\"id\":\"1970\",\"type\":\"GlyphRenderer\"},{\"id\":\"1976\",\"type\":\"GlyphRenderer\"},{\"id\":\"1982\",\"type\":\"GlyphRenderer\"},{\"id\":\"1988\",\"type\":\"GlyphRenderer\"},{\"id\":\"1990\",\"type\":\"Legend\"}],\"title\":{\"id\":\"2064\",\"type\":\"Title\"},\"toolbar\":{\"id\":\"1945\",\"type\":\"Toolbar\"},\"x_range\":{\"id\":\"1921\",\"type\":\"DataRange1d\"},\"x_scale\":{\"id\":\"1925\",\"type\":\"LinearScale\"},\"y_range\":{\"id\":\"1923\",\"type\":\"DataRange1d\"},\"y_scale\":{\"id\":\"1927\",\"type\":\"LinearScale\"}},\"id\":\"1920\",\"subtype\":\"Figure\",\"type\":\"Plot\"},{\"attributes\":{\"overlay\":{\"id\":\"1947\",\"type\":\"BoxAnnotation\"}},\"id\":\"1941\",\"type\":\"BoxZoomTool\"},{\"attributes\":{},\"id\":\"2065\",\"type\":\"BasicTickFormatter\"},{\"attributes\":{\"line_width\":2,\"x\":{\"field\":\"x\"},\"y\":{\"field\":\"y\"}},\"id\":\"1968\",\"type\":\"Line\"},{\"attributes\":{\"label\":{\"value\":\"P\"},\"renderers\":[{\"id\":\"1976\",\"type\":\"GlyphRenderer\"}]},\"id\":\"1991\",\"type\":\"LegendItem\"},{\"attributes\":{},\"id\":\"1942\",\"type\":\"SaveTool\"},{\"attributes\":{\"line_alpha\":0.1,\"line_color\":\"#1f77b4\",\"line_width\":2,\"x\":{\"field\":\"x\"},\"y\":{\"field\":\"y\"}},\"id\":\"1969\",\"type\":\"Line\"},{\"attributes\":{\"label\":{\"value\":\"L\"},\"renderers\":[{\"id\":\"1982\",\"type\":\"GlyphRenderer\"}]},\"id\":\"1992\",\"type\":\"LegendItem\"},{\"attributes\":{},\"id\":\"1943\",\"type\":\"ResetTool\"},{\"attributes\":{\"items\":[{\"id\":\"1991\",\"type\":\"LegendItem\"},{\"id\":\"1992\",\"type\":\"LegendItem\"},{\"id\":\"1993\",\"type\":\"LegendItem\"}],\"label_standoff\":1,\"label_text_font_size\":{\"value\":\"12px\"},\"location\":[0,0],\"orientation\":\"horizontal\",\"plot\":{\"id\":\"1920\",\"subtype\":\"Figure\",\"type\":\"Plot\"},\"spacing\":0},\"id\":\"1990\",\"type\":\"Legend\"},{\"attributes\":{\"data_source\":{\"id\":\"1966\",\"type\":\"ColumnDataSource\"},\"glyph\":{\"id\":\"1968\",\"type\":\"Line\"},\"hover_glyph\":null,\"muted_glyph\":null,\"nonselection_glyph\":{\"id\":\"1969\",\"type\":\"Line\"},\"selection_glyph\":null,\"view\":{\"id\":\"1971\",\"type\":\"CDSView\"}},\"id\":\"1970\",\"type\":\"GlyphRenderer\"},{\"attributes\":{\"label\":{\"value\":\"U\"},\"renderers\":[{\"id\":\"1988\",\"type\":\"GlyphRenderer\"}]},\"id\":\"1993\",\"type\":\"LegendItem\"},{\"attributes\":{},\"id\":\"1944\",\"type\":\"HelpTool\"},{\"attributes\":{\"source\":{\"id\":\"1966\",\"type\":\"ColumnDataSource\"}},\"id\":\"1971\",\"type\":\"CDSView\"},{\"attributes\":{\"callback\":null},\"id\":\"1921\",\"type\":\"DataRange1d\"},{\"attributes\":{},\"id\":\"2067\",\"type\":\"BasicTickFormatter\"},{\"attributes\":{\"data_source\":{\"id\":\"1984\",\"type\":\"ColumnDataSource\"},\"glyph\":{\"id\":\"1986\",\"type\":\"Square\"},\"hover_glyph\":null,\"muted_glyph\":null,\"nonselection_glyph\":{\"id\":\"1987\",\"type\":\"Square\"},\"selection_glyph\":null,\"view\":{\"id\":\"1989\",\"type\":\"CDSView\"}},\"id\":\"1988\",\"type\":\"GlyphRenderer\"},{\"attributes\":{\"callback\":null},\"id\":\"1923\",\"type\":\"DataRange1d\"},{\"attributes\":{\"bottom_units\":\"screen\",\"fill_alpha\":{\"value\":0.5},\"fill_color\":{\"value\":\"lightgrey\"},\"left_units\":\"screen\",\"level\":\"overlay\",\"line_alpha\":{\"value\":1.0},\"line_color\":{\"value\":\"black\"},\"line_dash\":[4,4],\"line_width\":{\"value\":2},\"plot\":null,\"render_mode\":\"css\",\"right_units\":\"screen\",\"top_units\":\"screen\"},\"id\":\"1947\",\"type\":\"BoxAnnotation\"},{\"attributes\":{},\"id\":\"2070\",\"type\":\"Selection\"},{\"attributes\":{},\"id\":\"1925\",\"type\":\"LinearScale\"},{\"attributes\":{\"fill_color\":{\"value\":\"white\"},\"size\":{\"units\":\"screen\",\"value\":7},\"x\":{\"field\":\"x_marker\"},\"y\":{\"field\":\"y_marker\"}},\"id\":\"1974\",\"type\":\"Circle\"},{\"attributes\":{\"line_width\":2,\"x\":{\"field\":\"x\"},\"y\":{\"field\":\"y\"}},\"id\":\"1956\",\"type\":\"Line\"},{\"attributes\":{},\"id\":\"2071\",\"type\":\"UnionRenderers\"},{\"attributes\":{},\"id\":\"1927\",\"type\":\"LinearScale\"},{\"attributes\":{\"fill_alpha\":{\"value\":0.1},\"fill_color\":{\"value\":\"#1f77b4\"},\"line_alpha\":{\"value\":0.1},\"line_color\":{\"value\":\"#1f77b4\"},\"size\":{\"units\":\"screen\",\"value\":7},\"x\":{\"field\":\"x_marker\"},\"y\":{\"field\":\"y_marker\"}},\"id\":\"1975\",\"type\":\"Circle\"},{\"attributes\":{\"line_alpha\":0.1,\"line_color\":\"#1f77b4\",\"line_width\":2,\"x\":{\"field\":\"x\"},\"y\":{\"field\":\"y\"}},\"id\":\"1957\",\"type\":\"Line\"},{\"attributes\":{},\"id\":\"2072\",\"type\":\"Selection\"},{\"attributes\":{\"data_source\":{\"id\":\"1972\",\"type\":\"ColumnDataSource\"},\"glyph\":{\"id\":\"1974\",\"type\":\"Circle\"},\"hover_glyph\":null,\"muted_glyph\":null,\"nonselection_glyph\":{\"id\":\"1975\",\"type\":\"Circle\"},\"selection_glyph\":null,\"view\":{\"id\":\"1977\",\"type\":\"CDSView\"}},\"id\":\"1976\",\"type\":\"GlyphRenderer\"},{\"attributes\":{\"axis_label\":\"Entanglement (\\u03b3)\",\"formatter\":{\"id\":\"2065\",\"type\":\"BasicTickFormatter\"},\"plot\":{\"id\":\"1920\",\"subtype\":\"Figure\",\"type\":\"Plot\"},\"ticker\":{\"id\":\"1930\",\"type\":\"BasicTicker\"}},\"id\":\"1929\",\"type\":\"LinearAxis\"},{\"attributes\":{\"data_source\":{\"id\":\"1954\",\"type\":\"ColumnDataSource\"},\"glyph\":{\"id\":\"1956\",\"type\":\"Line\"},\"hover_glyph\":null,\"muted_glyph\":null,\"nonselection_glyph\":{\"id\":\"1957\",\"type\":\"Line\"},\"selection_glyph\":null,\"view\":{\"id\":\"1959\",\"type\":\"CDSView\"}},\"id\":\"1958\",\"type\":\"GlyphRenderer\"},{\"attributes\":{},\"id\":\"2073\",\"type\":\"UnionRenderers\"},{\"attributes\":{},\"id\":\"1930\",\"type\":\"BasicTicker\"},{\"attributes\":{\"source\":{\"id\":\"1972\",\"type\":\"ColumnDataSource\"}},\"id\":\"1977\",\"type\":\"CDSView\"},{\"attributes\":{\"source\":{\"id\":\"1954\",\"type\":\"ColumnDataSource\"}},\"id\":\"1959\",\"type\":\"CDSView\"},{\"attributes\":{},\"id\":\"2074\",\"type\":\"Selection\"},{\"attributes\":{\"plot\":{\"id\":\"1920\",\"subtype\":\"Figure\",\"type\":\"Plot\"},\"ticker\":{\"id\":\"1930\",\"type\":\"BasicTicker\"},\"visible\":false},\"id\":\"1933\",\"type\":\"Grid\"},{\"attributes\":{\"callback\":null,\"data\":{\"x_marker\":{\"__ndarray__\":\"AAAAAAAAAACamZmZmZm5P5qZmZmZmck/NDMzMzMz0z+amZmZmZnZPwAAAAAAAOA/NDMzMzMz4z9nZmZmZmbmP5qZmZmZmek/zczMzMzM7D8AAAAAAADwPw==\",\"dtype\":\"float64\",\"shape\":[11]},\"y_marker\":[-19.0,41.0,106.0,177.0,224.0,133.0,40.0,-50.0,-134.0,-208.0,-274.0]},\"selected\":{\"id\":\"2078\",\"type\":\"Selection\"},\"selection_policy\":{\"id\":\"2079\",\"type\":\"UnionRenderers\"}},\"id\":\"1978\",\"type\":\"ColumnDataSource\"},{\"attributes\":{\"callback\":null,\"data\":{\"x\":{\"__ndarray__\":\"AAAAAAAAAACamZmZmZmpP5qZmZmZmbk/NDMzMzMzwz+amZmZmZnJPwAAAAAAANA/NDMzMzMz0z9nZmZmZmbWP5qZmZmZmdk/zczMzMzM3D8AAAAAAADgP5qZmZmZmeE/NDMzMzMz4z/NzMzMzMzkP2dmZmZmZuY/AAAAAAAA6D+amZmZmZnpPzQzMzMzM+s/zczMzMzM7D9nZmZmZmbuPwAAAAAAAPA/zczMzMzM8D8=\",\"dtype\":\"float64\",\"shape\":[22]},\"y\":[-19.0,10.0,41.0,73.0,106.0,141.0,177.0,214.0,224.0,179.0,133.0,87.0,40.0,-6.0,-50.0,-93.0,-134.0,-172.0,-208.0,-242.0,-274.0,-303.0]},\"selected\":{\"id\":\"2072\",\"type\":\"Selection\"},\"selection_policy\":{\"id\":\"2073\",\"type\":\"UnionRenderers\"}},\"id\":\"1960\",\"type\":\"ColumnDataSource\"},{\"attributes\":{},\"id\":\"2075\",\"type\":\"UnionRenderers\"},{\"attributes\":{\"axis_label\":\"Profit Buyer 1\",\"formatter\":{\"id\":\"2067\",\"type\":\"BasicTickFormatter\"},\"plot\":{\"id\":\"1920\",\"subtype\":\"Figure\",\"type\":\"Plot\"},\"ticker\":{\"id\":\"1935\",\"type\":\"BasicTicker\"}},\"id\":\"1934\",\"type\":\"LinearAxis\"},{\"attributes\":{},\"id\":\"2076\",\"type\":\"Selection\"},{\"attributes\":{\"source\":{\"id\":\"1984\",\"type\":\"ColumnDataSource\"}},\"id\":\"1989\",\"type\":\"CDSView\"},{\"attributes\":{\"plot\":null,\"text\":\"\"},\"id\":\"2064\",\"type\":\"Title\"},{\"attributes\":{\"fill_alpha\":{\"value\":0.1},\"fill_color\":{\"value\":\"#1f77b4\"},\"line_alpha\":{\"value\":0.1},\"line_color\":{\"value\":\"#1f77b4\"},\"size\":{\"units\":\"screen\",\"value\":7},\"x\":{\"field\":\"x_marker\"},\"y\":{\"field\":\"y_marker\"}},\"id\":\"1987\",\"type\":\"Square\"},{\"attributes\":{},\"id\":\"1935\",\"type\":\"BasicTicker\"},{\"attributes\":{\"fill_color\":{\"value\":\"white\"},\"size\":{\"units\":\"screen\",\"value\":7},\"x\":{\"field\":\"x_marker\"},\"y\":{\"field\":\"y_marker\"}},\"id\":\"1980\",\"type\":\"Triangle\"},{\"attributes\":{\"line_width\":2,\"x\":{\"field\":\"x\"},\"y\":{\"field\":\"y\"}},\"id\":\"1962\",\"type\":\"Line\"},{\"attributes\":{},\"id\":\"2077\",\"type\":\"UnionRenderers\"},{\"attributes\":{\"dimension\":1,\"plot\":{\"id\":\"1920\",\"subtype\":\"Figure\",\"type\":\"Plot\"},\"ticker\":{\"id\":\"1935\",\"type\":\"BasicTicker\"},\"visible\":false},\"id\":\"1938\",\"type\":\"Grid\"},{\"attributes\":{\"fill_alpha\":{\"value\":0.1},\"fill_color\":{\"value\":\"#1f77b4\"},\"line_alpha\":{\"value\":0.1},\"line_color\":{\"value\":\"#1f77b4\"},\"size\":{\"units\":\"screen\",\"value\":7},\"x\":{\"field\":\"x_marker\"},\"y\":{\"field\":\"y_marker\"}},\"id\":\"1981\",\"type\":\"Triangle\"},{\"attributes\":{\"line_alpha\":0.1,\"line_color\":\"#1f77b4\",\"line_width\":2,\"x\":{\"field\":\"x\"},\"y\":{\"field\":\"y\"}},\"id\":\"1963\",\"type\":\"Line\"},{\"attributes\":{},\"id\":\"2078\",\"type\":\"Selection\"},{\"attributes\":{\"data_source\":{\"id\":\"1978\",\"type\":\"ColumnDataSource\"},\"glyph\":{\"id\":\"1980\",\"type\":\"Triangle\"},\"hover_glyph\":null,\"muted_glyph\":null,\"nonselection_glyph\":{\"id\":\"1981\",\"type\":\"Triangle\"},\"selection_glyph\":null,\"view\":{\"id\":\"1983\",\"type\":\"CDSView\"}},\"id\":\"1982\",\"type\":\"GlyphRenderer\"},{\"attributes\":{\"data_source\":{\"id\":\"1960\",\"type\":\"ColumnDataSource\"},\"glyph\":{\"id\":\"1962\",\"type\":\"Line\"},\"hover_glyph\":null,\"muted_glyph\":null,\"nonselection_glyph\":{\"id\":\"1963\",\"type\":\"Line\"},\"selection_glyph\":null,\"view\":{\"id\":\"1965\",\"type\":\"CDSView\"}},\"id\":\"1964\",\"type\":\"GlyphRenderer\"},{\"attributes\":{},\"id\":\"2079\",\"type\":\"UnionRenderers\"},{\"attributes\":{\"callback\":null,\"data\":{\"x\":{\"__ndarray__\":\"AAAAAAAAAACamZmZmZmpP5qZmZmZmbk/NDMzMzMzwz+amZmZmZnJPwAAAAAAANA/NDMzMzMz0z9nZmZmZmbWP5qZmZmZmdk/zczMzMzM3D8AAAAAAADgP5qZmZmZmeE/NDMzMzMz4z/NzMzMzMzkP2dmZmZmZuY/AAAAAAAA6D+amZmZmZnpPzQzMzMzM+s/zczMzMzM7D9nZmZmZmbuPwAAAAAAAPA/zczMzMzM8D8=\",\"dtype\":\"float64\",\"shape\":[22]},\"y\":[-18.0,7.0,32.0,57.0,82.0,106.0,130.0,154.0,177.0,200.0,223.0,230.0,206.0,181.0,157.0,134.0,111.0,88.0,66.0,45.0,24.0,4.0]},\"selected\":{\"id\":\"2070\",\"type\":\"Selection\"},\"selection_policy\":{\"id\":\"2071\",\"type\":\"UnionRenderers\"}},\"id\":\"1954\",\"type\":\"ColumnDataSource\"},{\"attributes\":{\"source\":{\"id\":\"1978\",\"type\":\"ColumnDataSource\"}},\"id\":\"1983\",\"type\":\"CDSView\"},{\"attributes\":{\"source\":{\"id\":\"1960\",\"type\":\"ColumnDataSource\"}},\"id\":\"1965\",\"type\":\"CDSView\"},{\"attributes\":{},\"id\":\"2080\",\"type\":\"Selection\"},{\"attributes\":{\"callback\":null,\"data\":{\"x_marker\":{\"__ndarray__\":\"AAAAAAAAAACamZmZmZm5P5qZmZmZmck/NDMzMzMz0z+amZmZmZnZPwAAAAAAAOA/NDMzMzMz4z9nZmZmZmbmP5qZmZmZmek/zczMzMzM7D8AAAAAAADwPw==\",\"dtype\":\"float64\",\"shape\":[11]},\"y_marker\":[-18.0,32.0,82.0,130.0,177.0,223.0,206.0,157.0,111.0,66.0,24.0]},\"selected\":{\"id\":\"2076\",\"type\":\"Selection\"},\"selection_policy\":{\"id\":\"2077\",\"type\":\"UnionRenderers\"}},\"id\":\"1972\",\"type\":\"ColumnDataSource\"},{\"attributes\":{\"active_drag\":\"auto\",\"active_inspect\":\"auto\",\"active_multi\":null,\"active_scroll\":\"auto\",\"active_tap\":\"auto\",\"tools\":[{\"id\":\"1939\",\"type\":\"PanTool\"},{\"id\":\"1940\",\"type\":\"WheelZoomTool\"},{\"id\":\"1941\",\"type\":\"BoxZoomTool\"},{\"id\":\"1942\",\"type\":\"SaveTool\"},{\"id\":\"1943\",\"type\":\"ResetTool\"},{\"id\":\"1944\",\"type\":\"HelpTool\"}]},\"id\":\"1945\",\"type\":\"Toolbar\"},{\"attributes\":{\"callback\":null,\"data\":{\"x_marker\":{\"__ndarray__\":\"AAAAAAAAAACamZmZmZm5P5qZmZmZmck/NDMzMzMz0z+amZmZmZnZPwAAAAAAAOA/NDMzMzMz4z9nZmZmZmbmP5qZmZmZmek/zczMzMzM7D8AAAAAAADwPw==\",\"dtype\":\"float64\",\"shape\":[11]},\"y_marker\":[-16.0,26.0,63.0,94.0,119.0,138.0,153.0,166.0,177.0,187.0,195.0]},\"selected\":{\"id\":\"2080\",\"type\":\"Selection\"},\"selection_policy\":{\"id\":\"2081\",\"type\":\"UnionRenderers\"}},\"id\":\"1984\",\"type\":\"ColumnDataSource\"},{\"attributes\":{\"callback\":null,\"data\":{\"x\":{\"__ndarray__\":\"AAAAAAAAAACamZmZmZmpP5qZmZmZmbk/NDMzMzMzwz+amZmZmZnJPwAAAAAAANA/NDMzMzMz0z9nZmZmZmbWP5qZmZmZmdk/zczMzMzM3D8AAAAAAADgP5qZmZmZmeE/NDMzMzMz4z/NzMzMzMzkP2dmZmZmZuY/AAAAAAAA6D+amZmZmZnpPzQzMzMzM+s/zczMzMzM7D9nZmZmZmbuPwAAAAAAAPA/zczMzMzM8D8=\",\"dtype\":\"float64\",\"shape\":[22]},\"y\":[-16.0,6.0,26.0,45.0,63.0,79.0,94.0,108.0,119.0,129.0,138.0,146.0,153.0,160.0,166.0,172.0,177.0,182.0,187.0,191.0,195.0,199.0]},\"selected\":{\"id\":\"2074\",\"type\":\"Selection\"},\"selection_policy\":{\"id\":\"2075\",\"type\":\"UnionRenderers\"}},\"id\":\"1966\",\"type\":\"ColumnDataSource\"},{\"attributes\":{},\"id\":\"2081\",\"type\":\"UnionRenderers\"},{\"attributes\":{},\"id\":\"1939\",\"type\":\"PanTool\"},{\"attributes\":{\"fill_color\":{\"value\":\"white\"},\"size\":{\"units\":\"screen\",\"value\":7},\"x\":{\"field\":\"x_marker\"},\"y\":{\"field\":\"y_marker\"}},\"id\":\"1986\",\"type\":\"Square\"},{\"attributes\":{},\"id\":\"1940\",\"type\":\"WheelZoomTool\"}],\"root_ids\":[\"1920\"]},\"title\":\"Bokeh Application\",\"version\":\"1.0.4\"}};\n  var render_items = [{\"docid\":\"651345a9-fb03-4f17-8afc-e898526d2bd3\",\"roots\":{\"1920\":\"8cfdd64e-3dd5-4b2a-a845-435b4d2c8d6f\"}}];\n  root.Bokeh.embed.embed_items_notebook(docs_json, render_items);\n\n  }\n  if (root.Bokeh !== undefined) {\n    embed_document(root);\n  } else {\n    var attempts = 0;\n    var timer = setInterval(function(root) {\n      if (root.Bokeh !== undefined) {\n        embed_document(root);\n        clearInterval(timer);\n      }\n      attempts++;\n      if (attempts > 100) {\n        console.log(\"Bokeh: ERROR: Unable to run BokehJS code because BokehJS library is missing\");\n        clearInterval(timer);\n      }\n    }, 10, root)\n  }\n})(window);",
      "application/vnd.bokehjs_exec.v0+json": ""
     },
     "metadata": {
      "application/vnd.bokehjs_exec.v0+json": {
       "id": "1920"
      }
     },
     "output_type": "display_data"
    }
   ],
   "source": [
    "item = 4\n",
    "\n",
    "horzontal_line_100 = 0\n",
    "\n",
    "consider_minmax = 0\n",
    "y_min = -5\n",
    "y_max = 140\n",
    "\n",
    "%run Bokeh_Quantum.ipynb"
   ]
  },
  {
   "cell_type": "code",
   "execution_count": 149,
   "metadata": {},
   "outputs": [
    {
     "data": {
      "text/plain": [
       "'q1_Profit_Buyer_1'"
      ]
     },
     "execution_count": 149,
     "metadata": {},
     "output_type": "execute_result"
    }
   ],
   "source": [
    "'q1_'+result_selector(item).replace(\" \", \"_\")"
   ]
  },
  {
   "cell_type": "code",
   "execution_count": 150,
   "metadata": {},
   "outputs": [
    {
     "data": {
      "text/html": [
       "\n",
       "    <div class=\"bk-root\">\n",
       "        <a href=\"https://bokeh.pydata.org\" target=\"_blank\" class=\"bk-logo bk-logo-small bk-logo-notebook\"></a>\n",
       "        <span id=\"121967\">Loading BokehJS ...</span>\n",
       "    </div>"
      ]
     },
     "metadata": {},
     "output_type": "display_data"
    },
    {
     "data": {
      "application/javascript": "\n(function(root) {\n  function now() {\n    return new Date();\n  }\n\n  var force = true;\n\n  if (typeof (root._bokeh_onload_callbacks) === \"undefined\" || force === true) {\n    root._bokeh_onload_callbacks = [];\n    root._bokeh_is_loading = undefined;\n  }\n\n  var JS_MIME_TYPE = 'application/javascript';\n  var HTML_MIME_TYPE = 'text/html';\n  var EXEC_MIME_TYPE = 'application/vnd.bokehjs_exec.v0+json';\n  var CLASS_NAME = 'output_bokeh rendered_html';\n\n  /**\n   * Render data to the DOM node\n   */\n  function render(props, node) {\n    var script = document.createElement(\"script\");\n    node.appendChild(script);\n  }\n\n  /**\n   * Handle when an output is cleared or removed\n   */\n  function handleClearOutput(event, handle) {\n    var cell = handle.cell;\n\n    var id = cell.output_area._bokeh_element_id;\n    var server_id = cell.output_area._bokeh_server_id;\n    // Clean up Bokeh references\n    if (id != null && id in Bokeh.index) {\n      Bokeh.index[id].model.document.clear();\n      delete Bokeh.index[id];\n    }\n\n    if (server_id !== undefined) {\n      // Clean up Bokeh references\n      var cmd = \"from bokeh.io.state import curstate; print(curstate().uuid_to_server['\" + server_id + \"'].get_sessions()[0].document.roots[0]._id)\";\n      cell.notebook.kernel.execute(cmd, {\n        iopub: {\n          output: function(msg) {\n            var id = msg.content.text.trim();\n            if (id in Bokeh.index) {\n              Bokeh.index[id].model.document.clear();\n              delete Bokeh.index[id];\n            }\n          }\n        }\n      });\n      // Destroy server and session\n      var cmd = \"import bokeh.io.notebook as ion; ion.destroy_server('\" + server_id + \"')\";\n      cell.notebook.kernel.execute(cmd);\n    }\n  }\n\n  /**\n   * Handle when a new output is added\n   */\n  function handleAddOutput(event, handle) {\n    var output_area = handle.output_area;\n    var output = handle.output;\n\n    // limit handleAddOutput to display_data with EXEC_MIME_TYPE content only\n    if ((output.output_type != \"display_data\") || (!output.data.hasOwnProperty(EXEC_MIME_TYPE))) {\n      return\n    }\n\n    var toinsert = output_area.element.find(\".\" + CLASS_NAME.split(' ')[0]);\n\n    if (output.metadata[EXEC_MIME_TYPE][\"id\"] !== undefined) {\n      toinsert[toinsert.length - 1].firstChild.textContent = output.data[JS_MIME_TYPE];\n      // store reference to embed id on output_area\n      output_area._bokeh_element_id = output.metadata[EXEC_MIME_TYPE][\"id\"];\n    }\n    if (output.metadata[EXEC_MIME_TYPE][\"server_id\"] !== undefined) {\n      var bk_div = document.createElement(\"div\");\n      bk_div.innerHTML = output.data[HTML_MIME_TYPE];\n      var script_attrs = bk_div.children[0].attributes;\n      for (var i = 0; i < script_attrs.length; i++) {\n        toinsert[toinsert.length - 1].firstChild.setAttribute(script_attrs[i].name, script_attrs[i].value);\n      }\n      // store reference to server id on output_area\n      output_area._bokeh_server_id = output.metadata[EXEC_MIME_TYPE][\"server_id\"];\n    }\n  }\n\n  function register_renderer(events, OutputArea) {\n\n    function append_mime(data, metadata, element) {\n      // create a DOM node to render to\n      var toinsert = this.create_output_subarea(\n        metadata,\n        CLASS_NAME,\n        EXEC_MIME_TYPE\n      );\n      this.keyboard_manager.register_events(toinsert);\n      // Render to node\n      var props = {data: data, metadata: metadata[EXEC_MIME_TYPE]};\n      render(props, toinsert[toinsert.length - 1]);\n      element.append(toinsert);\n      return toinsert\n    }\n\n    /* Handle when an output is cleared or removed */\n    events.on('clear_output.CodeCell', handleClearOutput);\n    events.on('delete.Cell', handleClearOutput);\n\n    /* Handle when a new output is added */\n    events.on('output_added.OutputArea', handleAddOutput);\n\n    /**\n     * Register the mime type and append_mime function with output_area\n     */\n    OutputArea.prototype.register_mime_type(EXEC_MIME_TYPE, append_mime, {\n      /* Is output safe? */\n      safe: true,\n      /* Index of renderer in `output_area.display_order` */\n      index: 0\n    });\n  }\n\n  // register the mime type if in Jupyter Notebook environment and previously unregistered\n  if (root.Jupyter !== undefined) {\n    var events = require('base/js/events');\n    var OutputArea = require('notebook/js/outputarea').OutputArea;\n\n    if (OutputArea.prototype.mime_types().indexOf(EXEC_MIME_TYPE) == -1) {\n      register_renderer(events, OutputArea);\n    }\n  }\n\n  \n  if (typeof (root._bokeh_timeout) === \"undefined\" || force === true) {\n    root._bokeh_timeout = Date.now() + 5000;\n    root._bokeh_failed_load = false;\n  }\n\n  var NB_LOAD_WARNING = {'data': {'text/html':\n     \"<div style='background-color: #fdd'>\\n\"+\n     \"<p>\\n\"+\n     \"BokehJS does not appear to have successfully loaded. If loading BokehJS from CDN, this \\n\"+\n     \"may be due to a slow or bad network connection. Possible fixes:\\n\"+\n     \"</p>\\n\"+\n     \"<ul>\\n\"+\n     \"<li>re-rerun `output_notebook()` to attempt to load from CDN again, or</li>\\n\"+\n     \"<li>use INLINE resources instead, as so:</li>\\n\"+\n     \"</ul>\\n\"+\n     \"<code>\\n\"+\n     \"from bokeh.resources import INLINE\\n\"+\n     \"output_notebook(resources=INLINE)\\n\"+\n     \"</code>\\n\"+\n     \"</div>\"}};\n\n  function display_loaded() {\n    var el = document.getElementById(\"121967\");\n    if (el != null) {\n      el.textContent = \"BokehJS is loading...\";\n    }\n    if (root.Bokeh !== undefined) {\n      if (el != null) {\n        el.textContent = \"BokehJS \" + root.Bokeh.version + \" successfully loaded.\";\n      }\n    } else if (Date.now() < root._bokeh_timeout) {\n      setTimeout(display_loaded, 100)\n    }\n  }\n\n\n  function run_callbacks() {\n    try {\n      root._bokeh_onload_callbacks.forEach(function(callback) { callback() });\n    }\n    finally {\n      delete root._bokeh_onload_callbacks\n    }\n    console.info(\"Bokeh: all callbacks have finished\");\n  }\n\n  function load_libs(js_urls, callback) {\n    root._bokeh_onload_callbacks.push(callback);\n    if (root._bokeh_is_loading > 0) {\n      console.log(\"Bokeh: BokehJS is being loaded, scheduling callback at\", now());\n      return null;\n    }\n    if (js_urls == null || js_urls.length === 0) {\n      run_callbacks();\n      return null;\n    }\n    console.log(\"Bokeh: BokehJS not loaded, scheduling load and callback at\", now());\n    root._bokeh_is_loading = js_urls.length;\n    for (var i = 0; i < js_urls.length; i++) {\n      var url = js_urls[i];\n      var s = document.createElement('script');\n      s.src = url;\n      s.async = false;\n      s.onreadystatechange = s.onload = function() {\n        root._bokeh_is_loading--;\n        if (root._bokeh_is_loading === 0) {\n          console.log(\"Bokeh: all BokehJS libraries loaded\");\n          run_callbacks()\n        }\n      };\n      s.onerror = function() {\n        console.warn(\"failed to load library \" + url);\n      };\n      console.log(\"Bokeh: injecting script tag for BokehJS library: \", url);\n      document.getElementsByTagName(\"head\")[0].appendChild(s);\n    }\n  };var element = document.getElementById(\"121967\");\n  if (element == null) {\n    console.log(\"Bokeh: ERROR: autoload.js configured with elementid '121967' but no matching script tag was found. \")\n    return false;\n  }\n\n  var js_urls = [\"https://cdn.pydata.org/bokeh/release/bokeh-1.0.4.min.js\", \"https://cdn.pydata.org/bokeh/release/bokeh-widgets-1.0.4.min.js\", \"https://cdn.pydata.org/bokeh/release/bokeh-tables-1.0.4.min.js\", \"https://cdn.pydata.org/bokeh/release/bokeh-gl-1.0.4.min.js\"];\n\n  var inline_js = [\n    function(Bokeh) {\n      Bokeh.set_log_level(\"info\");\n    },\n    \n    function(Bokeh) {\n      \n    },\n    function(Bokeh) {\n      console.log(\"Bokeh: injecting CSS: https://cdn.pydata.org/bokeh/release/bokeh-1.0.4.min.css\");\n      Bokeh.embed.inject_css(\"https://cdn.pydata.org/bokeh/release/bokeh-1.0.4.min.css\");\n      console.log(\"Bokeh: injecting CSS: https://cdn.pydata.org/bokeh/release/bokeh-widgets-1.0.4.min.css\");\n      Bokeh.embed.inject_css(\"https://cdn.pydata.org/bokeh/release/bokeh-widgets-1.0.4.min.css\");\n      console.log(\"Bokeh: injecting CSS: https://cdn.pydata.org/bokeh/release/bokeh-tables-1.0.4.min.css\");\n      Bokeh.embed.inject_css(\"https://cdn.pydata.org/bokeh/release/bokeh-tables-1.0.4.min.css\");\n    }\n  ];\n\n  function run_inline_js() {\n    \n    if ((root.Bokeh !== undefined) || (force === true)) {\n      for (var i = 0; i < inline_js.length; i++) {\n        inline_js[i].call(root, root.Bokeh);\n      }if (force === true) {\n        display_loaded();\n      }} else if (Date.now() < root._bokeh_timeout) {\n      setTimeout(run_inline_js, 100);\n    } else if (!root._bokeh_failed_load) {\n      console.log(\"Bokeh: BokehJS failed to load within specified timeout.\");\n      root._bokeh_failed_load = true;\n    } else if (force !== true) {\n      var cell = $(document.getElementById(\"121967\")).parents('.cell').data().cell;\n      cell.output_area.append_execute_result(NB_LOAD_WARNING)\n    }\n\n  }\n\n  if (root._bokeh_is_loading === 0) {\n    console.log(\"Bokeh: BokehJS loaded, going straight to plotting\");\n    run_inline_js();\n  } else {\n    load_libs(js_urls, function() {\n      console.log(\"Bokeh: BokehJS plotting callback run at\", now());\n      run_inline_js();\n    });\n  }\n}(window));",
      "application/vnd.bokehjs_load.v0+json": ""
     },
     "metadata": {},
     "output_type": "display_data"
    },
    {
     "data": {
      "text/html": [
       "\n",
       "\n",
       "\n",
       "\n",
       "\n",
       "\n",
       "  <div class=\"bk-root\" id=\"4344a3a8-de5e-44e3-a53d-98e48ee08d33\" data-root-id=\"121968\"></div>\n"
      ]
     },
     "metadata": {},
     "output_type": "display_data"
    },
    {
     "data": {
      "application/javascript": "(function(root) {\n  function embed_document(root) {\n    \n  var docs_json = {\"1e3aa7c4-b605-46e4-9884-4883fe66d868\":{\"roots\":{\"references\":[{\"attributes\":{\"above\":[{\"id\":\"122038\",\"type\":\"Legend\"}],\"below\":[{\"id\":\"121977\",\"type\":\"LinearAxis\"}],\"left\":[{\"id\":\"121982\",\"type\":\"LinearAxis\"}],\"plot_height\":320,\"plot_width\":400,\"renderers\":[{\"id\":\"121977\",\"type\":\"LinearAxis\"},{\"id\":\"121981\",\"type\":\"Grid\"},{\"id\":\"121982\",\"type\":\"LinearAxis\"},{\"id\":\"121986\",\"type\":\"Grid\"},{\"id\":\"121995\",\"type\":\"BoxAnnotation\"},{\"id\":\"122006\",\"type\":\"GlyphRenderer\"},{\"id\":\"122012\",\"type\":\"GlyphRenderer\"},{\"id\":\"122018\",\"type\":\"GlyphRenderer\"},{\"id\":\"122024\",\"type\":\"GlyphRenderer\"},{\"id\":\"122030\",\"type\":\"GlyphRenderer\"},{\"id\":\"122036\",\"type\":\"GlyphRenderer\"},{\"id\":\"122038\",\"type\":\"Legend\"}],\"title\":{\"id\":\"124081\",\"type\":\"Title\"},\"toolbar\":{\"id\":\"121993\",\"type\":\"Toolbar\"},\"x_range\":{\"id\":\"121969\",\"type\":\"DataRange1d\"},\"x_scale\":{\"id\":\"121973\",\"type\":\"LinearScale\"},\"y_range\":{\"id\":\"121971\",\"type\":\"DataRange1d\"},\"y_scale\":{\"id\":\"121975\",\"type\":\"LinearScale\"}},\"id\":\"121968\",\"subtype\":\"Figure\",\"type\":\"Plot\"},{\"attributes\":{\"fill_alpha\":{\"value\":0.1},\"fill_color\":{\"value\":\"#1f77b4\"},\"line_alpha\":{\"value\":0.1},\"line_color\":{\"value\":\"#1f77b4\"},\"size\":{\"units\":\"screen\",\"value\":7},\"x\":{\"field\":\"x_marker\"},\"y\":{\"field\":\"y_marker\"}},\"id\":\"122023\",\"type\":\"Circle\"},{\"attributes\":{\"line_alpha\":0.1,\"line_color\":\"#1f77b4\",\"line_width\":2,\"x\":{\"field\":\"x\"},\"y\":{\"field\":\"y\"}},\"id\":\"122005\",\"type\":\"Line\"},{\"attributes\":{},\"id\":\"124088\",\"type\":\"Selection\"},{\"attributes\":{\"source\":{\"id\":\"122020\",\"type\":\"ColumnDataSource\"}},\"id\":\"122025\",\"type\":\"CDSView\"},{\"attributes\":{\"data_source\":{\"id\":\"122002\",\"type\":\"ColumnDataSource\"},\"glyph\":{\"id\":\"122004\",\"type\":\"Line\"},\"hover_glyph\":null,\"muted_glyph\":null,\"nonselection_glyph\":{\"id\":\"122005\",\"type\":\"Line\"},\"selection_glyph\":null,\"view\":{\"id\":\"122007\",\"type\":\"CDSView\"}},\"id\":\"122006\",\"type\":\"GlyphRenderer\"},{\"attributes\":{},\"id\":\"121991\",\"type\":\"ResetTool\"},{\"attributes\":{},\"id\":\"124089\",\"type\":\"UnionRenderers\"},{\"attributes\":{},\"id\":\"121975\",\"type\":\"LinearScale\"},{\"attributes\":{\"callback\":null,\"data\":{\"x_marker\":{\"__ndarray__\":\"AAAAAAAAAACamZmZmZm5P5qZmZmZmck/NDMzMzMz0z+amZmZmZnZPwAAAAAAAOA/NDMzMzMz4z9nZmZmZmbmP5qZmZmZmek/zczMzMzM7D8AAAAAAADwPw==\",\"dtype\":\"float64\",\"shape\":[11]},\"y_marker\":[132.0,115.0,96.0,74.0,49.0,22.0,-6.0,-33.0,-58.0,-79.0,-97.0]},\"selected\":{\"id\":\"124096\",\"type\":\"Selection\"},\"selection_policy\":{\"id\":\"124095\",\"type\":\"UnionRenderers\"}},\"id\":\"122026\",\"type\":\"ColumnDataSource\"},{\"attributes\":{\"source\":{\"id\":\"122002\",\"type\":\"ColumnDataSource\"}},\"id\":\"122007\",\"type\":\"CDSView\"},{\"attributes\":{},\"id\":\"124090\",\"type\":\"Selection\"},{\"attributes\":{\"fill_color\":{\"value\":\"white\"},\"size\":{\"units\":\"screen\",\"value\":7},\"x\":{\"field\":\"x_marker\"},\"y\":{\"field\":\"y_marker\"}},\"id\":\"122028\",\"type\":\"Triangle\"},{\"attributes\":{\"callback\":null,\"data\":{\"x\":{\"__ndarray__\":\"AAAAAAAAAACamZmZmZmpP5qZmZmZmbk/NDMzMzMzwz+amZmZmZnJPwAAAAAAANA/NDMzMzMz0z9nZmZmZmbWP5qZmZmZmdk/zczMzMzM3D8AAAAAAADgP5qZmZmZmeE/NDMzMzMz4z/NzMzMzMzkP2dmZmZmZuY/AAAAAAAA6D+amZmZmZnpPzQzMzMzM+s/zczMzMzM7D9nZmZmZmbuPwAAAAAAAPA/zczMzMzM8D8=\",\"dtype\":\"float64\",\"shape\":[22]},\"y\":[132.0,124.0,115.0,106.0,96.0,85.0,74.0,62.0,49.0,36.0,22.0,8.0,-6.0,-20.0,-33.0,-46.0,-58.0,-69.0,-79.0,-88.0,-97.0,-105.0]},\"selected\":{\"id\":\"124090\",\"type\":\"Selection\"},\"selection_policy\":{\"id\":\"124089\",\"type\":\"UnionRenderers\"}},\"id\":\"122008\",\"type\":\"ColumnDataSource\"},{\"attributes\":{},\"id\":\"121973\",\"type\":\"LinearScale\"},{\"attributes\":{},\"id\":\"124091\",\"type\":\"UnionRenderers\"},{\"attributes\":{\"callback\":null,\"data\":{\"x_marker\":{\"__ndarray__\":\"AAAAAAAAAACamZmZmZm5P5qZmZmZmck/NDMzMzMz0z+amZmZmZnZPwAAAAAAAOA/NDMzMzMz4z9nZmZmZmbmP5qZmZmZmek/zczMzMzM7D8AAAAAAADwPw==\",\"dtype\":\"float64\",\"shape\":[11]},\"y_marker\":[134.0,125.0,118.0,112.0,108.0,106.0,105.0,105.0,105.0,105.0,105.0]},\"selected\":{\"id\":\"124098\",\"type\":\"Selection\"},\"selection_policy\":{\"id\":\"124097\",\"type\":\"UnionRenderers\"}},\"id\":\"122032\",\"type\":\"ColumnDataSource\"},{\"attributes\":{},\"id\":\"124092\",\"type\":\"Selection\"},{\"attributes\":{},\"id\":\"121990\",\"type\":\"SaveTool\"},{\"attributes\":{\"source\":{\"id\":\"122026\",\"type\":\"ColumnDataSource\"}},\"id\":\"122031\",\"type\":\"CDSView\"},{\"attributes\":{\"line_width\":2,\"x\":{\"field\":\"x\"},\"y\":{\"field\":\"y\"}},\"id\":\"122010\",\"type\":\"Line\"},{\"attributes\":{},\"id\":\"124093\",\"type\":\"UnionRenderers\"},{\"attributes\":{\"fill_color\":{\"value\":\"white\"},\"size\":{\"units\":\"screen\",\"value\":7},\"x\":{\"field\":\"x_marker\"},\"y\":{\"field\":\"y_marker\"}},\"id\":\"122034\",\"type\":\"Square\"},{\"attributes\":{},\"id\":\"124087\",\"type\":\"UnionRenderers\"},{\"attributes\":{\"line_alpha\":0.1,\"line_color\":\"#1f77b4\",\"line_width\":2,\"x\":{\"field\":\"x\"},\"y\":{\"field\":\"y\"}},\"id\":\"122011\",\"type\":\"Line\"},{\"attributes\":{},\"id\":\"124094\",\"type\":\"Selection\"},{\"attributes\":{},\"id\":\"121983\",\"type\":\"BasicTicker\"},{\"attributes\":{\"fill_alpha\":{\"value\":0.1},\"fill_color\":{\"value\":\"#1f77b4\"},\"line_alpha\":{\"value\":0.1},\"line_color\":{\"value\":\"#1f77b4\"},\"size\":{\"units\":\"screen\",\"value\":7},\"x\":{\"field\":\"x_marker\"},\"y\":{\"field\":\"y_marker\"}},\"id\":\"122035\",\"type\":\"Square\"},{\"attributes\":{\"data_source\":{\"id\":\"122008\",\"type\":\"ColumnDataSource\"},\"glyph\":{\"id\":\"122010\",\"type\":\"Line\"},\"hover_glyph\":null,\"muted_glyph\":null,\"nonselection_glyph\":{\"id\":\"122011\",\"type\":\"Line\"},\"selection_glyph\":null,\"view\":{\"id\":\"122013\",\"type\":\"CDSView\"}},\"id\":\"122012\",\"type\":\"GlyphRenderer\"},{\"attributes\":{\"dimension\":1,\"plot\":{\"id\":\"121968\",\"subtype\":\"Figure\",\"type\":\"Plot\"},\"ticker\":{\"id\":\"121983\",\"type\":\"BasicTicker\"},\"visible\":false},\"id\":\"121986\",\"type\":\"Grid\"},{\"attributes\":{},\"id\":\"124095\",\"type\":\"UnionRenderers\"},{\"attributes\":{\"data_source\":{\"id\":\"122032\",\"type\":\"ColumnDataSource\"},\"glyph\":{\"id\":\"122034\",\"type\":\"Square\"},\"hover_glyph\":null,\"muted_glyph\":null,\"nonselection_glyph\":{\"id\":\"122035\",\"type\":\"Square\"},\"selection_glyph\":null,\"view\":{\"id\":\"122037\",\"type\":\"CDSView\"}},\"id\":\"122036\",\"type\":\"GlyphRenderer\"},{\"attributes\":{\"callback\":null,\"data\":{\"x\":{\"__ndarray__\":\"AAAAAAAAAACamZmZmZmpP5qZmZmZmbk/NDMzMzMzwz+amZmZmZnJPwAAAAAAANA/NDMzMzMz0z9nZmZmZmbWP5qZmZmZmdk/zczMzMzM3D8AAAAAAADgP5qZmZmZmeE/NDMzMzMz4z/NzMzMzMzkP2dmZmZmZuY/AAAAAAAA6D+amZmZmZnpPzQzMzMzM+s/zczMzMzM7D9nZmZmZmbuPwAAAAAAAPA/zczMzMzM8D8=\",\"dtype\":\"float64\",\"shape\":[22]},\"y\":[133.0,126.0,120.0,114.0,107.0,101.0,95.0,88.0,82.0,76.0,69.0,63.0,57.0,51.0,45.0,39.0,33.0,27.0,21.0,15.0,10.0,4.0]},\"selected\":{\"id\":\"124088\",\"type\":\"Selection\"},\"selection_policy\":{\"id\":\"124087\",\"type\":\"UnionRenderers\"}},\"id\":\"122002\",\"type\":\"ColumnDataSource\"},{\"attributes\":{\"source\":{\"id\":\"122008\",\"type\":\"ColumnDataSource\"}},\"id\":\"122013\",\"type\":\"CDSView\"},{\"attributes\":{},\"id\":\"124096\",\"type\":\"Selection\"},{\"attributes\":{\"line_width\":2,\"x\":{\"field\":\"x\"},\"y\":{\"field\":\"y\"}},\"id\":\"122004\",\"type\":\"Line\"},{\"attributes\":{\"source\":{\"id\":\"122032\",\"type\":\"ColumnDataSource\"}},\"id\":\"122037\",\"type\":\"CDSView\"},{\"attributes\":{\"callback\":null,\"data\":{\"x\":{\"__ndarray__\":\"AAAAAAAAAACamZmZmZmpP5qZmZmZmbk/NDMzMzMzwz+amZmZmZnJPwAAAAAAANA/NDMzMzMz0z9nZmZmZmbWP5qZmZmZmdk/zczMzMzM3D8AAAAAAADgP5qZmZmZmeE/NDMzMzMz4z/NzMzMzMzkP2dmZmZmZuY/AAAAAAAA6D+amZmZmZnpPzQzMzMzM+s/zczMzMzM7D9nZmZmZmbuPwAAAAAAAPA/zczMzMzM8D8=\",\"dtype\":\"float64\",\"shape\":[22]},\"y\":[134.0,129.0,125.0,122.0,118.0,115.0,112.0,110.0,108.0,107.0,106.0,106.0,105.0,105.0,105.0,105.0,105.0,105.0,105.0,105.0,105.0,105.0]},\"selected\":{\"id\":\"124092\",\"type\":\"Selection\"},\"selection_policy\":{\"id\":\"124091\",\"type\":\"UnionRenderers\"}},\"id\":\"122014\",\"type\":\"ColumnDataSource\"},{\"attributes\":{\"callback\":null},\"id\":\"121969\",\"type\":\"DataRange1d\"},{\"attributes\":{\"items\":[{\"id\":\"122039\",\"type\":\"LegendItem\"},{\"id\":\"122040\",\"type\":\"LegendItem\"},{\"id\":\"122041\",\"type\":\"LegendItem\"}],\"label_standoff\":1,\"label_text_font_size\":{\"value\":\"12px\"},\"location\":[0,0],\"orientation\":\"horizontal\",\"plot\":{\"id\":\"121968\",\"subtype\":\"Figure\",\"type\":\"Plot\"},\"spacing\":0},\"id\":\"122038\",\"type\":\"Legend\"},{\"attributes\":{},\"id\":\"124097\",\"type\":\"UnionRenderers\"},{\"attributes\":{\"axis_label\":\"Entanglement (\\u03b3)\",\"formatter\":{\"id\":\"124083\",\"type\":\"BasicTickFormatter\"},\"plot\":{\"id\":\"121968\",\"subtype\":\"Figure\",\"type\":\"Plot\"},\"ticker\":{\"id\":\"121978\",\"type\":\"BasicTicker\"}},\"id\":\"121977\",\"type\":\"LinearAxis\"},{\"attributes\":{},\"id\":\"124098\",\"type\":\"Selection\"},{\"attributes\":{\"plot\":null,\"text\":\"\"},\"id\":\"124081\",\"type\":\"Title\"},{\"attributes\":{\"callback\":null,\"data\":{\"x_marker\":{\"__ndarray__\":\"AAAAAAAAAACamZmZmZm5P5qZmZmZmck/NDMzMzMz0z+amZmZmZnZPwAAAAAAAOA/NDMzMzMz4z9nZmZmZmbmP5qZmZmZmek/zczMzMzM7D8AAAAAAADwPw==\",\"dtype\":\"float64\",\"shape\":[11]},\"y_marker\":[133.0,120.0,107.0,95.0,82.0,69.0,57.0,45.0,33.0,21.0,10.0]},\"selected\":{\"id\":\"124094\",\"type\":\"Selection\"},\"selection_policy\":{\"id\":\"124093\",\"type\":\"UnionRenderers\"}},\"id\":\"122020\",\"type\":\"ColumnDataSource\"},{\"attributes\":{\"data_source\":{\"id\":\"122026\",\"type\":\"ColumnDataSource\"},\"glyph\":{\"id\":\"122028\",\"type\":\"Triangle\"},\"hover_glyph\":null,\"muted_glyph\":null,\"nonselection_glyph\":{\"id\":\"122029\",\"type\":\"Triangle\"},\"selection_glyph\":null,\"view\":{\"id\":\"122031\",\"type\":\"CDSView\"}},\"id\":\"122030\",\"type\":\"GlyphRenderer\"},{\"attributes\":{},\"id\":\"121987\",\"type\":\"PanTool\"},{\"attributes\":{\"line_width\":2,\"x\":{\"field\":\"x\"},\"y\":{\"field\":\"y\"}},\"id\":\"122016\",\"type\":\"Line\"},{\"attributes\":{\"bottom_units\":\"screen\",\"fill_alpha\":{\"value\":0.5},\"fill_color\":{\"value\":\"lightgrey\"},\"left_units\":\"screen\",\"level\":\"overlay\",\"line_alpha\":{\"value\":1.0},\"line_color\":{\"value\":\"black\"},\"line_dash\":[4,4],\"line_width\":{\"value\":2},\"plot\":null,\"render_mode\":\"css\",\"right_units\":\"screen\",\"top_units\":\"screen\"},\"id\":\"121995\",\"type\":\"BoxAnnotation\"},{\"attributes\":{},\"id\":\"121988\",\"type\":\"WheelZoomTool\"},{\"attributes\":{\"active_drag\":\"auto\",\"active_inspect\":\"auto\",\"active_multi\":null,\"active_scroll\":\"auto\",\"active_tap\":\"auto\",\"tools\":[{\"id\":\"121987\",\"type\":\"PanTool\"},{\"id\":\"121988\",\"type\":\"WheelZoomTool\"},{\"id\":\"121989\",\"type\":\"BoxZoomTool\"},{\"id\":\"121990\",\"type\":\"SaveTool\"},{\"id\":\"121991\",\"type\":\"ResetTool\"},{\"id\":\"121992\",\"type\":\"HelpTool\"}]},\"id\":\"121993\",\"type\":\"Toolbar\"},{\"attributes\":{\"label\":{\"value\":\"P\"},\"renderers\":[{\"id\":\"122024\",\"type\":\"GlyphRenderer\"}]},\"id\":\"122039\",\"type\":\"LegendItem\"},{\"attributes\":{\"overlay\":{\"id\":\"121995\",\"type\":\"BoxAnnotation\"}},\"id\":\"121989\",\"type\":\"BoxZoomTool\"},{\"attributes\":{\"line_alpha\":0.1,\"line_color\":\"#1f77b4\",\"line_width\":2,\"x\":{\"field\":\"x\"},\"y\":{\"field\":\"y\"}},\"id\":\"122017\",\"type\":\"Line\"},{\"attributes\":{\"label\":{\"value\":\"L\"},\"renderers\":[{\"id\":\"122030\",\"type\":\"GlyphRenderer\"}]},\"id\":\"122040\",\"type\":\"LegendItem\"},{\"attributes\":{\"data_source\":{\"id\":\"122014\",\"type\":\"ColumnDataSource\"},\"glyph\":{\"id\":\"122016\",\"type\":\"Line\"},\"hover_glyph\":null,\"muted_glyph\":null,\"nonselection_glyph\":{\"id\":\"122017\",\"type\":\"Line\"},\"selection_glyph\":null,\"view\":{\"id\":\"122019\",\"type\":\"CDSView\"}},\"id\":\"122018\",\"type\":\"GlyphRenderer\"},{\"attributes\":{\"callback\":null},\"id\":\"121971\",\"type\":\"DataRange1d\"},{\"attributes\":{\"axis_label\":\"Profit Buyer 2\",\"formatter\":{\"id\":\"124085\",\"type\":\"BasicTickFormatter\"},\"plot\":{\"id\":\"121968\",\"subtype\":\"Figure\",\"type\":\"Plot\"},\"ticker\":{\"id\":\"121983\",\"type\":\"BasicTicker\"}},\"id\":\"121982\",\"type\":\"LinearAxis\"},{\"attributes\":{\"label\":{\"value\":\"U\"},\"renderers\":[{\"id\":\"122036\",\"type\":\"GlyphRenderer\"}]},\"id\":\"122041\",\"type\":\"LegendItem\"},{\"attributes\":{\"source\":{\"id\":\"122014\",\"type\":\"ColumnDataSource\"}},\"id\":\"122019\",\"type\":\"CDSView\"},{\"attributes\":{\"plot\":{\"id\":\"121968\",\"subtype\":\"Figure\",\"type\":\"Plot\"},\"ticker\":{\"id\":\"121978\",\"type\":\"BasicTicker\"},\"visible\":false},\"id\":\"121981\",\"type\":\"Grid\"},{\"attributes\":{},\"id\":\"124083\",\"type\":\"BasicTickFormatter\"},{\"attributes\":{},\"id\":\"121978\",\"type\":\"BasicTicker\"},{\"attributes\":{},\"id\":\"124085\",\"type\":\"BasicTickFormatter\"},{\"attributes\":{\"fill_alpha\":{\"value\":0.1},\"fill_color\":{\"value\":\"#1f77b4\"},\"line_alpha\":{\"value\":0.1},\"line_color\":{\"value\":\"#1f77b4\"},\"size\":{\"units\":\"screen\",\"value\":7},\"x\":{\"field\":\"x_marker\"},\"y\":{\"field\":\"y_marker\"}},\"id\":\"122029\",\"type\":\"Triangle\"},{\"attributes\":{\"data_source\":{\"id\":\"122020\",\"type\":\"ColumnDataSource\"},\"glyph\":{\"id\":\"122022\",\"type\":\"Circle\"},\"hover_glyph\":null,\"muted_glyph\":null,\"nonselection_glyph\":{\"id\":\"122023\",\"type\":\"Circle\"},\"selection_glyph\":null,\"view\":{\"id\":\"122025\",\"type\":\"CDSView\"}},\"id\":\"122024\",\"type\":\"GlyphRenderer\"},{\"attributes\":{\"fill_color\":{\"value\":\"white\"},\"size\":{\"units\":\"screen\",\"value\":7},\"x\":{\"field\":\"x_marker\"},\"y\":{\"field\":\"y_marker\"}},\"id\":\"122022\",\"type\":\"Circle\"},{\"attributes\":{},\"id\":\"121992\",\"type\":\"HelpTool\"}],\"root_ids\":[\"121968\"]},\"title\":\"Bokeh Application\",\"version\":\"1.0.4\"}};\n  var render_items = [{\"docid\":\"1e3aa7c4-b605-46e4-9884-4883fe66d868\",\"roots\":{\"121968\":\"4344a3a8-de5e-44e3-a53d-98e48ee08d33\"}}];\n  root.Bokeh.embed.embed_items_notebook(docs_json, render_items);\n\n  }\n  if (root.Bokeh !== undefined) {\n    embed_document(root);\n  } else {\n    var attempts = 0;\n    var timer = setInterval(function(root) {\n      if (root.Bokeh !== undefined) {\n        embed_document(root);\n        clearInterval(timer);\n      }\n      attempts++;\n      if (attempts > 100) {\n        console.log(\"Bokeh: ERROR: Unable to run BokehJS code because BokehJS library is missing\");\n        clearInterval(timer);\n      }\n    }, 10, root)\n  }\n})(window);",
      "application/vnd.bokehjs_exec.v0+json": ""
     },
     "metadata": {
      "application/vnd.bokehjs_exec.v0+json": {
       "id": "121968"
      }
     },
     "output_type": "display_data"
    }
   ],
   "source": [
    "item = 8\n",
    "%run Bokeh_Quantum.ipynb"
   ]
  },
  {
   "cell_type": "code",
   "execution_count": 151,
   "metadata": {},
   "outputs": [
    {
     "data": {
      "text/plain": [
       "'q1_Profit_Buyer_2'"
      ]
     },
     "execution_count": 151,
     "metadata": {},
     "output_type": "execute_result"
    }
   ],
   "source": [
    "'q1_'+result_selector(item).replace(\" \", \"_\")"
   ]
  },
  {
   "cell_type": "markdown",
   "metadata": {},
   "source": [
    "### Find Maximum/ Minimum Values"
   ]
  },
  {
   "cell_type": "raw",
   "metadata": {},
   "source": [
    "        0: 'policy selected',\n",
    "        1: 'Fill Rate Buyer 1',\n",
    "        2: 'Shortage Cost Buyer 1',\n",
    "        3: 'Holding Cost Buyer 1',\n",
    "        4: 'Profit Buyer 1',\n",
    "        5: 'Fill Rate Buyer 2',\n",
    "        6: 'Shortage Cost Buyer 2',\n",
    "        7: 'Holding Cost Buyer 2',\n",
    "        8: 'Profit Buyer 2',"
   ]
  },
  {
   "cell_type": "raw",
   "metadata": {},
   "source": [
    "        'P': 0,\n",
    "        'L': 1,\n",
    "        'U': 2,\n",
    "        'R': 3,\n",
    "        'Lx': 4"
   ]
  },
  {
   "cell_type": "code",
   "execution_count": 176,
   "metadata": {},
   "outputs": [
    {
     "data": {
      "text/plain": [
       "[132.0,\n",
       " 124.0,\n",
       " 115.0,\n",
       " 106.0,\n",
       " 96.0,\n",
       " 85.0,\n",
       " 74.0,\n",
       " 62.0,\n",
       " 49.0,\n",
       " 36.0,\n",
       " 22.0,\n",
       " 8.0,\n",
       " -6.0,\n",
       " -20.0,\n",
       " -33.0,\n",
       " -46.0,\n",
       " -58.0,\n",
       " -69.0,\n",
       " -79.0,\n",
       " -88.0,\n",
       " -97.0,\n",
       " -105.0]"
      ]
     },
     "execution_count": 176,
     "metadata": {},
     "output_type": "execute_result"
    }
   ],
   "source": [
    "pol_= 1\n",
    "item_=8\n",
    "result[pol_][item_]"
   ]
  },
  {
   "cell_type": "code",
   "execution_count": 170,
   "metadata": {},
   "outputs": [
    {
     "data": {
      "text/plain": [
       "216.0"
      ]
     },
     "execution_count": 170,
     "metadata": {},
     "output_type": "execute_result"
    }
   ],
   "source": [
    "max(result[pol_][item_])"
   ]
  },
  {
   "cell_type": "code",
   "execution_count": 171,
   "metadata": {},
   "outputs": [
    {
     "data": {
      "text/plain": [
       "21"
      ]
     },
     "execution_count": 171,
     "metadata": {},
     "output_type": "execute_result"
    }
   ],
   "source": [
    "result[pol_][item_].index(max(result[pol_][item_]))"
   ]
  },
  {
   "cell_type": "code",
   "execution_count": 172,
   "metadata": {},
   "outputs": [
    {
     "data": {
      "text/plain": [
       "1.05"
      ]
     },
     "execution_count": 172,
     "metadata": {},
     "output_type": "execute_result"
    }
   ],
   "source": [
    "gamma[result[pol_][item_].index(max(result[pol_][item_]))]"
   ]
  },
  {
   "cell_type": "code",
   "execution_count": 175,
   "metadata": {},
   "outputs": [
    {
     "data": {
      "text/plain": [
       "1.0471975511965976"
      ]
     },
     "execution_count": 175,
     "metadata": {},
     "output_type": "execute_result"
    }
   ],
   "source": [
    "np.pi/3"
   ]
  },
  {
   "cell_type": "code",
   "execution_count": 177,
   "metadata": {},
   "outputs": [
    {
     "data": {
      "text/plain": [
       "0.6000000000000001"
      ]
     },
     "execution_count": 177,
     "metadata": {},
     "output_type": "execute_result"
    }
   ],
   "source": [
    "gamma[result[pol_][item_].index(-6)]"
   ]
  },
  {
   "cell_type": "markdown",
   "metadata": {},
   "source": [
    "### Two Quantum Players"
   ]
  },
  {
   "cell_type": "code",
   "execution_count": 39,
   "metadata": {},
   "outputs": [
    {
     "name": "stdout",
     "output_type": "stream",
     "text": [
      "P\n",
      "L\n",
      "U\n",
      "R\n",
      "Lx\n"
     ]
    }
   ],
   "source": [
    "k_min = 50\n",
    "#k_max = 140\n",
    "k_max = 200      \n",
    "k_range = np.arange(k_min, k_max, 1)\n",
    "result = []\n",
    "m=9\n",
    "n=5\n",
    "kk=2 #0 for non-quantum 1 for quantum\n",
    "#result=[[0] * m for i in range(n)] #creating n*m dimensions list in Python\n",
    "result=[[[0] * m for i in range(n)] for i in range(kk)]\n",
    "nn=0\n",
    "\n",
    "for policy_selected in policy:\n",
    "    print(policy_selected)\n",
    "    fr_1_arr = [0]*len(k_range)\n",
    "    short1_arr = [0]*len(k_range)\n",
    "    holding1_arr = [0]*len(k_range)\n",
    "    profit1_arr = [0]*len(k_range)\n",
    "    fr_2_arr = [0]*len(k_range)\n",
    "    short2_arr = [0]*len(k_range)\n",
    "    holding2_arr = [0]*len(k_range)\n",
    "    profit2_arr = [0]*len(k_range)\n",
    "    \n",
    "    q_fr_1_arr = [0]*len(k_range)\n",
    "    q_short1_arr = [0]*len(k_range)\n",
    "    q_holding1_arr = [0]*len(k_range)\n",
    "    q_profit1_arr = [0]*len(k_range)\n",
    "    q_fr_2_arr = [0]*len(k_range)\n",
    "    q_short2_arr = [0]*len(k_range)\n",
    "    q_holding2_arr = [0]*len(k_range)\n",
    "    q_profit2_arr = [0]*len(k_range)\n",
    "    \n",
    "    i=0\n",
    "\n",
    "    \n",
    "    for k in k_range:\n",
    "        quant1=0\n",
    "        quant2=0\n",
    "        fr_1_arr[i], short1_arr[i], holding1_arr[i], profit1_arr[i], fr_2_arr[i], short2_arr[i], holding2_arr[i], profit2_arr[i] = origin_updated(0)\n",
    "        quant1=1\n",
    "        quant2=1\n",
    "        q_fr_1_arr[i], q_short1_arr[i], q_holding1_arr[i], q_profit1_arr[i], q_fr_2_arr[i], q_short2_arr[i], q_holding2_arr[i], q_profit2_arr[i] = origin_updated(np.pi/6)\n",
    "        i=i+1\n",
    "    \n",
    "    result[0][nn][0] = policy_selected\n",
    "    result[0][nn][1] = fr_1_arr\n",
    "    result[0][nn][2] = short1_arr\n",
    "    result[0][nn][3] = holding1_arr\n",
    "    result[0][nn][4] = profit1_arr\n",
    "    \n",
    "    result[0][nn][5] = fr_2_arr\n",
    "    result[0][nn][6] = short2_arr\n",
    "    result[0][nn][7] = holding2_arr\n",
    "    result[0][nn][8] = profit2_arr\n",
    "    \n",
    "    result[1][nn][0] = policy_selected\n",
    "    result[1][nn][1] = q_fr_1_arr\n",
    "    result[1][nn][2] = q_short1_arr\n",
    "    result[1][nn][3] = q_holding1_arr\n",
    "    result[1][nn][4] = q_profit1_arr\n",
    "    \n",
    "    result[1][nn][5] = q_fr_2_arr\n",
    "    result[1][nn][6] = q_short2_arr\n",
    "    result[1][nn][7] = q_holding2_arr\n",
    "    result[1][nn][8] = q_profit2_arr\n",
    "    \n",
    "    nn=nn+1"
   ]
  },
  {
   "cell_type": "code",
   "execution_count": 41,
   "metadata": {},
   "outputs": [
    {
     "data": {
      "text/html": [
       "\n",
       "    <div class=\"bk-root\">\n",
       "        <a href=\"https://bokeh.pydata.org\" target=\"_blank\" class=\"bk-logo bk-logo-small bk-logo-notebook\"></a>\n",
       "        <span id=\"2445\">Loading BokehJS ...</span>\n",
       "    </div>"
      ]
     },
     "metadata": {},
     "output_type": "display_data"
    },
    {
     "data": {
      "application/javascript": "\n(function(root) {\n  function now() {\n    return new Date();\n  }\n\n  var force = true;\n\n  if (typeof (root._bokeh_onload_callbacks) === \"undefined\" || force === true) {\n    root._bokeh_onload_callbacks = [];\n    root._bokeh_is_loading = undefined;\n  }\n\n  var JS_MIME_TYPE = 'application/javascript';\n  var HTML_MIME_TYPE = 'text/html';\n  var EXEC_MIME_TYPE = 'application/vnd.bokehjs_exec.v0+json';\n  var CLASS_NAME = 'output_bokeh rendered_html';\n\n  /**\n   * Render data to the DOM node\n   */\n  function render(props, node) {\n    var script = document.createElement(\"script\");\n    node.appendChild(script);\n  }\n\n  /**\n   * Handle when an output is cleared or removed\n   */\n  function handleClearOutput(event, handle) {\n    var cell = handle.cell;\n\n    var id = cell.output_area._bokeh_element_id;\n    var server_id = cell.output_area._bokeh_server_id;\n    // Clean up Bokeh references\n    if (id != null && id in Bokeh.index) {\n      Bokeh.index[id].model.document.clear();\n      delete Bokeh.index[id];\n    }\n\n    if (server_id !== undefined) {\n      // Clean up Bokeh references\n      var cmd = \"from bokeh.io.state import curstate; print(curstate().uuid_to_server['\" + server_id + \"'].get_sessions()[0].document.roots[0]._id)\";\n      cell.notebook.kernel.execute(cmd, {\n        iopub: {\n          output: function(msg) {\n            var id = msg.content.text.trim();\n            if (id in Bokeh.index) {\n              Bokeh.index[id].model.document.clear();\n              delete Bokeh.index[id];\n            }\n          }\n        }\n      });\n      // Destroy server and session\n      var cmd = \"import bokeh.io.notebook as ion; ion.destroy_server('\" + server_id + \"')\";\n      cell.notebook.kernel.execute(cmd);\n    }\n  }\n\n  /**\n   * Handle when a new output is added\n   */\n  function handleAddOutput(event, handle) {\n    var output_area = handle.output_area;\n    var output = handle.output;\n\n    // limit handleAddOutput to display_data with EXEC_MIME_TYPE content only\n    if ((output.output_type != \"display_data\") || (!output.data.hasOwnProperty(EXEC_MIME_TYPE))) {\n      return\n    }\n\n    var toinsert = output_area.element.find(\".\" + CLASS_NAME.split(' ')[0]);\n\n    if (output.metadata[EXEC_MIME_TYPE][\"id\"] !== undefined) {\n      toinsert[toinsert.length - 1].firstChild.textContent = output.data[JS_MIME_TYPE];\n      // store reference to embed id on output_area\n      output_area._bokeh_element_id = output.metadata[EXEC_MIME_TYPE][\"id\"];\n    }\n    if (output.metadata[EXEC_MIME_TYPE][\"server_id\"] !== undefined) {\n      var bk_div = document.createElement(\"div\");\n      bk_div.innerHTML = output.data[HTML_MIME_TYPE];\n      var script_attrs = bk_div.children[0].attributes;\n      for (var i = 0; i < script_attrs.length; i++) {\n        toinsert[toinsert.length - 1].firstChild.setAttribute(script_attrs[i].name, script_attrs[i].value);\n      }\n      // store reference to server id on output_area\n      output_area._bokeh_server_id = output.metadata[EXEC_MIME_TYPE][\"server_id\"];\n    }\n  }\n\n  function register_renderer(events, OutputArea) {\n\n    function append_mime(data, metadata, element) {\n      // create a DOM node to render to\n      var toinsert = this.create_output_subarea(\n        metadata,\n        CLASS_NAME,\n        EXEC_MIME_TYPE\n      );\n      this.keyboard_manager.register_events(toinsert);\n      // Render to node\n      var props = {data: data, metadata: metadata[EXEC_MIME_TYPE]};\n      render(props, toinsert[toinsert.length - 1]);\n      element.append(toinsert);\n      return toinsert\n    }\n\n    /* Handle when an output is cleared or removed */\n    events.on('clear_output.CodeCell', handleClearOutput);\n    events.on('delete.Cell', handleClearOutput);\n\n    /* Handle when a new output is added */\n    events.on('output_added.OutputArea', handleAddOutput);\n\n    /**\n     * Register the mime type and append_mime function with output_area\n     */\n    OutputArea.prototype.register_mime_type(EXEC_MIME_TYPE, append_mime, {\n      /* Is output safe? */\n      safe: true,\n      /* Index of renderer in `output_area.display_order` */\n      index: 0\n    });\n  }\n\n  // register the mime type if in Jupyter Notebook environment and previously unregistered\n  if (root.Jupyter !== undefined) {\n    var events = require('base/js/events');\n    var OutputArea = require('notebook/js/outputarea').OutputArea;\n\n    if (OutputArea.prototype.mime_types().indexOf(EXEC_MIME_TYPE) == -1) {\n      register_renderer(events, OutputArea);\n    }\n  }\n\n  \n  if (typeof (root._bokeh_timeout) === \"undefined\" || force === true) {\n    root._bokeh_timeout = Date.now() + 5000;\n    root._bokeh_failed_load = false;\n  }\n\n  var NB_LOAD_WARNING = {'data': {'text/html':\n     \"<div style='background-color: #fdd'>\\n\"+\n     \"<p>\\n\"+\n     \"BokehJS does not appear to have successfully loaded. If loading BokehJS from CDN, this \\n\"+\n     \"may be due to a slow or bad network connection. Possible fixes:\\n\"+\n     \"</p>\\n\"+\n     \"<ul>\\n\"+\n     \"<li>re-rerun `output_notebook()` to attempt to load from CDN again, or</li>\\n\"+\n     \"<li>use INLINE resources instead, as so:</li>\\n\"+\n     \"</ul>\\n\"+\n     \"<code>\\n\"+\n     \"from bokeh.resources import INLINE\\n\"+\n     \"output_notebook(resources=INLINE)\\n\"+\n     \"</code>\\n\"+\n     \"</div>\"}};\n\n  function display_loaded() {\n    var el = document.getElementById(\"2445\");\n    if (el != null) {\n      el.textContent = \"BokehJS is loading...\";\n    }\n    if (root.Bokeh !== undefined) {\n      if (el != null) {\n        el.textContent = \"BokehJS \" + root.Bokeh.version + \" successfully loaded.\";\n      }\n    } else if (Date.now() < root._bokeh_timeout) {\n      setTimeout(display_loaded, 100)\n    }\n  }\n\n\n  function run_callbacks() {\n    try {\n      root._bokeh_onload_callbacks.forEach(function(callback) { callback() });\n    }\n    finally {\n      delete root._bokeh_onload_callbacks\n    }\n    console.info(\"Bokeh: all callbacks have finished\");\n  }\n\n  function load_libs(js_urls, callback) {\n    root._bokeh_onload_callbacks.push(callback);\n    if (root._bokeh_is_loading > 0) {\n      console.log(\"Bokeh: BokehJS is being loaded, scheduling callback at\", now());\n      return null;\n    }\n    if (js_urls == null || js_urls.length === 0) {\n      run_callbacks();\n      return null;\n    }\n    console.log(\"Bokeh: BokehJS not loaded, scheduling load and callback at\", now());\n    root._bokeh_is_loading = js_urls.length;\n    for (var i = 0; i < js_urls.length; i++) {\n      var url = js_urls[i];\n      var s = document.createElement('script');\n      s.src = url;\n      s.async = false;\n      s.onreadystatechange = s.onload = function() {\n        root._bokeh_is_loading--;\n        if (root._bokeh_is_loading === 0) {\n          console.log(\"Bokeh: all BokehJS libraries loaded\");\n          run_callbacks()\n        }\n      };\n      s.onerror = function() {\n        console.warn(\"failed to load library \" + url);\n      };\n      console.log(\"Bokeh: injecting script tag for BokehJS library: \", url);\n      document.getElementsByTagName(\"head\")[0].appendChild(s);\n    }\n  };var element = document.getElementById(\"2445\");\n  if (element == null) {\n    console.log(\"Bokeh: ERROR: autoload.js configured with elementid '2445' but no matching script tag was found. \")\n    return false;\n  }\n\n  var js_urls = [\"https://cdn.pydata.org/bokeh/release/bokeh-1.0.4.min.js\", \"https://cdn.pydata.org/bokeh/release/bokeh-widgets-1.0.4.min.js\", \"https://cdn.pydata.org/bokeh/release/bokeh-tables-1.0.4.min.js\", \"https://cdn.pydata.org/bokeh/release/bokeh-gl-1.0.4.min.js\"];\n\n  var inline_js = [\n    function(Bokeh) {\n      Bokeh.set_log_level(\"info\");\n    },\n    \n    function(Bokeh) {\n      \n    },\n    function(Bokeh) {\n      console.log(\"Bokeh: injecting CSS: https://cdn.pydata.org/bokeh/release/bokeh-1.0.4.min.css\");\n      Bokeh.embed.inject_css(\"https://cdn.pydata.org/bokeh/release/bokeh-1.0.4.min.css\");\n      console.log(\"Bokeh: injecting CSS: https://cdn.pydata.org/bokeh/release/bokeh-widgets-1.0.4.min.css\");\n      Bokeh.embed.inject_css(\"https://cdn.pydata.org/bokeh/release/bokeh-widgets-1.0.4.min.css\");\n      console.log(\"Bokeh: injecting CSS: https://cdn.pydata.org/bokeh/release/bokeh-tables-1.0.4.min.css\");\n      Bokeh.embed.inject_css(\"https://cdn.pydata.org/bokeh/release/bokeh-tables-1.0.4.min.css\");\n    }\n  ];\n\n  function run_inline_js() {\n    \n    if ((root.Bokeh !== undefined) || (force === true)) {\n      for (var i = 0; i < inline_js.length; i++) {\n        inline_js[i].call(root, root.Bokeh);\n      }if (force === true) {\n        display_loaded();\n      }} else if (Date.now() < root._bokeh_timeout) {\n      setTimeout(run_inline_js, 100);\n    } else if (!root._bokeh_failed_load) {\n      console.log(\"Bokeh: BokehJS failed to load within specified timeout.\");\n      root._bokeh_failed_load = true;\n    } else if (force !== true) {\n      var cell = $(document.getElementById(\"2445\")).parents('.cell').data().cell;\n      cell.output_area.append_execute_result(NB_LOAD_WARNING)\n    }\n\n  }\n\n  if (root._bokeh_is_loading === 0) {\n    console.log(\"Bokeh: BokehJS loaded, going straight to plotting\");\n    run_inline_js();\n  } else {\n    load_libs(js_urls, function() {\n      console.log(\"Bokeh: BokehJS plotting callback run at\", now());\n      run_inline_js();\n    });\n  }\n}(window));",
      "application/vnd.bokehjs_load.v0+json": ""
     },
     "metadata": {},
     "output_type": "display_data"
    },
    {
     "data": {
      "text/html": [
       "\n",
       "\n",
       "\n",
       "\n",
       "\n",
       "\n",
       "  <div class=\"bk-root\" id=\"5506f7a1-eaf1-4a81-8a1a-c4098799ac1e\" data-root-id=\"2480\"></div>\n"
      ]
     },
     "metadata": {},
     "output_type": "display_data"
    },
    {
     "data": {
      "application/javascript": "(function(root) {\n  function embed_document(root) {\n    \n  var docs_json = {\"4e1cd999-5fba-42ec-9058-fa9d6b2ee5b4\":{\"roots\":{\"references\":[{\"attributes\":{\"above\":[{\"id\":\"2526\",\"type\":\"Legend\"}],\"below\":[{\"id\":\"2489\",\"type\":\"LinearAxis\"}],\"left\":[{\"id\":\"2494\",\"type\":\"LinearAxis\"}],\"plot_height\":320,\"plot_width\":400,\"renderers\":[{\"id\":\"2489\",\"type\":\"LinearAxis\"},{\"id\":\"2493\",\"type\":\"Grid\"},{\"id\":\"2494\",\"type\":\"LinearAxis\"},{\"id\":\"2498\",\"type\":\"Grid\"},{\"id\":\"2507\",\"type\":\"BoxAnnotation\"},{\"id\":\"2518\",\"type\":\"GlyphRenderer\"},{\"id\":\"2524\",\"type\":\"GlyphRenderer\"},{\"id\":\"2526\",\"type\":\"Legend\"}],\"title\":{\"id\":\"2629\",\"type\":\"Title\"},\"toolbar\":{\"id\":\"2505\",\"type\":\"Toolbar\"},\"x_range\":{\"id\":\"2481\",\"type\":\"DataRange1d\"},\"x_scale\":{\"id\":\"2485\",\"type\":\"LinearScale\"},\"y_range\":{\"id\":\"2483\",\"type\":\"DataRange1d\"},\"y_scale\":{\"id\":\"2487\",\"type\":\"LinearScale\"}},\"id\":\"2480\",\"subtype\":\"Figure\",\"type\":\"Plot\"},{\"attributes\":{\"bottom_units\":\"screen\",\"fill_alpha\":{\"value\":0.5},\"fill_color\":{\"value\":\"lightgrey\"},\"left_units\":\"screen\",\"level\":\"overlay\",\"line_alpha\":{\"value\":1.0},\"line_color\":{\"value\":\"black\"},\"line_dash\":[4,4],\"line_width\":{\"value\":2},\"plot\":null,\"render_mode\":\"css\",\"right_units\":\"screen\",\"top_units\":\"screen\"},\"id\":\"2507\",\"type\":\"BoxAnnotation\"},{\"attributes\":{},\"id\":\"2637\",\"type\":\"Selection\"},{\"attributes\":{},\"id\":\"2485\",\"type\":\"LinearScale\"},{\"attributes\":{\"line_dash\":[6],\"line_width\":2,\"x\":{\"field\":\"x\"},\"y\":{\"field\":\"y\"}},\"id\":\"2516\",\"type\":\"Line\"},{\"attributes\":{},\"id\":\"2638\",\"type\":\"UnionRenderers\"},{\"attributes\":{},\"id\":\"2487\",\"type\":\"LinearScale\"},{\"attributes\":{\"line_alpha\":0.1,\"line_color\":\"#1f77b4\",\"line_dash\":[6],\"line_width\":2,\"x\":{\"field\":\"x\"},\"y\":{\"field\":\"y\"}},\"id\":\"2517\",\"type\":\"Line\"},{\"attributes\":{\"axis_label\":\"Capacity (k)\",\"formatter\":{\"id\":\"2630\",\"type\":\"BasicTickFormatter\"},\"plot\":{\"id\":\"2480\",\"subtype\":\"Figure\",\"type\":\"Plot\"},\"ticker\":{\"id\":\"2490\",\"type\":\"BasicTicker\"}},\"id\":\"2489\",\"type\":\"LinearAxis\"},{\"attributes\":{\"data_source\":{\"id\":\"2514\",\"type\":\"ColumnDataSource\"},\"glyph\":{\"id\":\"2516\",\"type\":\"Line\"},\"hover_glyph\":null,\"muted_glyph\":null,\"nonselection_glyph\":{\"id\":\"2517\",\"type\":\"Line\"},\"selection_glyph\":null,\"view\":{\"id\":\"2519\",\"type\":\"CDSView\"}},\"id\":\"2518\",\"type\":\"GlyphRenderer\"},{\"attributes\":{},\"id\":\"2490\",\"type\":\"BasicTicker\"},{\"attributes\":{},\"id\":\"2632\",\"type\":\"BasicTickFormatter\"},{\"attributes\":{\"source\":{\"id\":\"2514\",\"type\":\"ColumnDataSource\"}},\"id\":\"2519\",\"type\":\"CDSView\"},{\"attributes\":{\"plot\":{\"id\":\"2480\",\"subtype\":\"Figure\",\"type\":\"Plot\"},\"ticker\":{\"id\":\"2490\",\"type\":\"BasicTicker\"},\"visible\":false},\"id\":\"2493\",\"type\":\"Grid\"},{\"attributes\":{\"callback\":null,\"data\":{\"x\":[50,51,52,53,54,55,56,57,58,59,60,61,62,63,64,65,66,67,68,69,70,71,72,73,74,75,76,77,78,79,80,81,82,83,84,85,86,87,88,89,90,91,92,93,94,95,96,97,98,99,100,101,102,103,104,105,106,107,108,109,110,111,112,113,114,115,116,117,118,119,120,121,122,123,124,125,126,127,128,129,130,131,132,133,134,135,136,137,138,139,140,141,142,143,144,145,146,147,148,149,150,151,152,153,154,155,156,157,158,159,160,161,162,163,164,165,166,167,168,169,170,171,172,173,174,175,176,177,178,179,180,181,182,183,184,185,186,187,188,189,190,191,192,193,194,195,196,197,198,199],\"y\":[6.0,9.0,12.0,15.0,19.0,22.0,25.0,28.0,31.0,34.0,37.0,40.0,44.0,47.0,50.0,53.0,56.0,59.0,62.0,65.0,68.0,71.0,74.0,78.0,81.0,84.0,87.0,90.0,93.0,96.0,99.0,102.0,105.0,108.0,111.0,114.0,117.0,120.0,123.0,126.0,129.0,132.0,135.0,138.0,140.0,143.0,146.0,149.0,152.0,155.0,158.0,161.0,164.0,167.0,169.0,172.0,175.0,178.0,181.0,184.0,186.0,189.0,192.0,195.0,198.0,200.0,203.0,206.0,209.0,211.0,214.0,217.0,220.0,222.0,225.0,228.0,230.0,233.0,236.0,238.0,241.0,241.0,239.0,236.0,233.0,230.0,226.0,223.0,220.0,216.0,213.0,210.0,207.0,204.0,200.0,197.0,194.0,191.0,188.0,185.0,182.0,178.0,175.0,172.0,169.0,166.0,163.0,160.0,157.0,154.0,151.0,148.0,145.0,143.0,140.0,137.0,134.0,131.0,128.0,125.0,123.0,120.0,117.0,114.0,112.0,109.0,106.0,104.0,101.0,98.0,96.0,93.0,90.0,88.0,85.0,83.0,80.0,78.0,75.0,73.0,70.0,68.0,65.0,63.0,61.0,58.0,56.0,54.0,51.0,49.0]},\"selected\":{\"id\":\"2637\",\"type\":\"Selection\"},\"selection_policy\":{\"id\":\"2638\",\"type\":\"UnionRenderers\"}},\"id\":\"2520\",\"type\":\"ColumnDataSource\"},{\"attributes\":{\"callback\":null},\"id\":\"2483\",\"type\":\"DataRange1d\"},{\"attributes\":{\"axis_label\":\"Profit\",\"formatter\":{\"id\":\"2632\",\"type\":\"BasicTickFormatter\"},\"plot\":{\"id\":\"2480\",\"subtype\":\"Figure\",\"type\":\"Plot\"},\"ticker\":{\"id\":\"2495\",\"type\":\"BasicTicker\"}},\"id\":\"2494\",\"type\":\"LinearAxis\"},{\"attributes\":{},\"id\":\"2495\",\"type\":\"BasicTicker\"},{\"attributes\":{\"line_alpha\":0.8,\"line_width\":2,\"x\":{\"field\":\"x\"},\"y\":{\"field\":\"y\"}},\"id\":\"2522\",\"type\":\"Line\"},{\"attributes\":{\"items\":[{\"id\":\"2527\",\"type\":\"LegendItem\"},{\"id\":\"2528\",\"type\":\"LegendItem\"}],\"label_standoff\":1,\"label_text_font_size\":{\"value\":\"12px\"},\"location\":[0,0],\"orientation\":\"horizontal\",\"plot\":{\"id\":\"2480\",\"subtype\":\"Figure\",\"type\":\"Plot\"},\"spacing\":0},\"id\":\"2526\",\"type\":\"Legend\"},{\"attributes\":{\"dimension\":1,\"plot\":{\"id\":\"2480\",\"subtype\":\"Figure\",\"type\":\"Plot\"},\"ticker\":{\"id\":\"2495\",\"type\":\"BasicTicker\"},\"visible\":false},\"id\":\"2498\",\"type\":\"Grid\"},{\"attributes\":{\"line_alpha\":0.1,\"line_color\":\"#1f77b4\",\"line_width\":2,\"x\":{\"field\":\"x\"},\"y\":{\"field\":\"y\"}},\"id\":\"2523\",\"type\":\"Line\"},{\"attributes\":{\"data_source\":{\"id\":\"2520\",\"type\":\"ColumnDataSource\"},\"glyph\":{\"id\":\"2522\",\"type\":\"Line\"},\"hover_glyph\":null,\"muted_glyph\":null,\"nonselection_glyph\":{\"id\":\"2523\",\"type\":\"Line\"},\"selection_glyph\":null,\"view\":{\"id\":\"2525\",\"type\":\"CDSView\"}},\"id\":\"2524\",\"type\":\"GlyphRenderer\"},{\"attributes\":{\"callback\":null,\"data\":{\"x\":[50,51,52,53,54,55,56,57,58,59,60,61,62,63,64,65,66,67,68,69,70,71,72,73,74,75,76,77,78,79,80,81,82,83,84,85,86,87,88,89,90,91,92,93,94,95,96,97,98,99,100,101,102,103,104,105,106,107,108,109,110,111,112,113,114,115,116,117,118,119,120,121,122,123,124,125,126,127,128,129,130,131,132,133,134,135,136,137,138,139,140,141,142,143,144,145,146,147,148,149,150,151,152,153,154,155,156,157,158,159,160,161,162,163,164,165,166,167,168,169,170,171,172,173,174,175,176,177,178,179,180,181,182,183,184,185,186,187,188,189,190,191,192,193,194,195,196,197,198,199],\"y\":[4.0,7.0,10.0,13.0,16.0,19.0,22.0,25.0,28.0,31.0,33.0,36.0,39.0,42.0,45.0,48.0,51.0,53.0,56.0,59.0,62.0,64.0,67.0,70.0,73.0,75.0,78.0,81.0,83.0,86.0,88.0,91.0,94.0,96.0,99.0,101.0,104.0,106.0,108.0,111.0,113.0,115.0,118.0,120.0,122.0,125.0,127.0,129.0,131.0,134.0,136.0,138.0,140.0,142.0,144.0,146.0,148.0,150.0,152.0,154.0,156.0,158.0,160.0,162.0,164.0,166.0,167.0,169.0,171.0,173.0,174.0,176.0,178.0,179.0,181.0,182.0,184.0,186.0,187.0,189.0,190.0,192.0,193.0,194.0,196.0,197.0,198.0,200.0,201.0,202.0,203.0,204.0,205.0,207.0,208.0,209.0,210.0,211.0,212.0,213.0,214.0,215.0,216.0,217.0,218.0,219.0,220.0,221.0,222.0,223.0,223.0,224.0,225.0,226.0,226.0,227.0,228.0,228.0,229.0,230.0,230.0,231.0,231.0,232.0,232.0,233.0,233.0,234.0,234.0,235.0,235.0,236.0,236.0,236.0,237.0,237.0,238.0,238.0,238.0,238.0,239.0,239.0,239.0,240.0,240.0,240.0,240.0,240.0,241.0,241.0]},\"selected\":{\"id\":\"2635\",\"type\":\"Selection\"},\"selection_policy\":{\"id\":\"2636\",\"type\":\"UnionRenderers\"}},\"id\":\"2514\",\"type\":\"ColumnDataSource\"},{\"attributes\":{\"source\":{\"id\":\"2520\",\"type\":\"ColumnDataSource\"}},\"id\":\"2525\",\"type\":\"CDSView\"},{\"attributes\":{\"active_drag\":\"auto\",\"active_inspect\":\"auto\",\"active_multi\":null,\"active_scroll\":\"auto\",\"active_tap\":\"auto\",\"tools\":[{\"id\":\"2499\",\"type\":\"PanTool\"},{\"id\":\"2500\",\"type\":\"WheelZoomTool\"},{\"id\":\"2501\",\"type\":\"BoxZoomTool\"},{\"id\":\"2502\",\"type\":\"SaveTool\"},{\"id\":\"2503\",\"type\":\"ResetTool\"},{\"id\":\"2504\",\"type\":\"HelpTool\"}]},\"id\":\"2505\",\"type\":\"Toolbar\"},{\"attributes\":{\"plot\":null,\"text\":\"\"},\"id\":\"2629\",\"type\":\"Title\"},{\"attributes\":{},\"id\":\"2499\",\"type\":\"PanTool\"},{\"attributes\":{\"callback\":null},\"id\":\"2481\",\"type\":\"DataRange1d\"},{\"attributes\":{},\"id\":\"2500\",\"type\":\"WheelZoomTool\"},{\"attributes\":{\"label\":{\"value\":\"Classic   \"},\"renderers\":[{\"id\":\"2518\",\"type\":\"GlyphRenderer\"}]},\"id\":\"2527\",\"type\":\"LegendItem\"},{\"attributes\":{\"overlay\":{\"id\":\"2507\",\"type\":\"BoxAnnotation\"}},\"id\":\"2501\",\"type\":\"BoxZoomTool\"},{\"attributes\":{\"label\":{\"value\":\"Quantum\"},\"renderers\":[{\"id\":\"2524\",\"type\":\"GlyphRenderer\"}]},\"id\":\"2528\",\"type\":\"LegendItem\"},{\"attributes\":{},\"id\":\"2502\",\"type\":\"SaveTool\"},{\"attributes\":{},\"id\":\"2630\",\"type\":\"BasicTickFormatter\"},{\"attributes\":{},\"id\":\"2503\",\"type\":\"ResetTool\"},{\"attributes\":{},\"id\":\"2635\",\"type\":\"Selection\"},{\"attributes\":{},\"id\":\"2504\",\"type\":\"HelpTool\"},{\"attributes\":{},\"id\":\"2636\",\"type\":\"UnionRenderers\"}],\"root_ids\":[\"2480\"]},\"title\":\"Bokeh Application\",\"version\":\"1.0.4\"}};\n  var render_items = [{\"docid\":\"4e1cd999-5fba-42ec-9058-fa9d6b2ee5b4\",\"roots\":{\"2480\":\"5506f7a1-eaf1-4a81-8a1a-c4098799ac1e\"}}];\n  root.Bokeh.embed.embed_items_notebook(docs_json, render_items);\n\n  }\n  if (root.Bokeh !== undefined) {\n    embed_document(root);\n  } else {\n    var attempts = 0;\n    var timer = setInterval(function(root) {\n      if (root.Bokeh !== undefined) {\n        embed_document(root);\n        clearInterval(timer);\n      }\n      attempts++;\n      if (attempts > 100) {\n        console.log(\"Bokeh: ERROR: Unable to run BokehJS code because BokehJS library is missing\");\n        clearInterval(timer);\n      }\n    }, 10, root)\n  }\n})(window);",
      "application/vnd.bokehjs_exec.v0+json": ""
     },
     "metadata": {
      "application/vnd.bokehjs_exec.v0+json": {
       "id": "2480"
      }
     },
     "output_type": "display_data"
    }
   ],
   "source": [
    "item = 4\n",
    "consider_minmax = 0\n",
    "y_min = -115\n",
    "y_max = 255\n",
    "%run Bokeh_Combined.ipynb"
   ]
  },
  {
   "cell_type": "markdown",
   "metadata": {},
   "source": [
    "### Sensitivity Analysis on Ratio of shortage cost to holding cost"
   ]
  },
  {
   "cell_type": "code",
   "execution_count": 50,
   "metadata": {},
   "outputs": [
    {
     "data": {
      "text/plain": [
       "array([0.005, 0.01 , 0.015, 0.02 ])"
      ]
     },
     "execution_count": 50,
     "metadata": {},
     "output_type": "execute_result"
    }
   ],
   "source": [
    "np.arange(0.005,0.021,0.005)"
   ]
  },
  {
   "cell_type": "code",
   "execution_count": 51,
   "metadata": {},
   "outputs": [
    {
     "name": "stdout",
     "output_type": "stream",
     "text": [
      "0.005\n",
      "0.01\n",
      "0.015\n",
      "0.02\n"
     ]
    }
   ],
   "source": [
    "shoratge_cost=np.arange(0.005,0.021,0.005)\n",
    "for short in shoratge_cost:\n",
    "    print(short)"
   ]
  },
  {
   "cell_type": "code",
   "execution_count": 62,
   "metadata": {},
   "outputs": [
    {
     "ename": "AttributeError",
     "evalue": "'tuple' object has no attribute 'append'",
     "output_type": "error",
     "traceback": [
      "\u001b[0;31m---------------------------------------------------------------------------\u001b[0m",
      "\u001b[0;31mAttributeError\u001b[0m                            Traceback (most recent call last)",
      "\u001b[0;32m<ipython-input-62-036fd49167ea>\u001b[0m in \u001b[0;36m<module>\u001b[0;34m()\u001b[0m\n\u001b[1;32m      1\u001b[0m \u001b[0mtest1\u001b[0m\u001b[0;34m,\u001b[0m \u001b[0mtest2\u001b[0m \u001b[0;34m=\u001b[0m \u001b[0;34m[\u001b[0m\u001b[0;34m\"One\"\u001b[0m\u001b[0;34m,\u001b[0m \u001b[0;34m\"Two\"\u001b[0m\u001b[0;34m,\u001b[0m \u001b[0;34m\"Three\"\u001b[0m\u001b[0;34m]\u001b[0m\u001b[0;34m,\u001b[0m \u001b[0;34m[\u001b[0m\u001b[0;34m\"1\"\u001b[0m\u001b[0;34m,\u001b[0m \u001b[0;34m\"2\"\u001b[0m\u001b[0;34m,\u001b[0m \u001b[0;34m\"3\"\u001b[0m\u001b[0;34m]\u001b[0m\u001b[0;34m\u001b[0m\u001b[0m\n\u001b[1;32m      2\u001b[0m \u001b[0msaveObject\u001b[0m \u001b[0;34m=\u001b[0m \u001b[0;34m(\u001b[0m\u001b[0mtest1\u001b[0m\u001b[0;34m,\u001b[0m \u001b[0mtest2\u001b[0m\u001b[0;34m)\u001b[0m\u001b[0;34m\u001b[0m\u001b[0m\n\u001b[0;32m----> 3\u001b[0;31m \u001b[0msaveObject\u001b[0m\u001b[0;34m.\u001b[0m\u001b[0mappend\u001b[0m\u001b[0;34m(\u001b[0m\u001b[0;34m[\u001b[0m\u001b[0;34m'a'\u001b[0m\u001b[0;34m,\u001b[0m\u001b[0;34m'b'\u001b[0m\u001b[0;34m]\u001b[0m\u001b[0;34m)\u001b[0m\u001b[0;34m\u001b[0m\u001b[0m\n\u001b[0m",
      "\u001b[0;31mAttributeError\u001b[0m: 'tuple' object has no attribute 'append'"
     ]
    }
   ],
   "source": [
    "test1, test2 = [\"One\", \"Two\", \"Three\"], [\"1\", \"2\", \"3\"]\n",
    "saveObject = (test1, test2)\n",
    "saveObject.append(['a','b'])"
   ]
  },
  {
   "cell_type": "code",
   "execution_count": 119,
   "metadata": {},
   "outputs": [
    {
     "name": "stdout",
     "output_type": "stream",
     "text": [
      "P\n",
      "L\n",
      "U\n",
      "P\n",
      "L\n",
      "U\n",
      "P\n",
      "L\n",
      "U\n",
      "P\n",
      "L\n",
      "U\n"
     ]
    }
   ],
   "source": [
    "SaveObject_tuple = () #For the Pickle package, we can add all objects to a Tuple and save it\n",
    "policy=['P','L', 'U']\n",
    "shoratge_cost=np.arange(0.005,0.021,0.005)\n",
    "for short in shoratge_cost:\n",
    "    s=short\n",
    "    k_min = 50\n",
    "    #k_max = 140\n",
    "    k_max = 200      \n",
    "    k_range = np.arange(k_min, k_max, 1)\n",
    "    result = []\n",
    "    m=9\n",
    "    n=5\n",
    "    kk=2 #0 for non-quantum 1 for quantum\n",
    "    #result=[[0] * m for i in range(n)] #creating n*m dimensions list in Python\n",
    "    result=[[[0] * m for i in range(n)] for i in range(kk)]\n",
    "    nn=0\n",
    "\n",
    "    for policy_selected in policy:\n",
    "        print(policy_selected)\n",
    "        fr_1_arr = [0]*len(k_range)\n",
    "        short1_arr = [0]*len(k_range)\n",
    "        holding1_arr = [0]*len(k_range)\n",
    "        profit1_arr = [0]*len(k_range)\n",
    "        fr_2_arr = [0]*len(k_range)\n",
    "        short2_arr = [0]*len(k_range)\n",
    "        holding2_arr = [0]*len(k_range)\n",
    "        profit2_arr = [0]*len(k_range)\n",
    "\n",
    "        q_fr_1_arr = [0]*len(k_range)\n",
    "        q_short1_arr = [0]*len(k_range)\n",
    "        q_holding1_arr = [0]*len(k_range)\n",
    "        q_profit1_arr = [0]*len(k_range)\n",
    "        q_fr_2_arr = [0]*len(k_range)\n",
    "        q_short2_arr = [0]*len(k_range)\n",
    "        q_holding2_arr = [0]*len(k_range)\n",
    "        q_profit2_arr = [0]*len(k_range)\n",
    "\n",
    "        i=0\n",
    "\n",
    "\n",
    "        for k in k_range:\n",
    "            quant1=0\n",
    "            quant2=0\n",
    "            fr_1_arr[i], short1_arr[i], holding1_arr[i], profit1_arr[i], fr_2_arr[i], short2_arr[i], holding2_arr[i], profit2_arr[i] = origin_updated(0)\n",
    "            quant1=1\n",
    "            quant2=1\n",
    "            q_fr_1_arr[i], q_short1_arr[i], q_holding1_arr[i], q_profit1_arr[i], q_fr_2_arr[i], q_short2_arr[i], q_holding2_arr[i], q_profit2_arr[i] = origin_updated(np.pi/6)\n",
    "            i=i+1\n",
    "\n",
    "        result[0][nn][0] = policy_selected\n",
    "        result[0][nn][1] = fr_1_arr\n",
    "        result[0][nn][2] = short1_arr\n",
    "        result[0][nn][3] = holding1_arr\n",
    "        result[0][nn][4] = profit1_arr\n",
    "\n",
    "        result[0][nn][5] = fr_2_arr\n",
    "        result[0][nn][6] = short2_arr\n",
    "        result[0][nn][7] = holding2_arr\n",
    "        result[0][nn][8] = profit2_arr\n",
    "\n",
    "        result[1][nn][0] = policy_selected\n",
    "        result[1][nn][1] = q_fr_1_arr\n",
    "        result[1][nn][2] = q_short1_arr\n",
    "        result[1][nn][3] = q_holding1_arr\n",
    "        result[1][nn][4] = q_profit1_arr\n",
    "\n",
    "        result[1][nn][5] = q_fr_2_arr\n",
    "        result[1][nn][6] = q_short2_arr\n",
    "        result[1][nn][7] = q_holding2_arr\n",
    "        result[1][nn][8] = q_profit2_arr\n",
    "\n",
    "        nn=nn+1\n",
    "    \n",
    "    SaveObject_tuple = SaveObject_tuple + (short/h,result)\n",
    "\n",
    "with open('results_ratio_sh_hl.pickle', 'wb') as f:\n",
    "    pickle.dump(SaveObject_tuple, f)"
   ]
  },
  {
   "cell_type": "code",
   "execution_count": 89,
   "metadata": {},
   "outputs": [],
   "source": [
    "with open('results_ratio_sh_hl.pickle', 'rb') as f:\n",
    "    LoadObject_tuple = pickle.load(f)"
   ]
  },
  {
   "cell_type": "code",
   "execution_count": 90,
   "metadata": {},
   "outputs": [
    {
     "data": {
      "text/plain": [
       "1.0"
      ]
     },
     "execution_count": 90,
     "metadata": {},
     "output_type": "execute_result"
    }
   ],
   "source": [
    "LoadObject_tuple[0]"
   ]
  },
  {
   "cell_type": "code",
   "execution_count": 121,
   "metadata": {},
   "outputs": [
    {
     "data": {
      "text/html": [
       "\n",
       "    <div class=\"bk-root\">\n",
       "        <a href=\"https://bokeh.pydata.org\" target=\"_blank\" class=\"bk-logo bk-logo-small bk-logo-notebook\"></a>\n",
       "        <span id=\"15038\">Loading BokehJS ...</span>\n",
       "    </div>"
      ]
     },
     "metadata": {},
     "output_type": "display_data"
    },
    {
     "data": {
      "application/javascript": "\n(function(root) {\n  function now() {\n    return new Date();\n  }\n\n  var force = true;\n\n  if (typeof (root._bokeh_onload_callbacks) === \"undefined\" || force === true) {\n    root._bokeh_onload_callbacks = [];\n    root._bokeh_is_loading = undefined;\n  }\n\n  var JS_MIME_TYPE = 'application/javascript';\n  var HTML_MIME_TYPE = 'text/html';\n  var EXEC_MIME_TYPE = 'application/vnd.bokehjs_exec.v0+json';\n  var CLASS_NAME = 'output_bokeh rendered_html';\n\n  /**\n   * Render data to the DOM node\n   */\n  function render(props, node) {\n    var script = document.createElement(\"script\");\n    node.appendChild(script);\n  }\n\n  /**\n   * Handle when an output is cleared or removed\n   */\n  function handleClearOutput(event, handle) {\n    var cell = handle.cell;\n\n    var id = cell.output_area._bokeh_element_id;\n    var server_id = cell.output_area._bokeh_server_id;\n    // Clean up Bokeh references\n    if (id != null && id in Bokeh.index) {\n      Bokeh.index[id].model.document.clear();\n      delete Bokeh.index[id];\n    }\n\n    if (server_id !== undefined) {\n      // Clean up Bokeh references\n      var cmd = \"from bokeh.io.state import curstate; print(curstate().uuid_to_server['\" + server_id + \"'].get_sessions()[0].document.roots[0]._id)\";\n      cell.notebook.kernel.execute(cmd, {\n        iopub: {\n          output: function(msg) {\n            var id = msg.content.text.trim();\n            if (id in Bokeh.index) {\n              Bokeh.index[id].model.document.clear();\n              delete Bokeh.index[id];\n            }\n          }\n        }\n      });\n      // Destroy server and session\n      var cmd = \"import bokeh.io.notebook as ion; ion.destroy_server('\" + server_id + \"')\";\n      cell.notebook.kernel.execute(cmd);\n    }\n  }\n\n  /**\n   * Handle when a new output is added\n   */\n  function handleAddOutput(event, handle) {\n    var output_area = handle.output_area;\n    var output = handle.output;\n\n    // limit handleAddOutput to display_data with EXEC_MIME_TYPE content only\n    if ((output.output_type != \"display_data\") || (!output.data.hasOwnProperty(EXEC_MIME_TYPE))) {\n      return\n    }\n\n    var toinsert = output_area.element.find(\".\" + CLASS_NAME.split(' ')[0]);\n\n    if (output.metadata[EXEC_MIME_TYPE][\"id\"] !== undefined) {\n      toinsert[toinsert.length - 1].firstChild.textContent = output.data[JS_MIME_TYPE];\n      // store reference to embed id on output_area\n      output_area._bokeh_element_id = output.metadata[EXEC_MIME_TYPE][\"id\"];\n    }\n    if (output.metadata[EXEC_MIME_TYPE][\"server_id\"] !== undefined) {\n      var bk_div = document.createElement(\"div\");\n      bk_div.innerHTML = output.data[HTML_MIME_TYPE];\n      var script_attrs = bk_div.children[0].attributes;\n      for (var i = 0; i < script_attrs.length; i++) {\n        toinsert[toinsert.length - 1].firstChild.setAttribute(script_attrs[i].name, script_attrs[i].value);\n      }\n      // store reference to server id on output_area\n      output_area._bokeh_server_id = output.metadata[EXEC_MIME_TYPE][\"server_id\"];\n    }\n  }\n\n  function register_renderer(events, OutputArea) {\n\n    function append_mime(data, metadata, element) {\n      // create a DOM node to render to\n      var toinsert = this.create_output_subarea(\n        metadata,\n        CLASS_NAME,\n        EXEC_MIME_TYPE\n      );\n      this.keyboard_manager.register_events(toinsert);\n      // Render to node\n      var props = {data: data, metadata: metadata[EXEC_MIME_TYPE]};\n      render(props, toinsert[toinsert.length - 1]);\n      element.append(toinsert);\n      return toinsert\n    }\n\n    /* Handle when an output is cleared or removed */\n    events.on('clear_output.CodeCell', handleClearOutput);\n    events.on('delete.Cell', handleClearOutput);\n\n    /* Handle when a new output is added */\n    events.on('output_added.OutputArea', handleAddOutput);\n\n    /**\n     * Register the mime type and append_mime function with output_area\n     */\n    OutputArea.prototype.register_mime_type(EXEC_MIME_TYPE, append_mime, {\n      /* Is output safe? */\n      safe: true,\n      /* Index of renderer in `output_area.display_order` */\n      index: 0\n    });\n  }\n\n  // register the mime type if in Jupyter Notebook environment and previously unregistered\n  if (root.Jupyter !== undefined) {\n    var events = require('base/js/events');\n    var OutputArea = require('notebook/js/outputarea').OutputArea;\n\n    if (OutputArea.prototype.mime_types().indexOf(EXEC_MIME_TYPE) == -1) {\n      register_renderer(events, OutputArea);\n    }\n  }\n\n  \n  if (typeof (root._bokeh_timeout) === \"undefined\" || force === true) {\n    root._bokeh_timeout = Date.now() + 5000;\n    root._bokeh_failed_load = false;\n  }\n\n  var NB_LOAD_WARNING = {'data': {'text/html':\n     \"<div style='background-color: #fdd'>\\n\"+\n     \"<p>\\n\"+\n     \"BokehJS does not appear to have successfully loaded. If loading BokehJS from CDN, this \\n\"+\n     \"may be due to a slow or bad network connection. Possible fixes:\\n\"+\n     \"</p>\\n\"+\n     \"<ul>\\n\"+\n     \"<li>re-rerun `output_notebook()` to attempt to load from CDN again, or</li>\\n\"+\n     \"<li>use INLINE resources instead, as so:</li>\\n\"+\n     \"</ul>\\n\"+\n     \"<code>\\n\"+\n     \"from bokeh.resources import INLINE\\n\"+\n     \"output_notebook(resources=INLINE)\\n\"+\n     \"</code>\\n\"+\n     \"</div>\"}};\n\n  function display_loaded() {\n    var el = document.getElementById(\"15038\");\n    if (el != null) {\n      el.textContent = \"BokehJS is loading...\";\n    }\n    if (root.Bokeh !== undefined) {\n      if (el != null) {\n        el.textContent = \"BokehJS \" + root.Bokeh.version + \" successfully loaded.\";\n      }\n    } else if (Date.now() < root._bokeh_timeout) {\n      setTimeout(display_loaded, 100)\n    }\n  }\n\n\n  function run_callbacks() {\n    try {\n      root._bokeh_onload_callbacks.forEach(function(callback) { callback() });\n    }\n    finally {\n      delete root._bokeh_onload_callbacks\n    }\n    console.info(\"Bokeh: all callbacks have finished\");\n  }\n\n  function load_libs(js_urls, callback) {\n    root._bokeh_onload_callbacks.push(callback);\n    if (root._bokeh_is_loading > 0) {\n      console.log(\"Bokeh: BokehJS is being loaded, scheduling callback at\", now());\n      return null;\n    }\n    if (js_urls == null || js_urls.length === 0) {\n      run_callbacks();\n      return null;\n    }\n    console.log(\"Bokeh: BokehJS not loaded, scheduling load and callback at\", now());\n    root._bokeh_is_loading = js_urls.length;\n    for (var i = 0; i < js_urls.length; i++) {\n      var url = js_urls[i];\n      var s = document.createElement('script');\n      s.src = url;\n      s.async = false;\n      s.onreadystatechange = s.onload = function() {\n        root._bokeh_is_loading--;\n        if (root._bokeh_is_loading === 0) {\n          console.log(\"Bokeh: all BokehJS libraries loaded\");\n          run_callbacks()\n        }\n      };\n      s.onerror = function() {\n        console.warn(\"failed to load library \" + url);\n      };\n      console.log(\"Bokeh: injecting script tag for BokehJS library: \", url);\n      document.getElementsByTagName(\"head\")[0].appendChild(s);\n    }\n  };var element = document.getElementById(\"15038\");\n  if (element == null) {\n    console.log(\"Bokeh: ERROR: autoload.js configured with elementid '15038' but no matching script tag was found. \")\n    return false;\n  }\n\n  var js_urls = [\"https://cdn.pydata.org/bokeh/release/bokeh-1.0.4.min.js\", \"https://cdn.pydata.org/bokeh/release/bokeh-widgets-1.0.4.min.js\", \"https://cdn.pydata.org/bokeh/release/bokeh-tables-1.0.4.min.js\", \"https://cdn.pydata.org/bokeh/release/bokeh-gl-1.0.4.min.js\"];\n\n  var inline_js = [\n    function(Bokeh) {\n      Bokeh.set_log_level(\"info\");\n    },\n    \n    function(Bokeh) {\n      \n    },\n    function(Bokeh) {\n      console.log(\"Bokeh: injecting CSS: https://cdn.pydata.org/bokeh/release/bokeh-1.0.4.min.css\");\n      Bokeh.embed.inject_css(\"https://cdn.pydata.org/bokeh/release/bokeh-1.0.4.min.css\");\n      console.log(\"Bokeh: injecting CSS: https://cdn.pydata.org/bokeh/release/bokeh-widgets-1.0.4.min.css\");\n      Bokeh.embed.inject_css(\"https://cdn.pydata.org/bokeh/release/bokeh-widgets-1.0.4.min.css\");\n      console.log(\"Bokeh: injecting CSS: https://cdn.pydata.org/bokeh/release/bokeh-tables-1.0.4.min.css\");\n      Bokeh.embed.inject_css(\"https://cdn.pydata.org/bokeh/release/bokeh-tables-1.0.4.min.css\");\n    }\n  ];\n\n  function run_inline_js() {\n    \n    if ((root.Bokeh !== undefined) || (force === true)) {\n      for (var i = 0; i < inline_js.length; i++) {\n        inline_js[i].call(root, root.Bokeh);\n      }if (force === true) {\n        display_loaded();\n      }} else if (Date.now() < root._bokeh_timeout) {\n      setTimeout(run_inline_js, 100);\n    } else if (!root._bokeh_failed_load) {\n      console.log(\"Bokeh: BokehJS failed to load within specified timeout.\");\n      root._bokeh_failed_load = true;\n    } else if (force !== true) {\n      var cell = $(document.getElementById(\"15038\")).parents('.cell').data().cell;\n      cell.output_area.append_execute_result(NB_LOAD_WARNING)\n    }\n\n  }\n\n  if (root._bokeh_is_loading === 0) {\n    console.log(\"Bokeh: BokehJS loaded, going straight to plotting\");\n    run_inline_js();\n  } else {\n    load_libs(js_urls, function() {\n      console.log(\"Bokeh: BokehJS plotting callback run at\", now());\n      run_inline_js();\n    });\n  }\n}(window));",
      "application/vnd.bokehjs_load.v0+json": ""
     },
     "metadata": {},
     "output_type": "display_data"
    },
    {
     "data": {
      "text/html": [
       "\n",
       "\n",
       "\n",
       "\n",
       "\n",
       "\n",
       "  <div class=\"bk-root\" id=\"4333d86c-3450-437a-9dcb-1d9cf5b6c0c4\" data-root-id=\"15039\"></div>\n"
      ]
     },
     "metadata": {},
     "output_type": "display_data"
    },
    {
     "data": {
      "application/javascript": "(function(root) {\n  function embed_document(root) {\n    \n  var docs_json = {\"4740ea7f-94fc-4069-8c9b-fb9c063216a8\":{\"roots\":{\"references\":[{\"attributes\":{\"above\":[{\"id\":\"15126\",\"type\":\"Legend\"}],\"below\":[{\"id\":\"15048\",\"type\":\"LinearAxis\"}],\"left\":[{\"id\":\"15053\",\"type\":\"LinearAxis\"}],\"plot_height\":320,\"plot_width\":400,\"renderers\":[{\"id\":\"15048\",\"type\":\"LinearAxis\"},{\"id\":\"15052\",\"type\":\"Grid\"},{\"id\":\"15053\",\"type\":\"LinearAxis\"},{\"id\":\"15057\",\"type\":\"Grid\"},{\"id\":\"15066\",\"type\":\"BoxAnnotation\"},{\"id\":\"15077\",\"type\":\"GlyphRenderer\"},{\"id\":\"15083\",\"type\":\"GlyphRenderer\"},{\"id\":\"15089\",\"type\":\"GlyphRenderer\"},{\"id\":\"15095\",\"type\":\"GlyphRenderer\"},{\"id\":\"15101\",\"type\":\"GlyphRenderer\"},{\"id\":\"15107\",\"type\":\"GlyphRenderer\"},{\"id\":\"15113\",\"type\":\"GlyphRenderer\"},{\"id\":\"15119\",\"type\":\"GlyphRenderer\"},{\"id\":\"15121\",\"type\":\"Label\"},{\"id\":\"15122\",\"type\":\"Label\"},{\"id\":\"15123\",\"type\":\"Label\"},{\"id\":\"15124\",\"type\":\"Label\"},{\"id\":\"15125\",\"type\":\"Label\"},{\"id\":\"15126\",\"type\":\"Legend\"}],\"title\":{\"id\":\"15711\",\"type\":\"Title\"},\"toolbar\":{\"id\":\"15064\",\"type\":\"Toolbar\"},\"x_range\":{\"id\":\"15040\",\"type\":\"Range1d\"},\"x_scale\":{\"id\":\"15044\",\"type\":\"LinearScale\"},\"y_range\":{\"id\":\"15042\",\"type\":\"Range1d\"},\"y_scale\":{\"id\":\"15046\",\"type\":\"LinearScale\"}},\"id\":\"15039\",\"subtype\":\"Figure\",\"type\":\"Plot\"},{\"attributes\":{},\"id\":\"15714\",\"type\":\"BasicTickFormatter\"},{\"attributes\":{},\"id\":\"15717\",\"type\":\"Selection\"},{\"attributes\":{},\"id\":\"15718\",\"type\":\"UnionRenderers\"},{\"attributes\":{},\"id\":\"15719\",\"type\":\"Selection\"},{\"attributes\":{},\"id\":\"15720\",\"type\":\"UnionRenderers\"},{\"attributes\":{},\"id\":\"15721\",\"type\":\"Selection\"},{\"attributes\":{\"callback\":null,\"end\":301,\"start\":-300},\"id\":\"15042\",\"type\":\"Range1d\"},{\"attributes\":{},\"id\":\"15722\",\"type\":\"UnionRenderers\"},{\"attributes\":{\"callback\":null,\"end\":210,\"start\":20},\"id\":\"15040\",\"type\":\"Range1d\"},{\"attributes\":{},\"id\":\"15723\",\"type\":\"Selection\"},{\"attributes\":{\"background_fill_alpha\":{\"value\":0.4},\"background_fill_color\":{\"value\":\"lightgrey\"},\"border_line_color\":{\"value\":\"black\"},\"plot\":{\"id\":\"15039\",\"subtype\":\"Figure\",\"type\":\"Plot\"},\"text\":\" s / h \",\"text_font_size\":{\"value\":\"8pt\"},\"x\":20,\"x_units\":\"screen\",\"y\":140,\"y_units\":\"screen\"},\"id\":\"15121\",\"type\":\"Label\"},{\"attributes\":{},\"id\":\"15724\",\"type\":\"UnionRenderers\"},{\"attributes\":{},\"id\":\"15725\",\"type\":\"Selection\"},{\"attributes\":{},\"id\":\"15726\",\"type\":\"UnionRenderers\"},{\"attributes\":{},\"id\":\"15727\",\"type\":\"Selection\"},{\"attributes\":{},\"id\":\"15732\",\"type\":\"UnionRenderers\"},{\"attributes\":{},\"id\":\"15044\",\"type\":\"LinearScale\"},{\"attributes\":{\"source\":{\"id\":\"15091\",\"type\":\"ColumnDataSource\"}},\"id\":\"15096\",\"type\":\"CDSView\"},{\"attributes\":{},\"id\":\"15046\",\"type\":\"LinearScale\"},{\"attributes\":{\"callback\":null,\"data\":{\"x\":[50,51,52,53,54,55,56,57,58,59,60,61,62,63,64,65,66,67,68,69,70,71,72,73,74,75,76,77,78,79,80,81,82,83,84,85,86,87,88,89,90,91,92,93,94,95,96,97,98,99,100,101,102,103,104,105,106,107,108,109,110,111,112,113,114,115,116,117,118,119,120,121,122,123,124,125,126,127,128,129,130,131,132,133,134,135,136,137,138,139,140,141,142,143,144,145,146,147,148,149,150,151,152,153,154,155,156,157,158,159,160,161,162,163,164,165,166,167,168,169,170,171,172,173,174,175,176,177,178,179,180,181,182,183,184,185,186,187,188,189,190,191,192,193,194,195,196,197,198,199],\"y\":[-184.0,-179.0,-173.0,-168.0,-163.0,-157.0,-152.0,-147.0,-142.0,-137.0,-131.0,-126.0,-121.0,-116.0,-111.0,-106.0,-101.0,-96.0,-91.0,-86.0,-81.0,-76.0,-71.0,-66.0,-62.0,-57.0,-52.0,-47.0,-43.0,-38.0,-34.0,-29.0,-24.0,-20.0,-16.0,-11.0,-7.0,-2.0,2.0,6.0,10.0,14.0,19.0,23.0,27.0,31.0,35.0,39.0,43.0,47.0,51.0,54.0,58.0,62.0,66.0,69.0,73.0,77.0,80.0,84.0,87.0,91.0,94.0,97.0,101.0,104.0,107.0,110.0,113.0,117.0,120.0,123.0,126.0,128.0,131.0,134.0,137.0,140.0,143.0,145.0,148.0,150.0,153.0,155.0,158.0,160.0,162.0,165.0,167.0,169.0,171.0,173.0,175.0,177.0,179.0,181.0,183.0,185.0,187.0,189.0,191.0,193.0,195.0,196.0,198.0,200.0,201.0,203.0,205.0,206.0,207.0,209.0,210.0,211.0,213.0,214.0,215.0,216.0,218.0,219.0,220.0,221.0,222.0,223.0,224.0,225.0,225.0,226.0,227.0,228.0,229.0,229.0,230.0,231.0,231.0,232.0,233.0,233.0,234.0,234.0,235.0,235.0,236.0,236.0,237.0,237.0,238.0,238.0,238.0,239.0]},\"selected\":{\"id\":\"15725\",\"type\":\"Selection\"},\"selection_policy\":{\"id\":\"15726\",\"type\":\"UnionRenderers\"}},\"id\":\"15097\",\"type\":\"ColumnDataSource\"},{\"attributes\":{\"axis_label\":\"Capacity (k)\",\"formatter\":{\"id\":\"15712\",\"type\":\"BasicTickFormatter\"},\"plot\":{\"id\":\"15039\",\"subtype\":\"Figure\",\"type\":\"Plot\"},\"ticker\":{\"id\":\"15049\",\"type\":\"BasicTicker\"}},\"id\":\"15048\",\"type\":\"LinearAxis\"},{\"attributes\":{},\"id\":\"15731\",\"type\":\"Selection\"},{\"attributes\":{},\"id\":\"15049\",\"type\":\"BasicTicker\"},{\"attributes\":{\"line_dash\":[6],\"line_width\":2,\"x\":{\"field\":\"x\"},\"y\":{\"field\":\"y\"}},\"id\":\"15099\",\"type\":\"Line\"},{\"attributes\":{\"plot\":{\"id\":\"15039\",\"subtype\":\"Figure\",\"type\":\"Plot\"},\"ticker\":{\"id\":\"15049\",\"type\":\"BasicTicker\"},\"visible\":false},\"id\":\"15052\",\"type\":\"Grid\"},{\"attributes\":{\"line_alpha\":0.1,\"line_color\":\"#1f77b4\",\"line_dash\":[6],\"line_width\":2,\"x\":{\"field\":\"x\"},\"y\":{\"field\":\"y\"}},\"id\":\"15100\",\"type\":\"Line\"},{\"attributes\":{\"axis_label\":\"Profit\",\"formatter\":{\"id\":\"15714\",\"type\":\"BasicTickFormatter\"},\"plot\":{\"id\":\"15039\",\"subtype\":\"Figure\",\"type\":\"Plot\"},\"ticker\":{\"id\":\"15054\",\"type\":\"BasicTicker\"}},\"id\":\"15053\",\"type\":\"LinearAxis\"},{\"attributes\":{\"data_source\":{\"id\":\"15097\",\"type\":\"ColumnDataSource\"},\"glyph\":{\"id\":\"15099\",\"type\":\"Line\"},\"hover_glyph\":null,\"muted_glyph\":null,\"nonselection_glyph\":{\"id\":\"15100\",\"type\":\"Line\"},\"selection_glyph\":null,\"view\":{\"id\":\"15102\",\"type\":\"CDSView\"}},\"id\":\"15101\",\"type\":\"GlyphRenderer\"},{\"attributes\":{},\"id\":\"15054\",\"type\":\"BasicTicker\"},{\"attributes\":{\"source\":{\"id\":\"15097\",\"type\":\"ColumnDataSource\"}},\"id\":\"15102\",\"type\":\"CDSView\"},{\"attributes\":{\"dimension\":1,\"plot\":{\"id\":\"15039\",\"subtype\":\"Figure\",\"type\":\"Plot\"},\"ticker\":{\"id\":\"15054\",\"type\":\"BasicTicker\"},\"visible\":false},\"id\":\"15057\",\"type\":\"Grid\"},{\"attributes\":{\"callback\":null,\"data\":{\"x\":[50,51,52,53,54,55,56,57,58,59,60,61,62,63,64,65,66,67,68,69,70,71,72,73,74,75,76,77,78,79,80,81,82,83,84,85,86,87,88,89,90,91,92,93,94,95,96,97,98,99,100,101,102,103,104,105,106,107,108,109,110,111,112,113,114,115,116,117,118,119,120,121,122,123,124,125,126,127,128,129,130,131,132,133,134,135,136,137,138,139,140,141,142,143,144,145,146,147,148,149,150,151,152,153,154,155,156,157,158,159,160,161,162,163,164,165,166,167,168,169,170,171,172,173,174,175,176,177,178,179,180,181,182,183,184,185,186,187,188,189,190,191,192,193,194,195,196,197,198,199],\"y\":[-180.0,-175.0,-169.0,-163.0,-158.0,-152.0,-147.0,-141.0,-136.0,-130.0,-125.0,-119.0,-114.0,-108.0,-103.0,-97.0,-92.0,-86.0,-81.0,-75.0,-70.0,-64.0,-59.0,-53.0,-48.0,-42.0,-37.0,-32.0,-26.0,-21.0,-16.0,-10.0,-5.0,0.0,6.0,11.0,16.0,22.0,27.0,32.0,38.0,43.0,48.0,53.0,58.0,64.0,69.0,74.0,79.0,84.0,89.0,95.0,100.0,105.0,110.0,115.0,120.0,125.0,130.0,135.0,140.0,145.0,150.0,155.0,160.0,165.0,170.0,175.0,180.0,185.0,189.0,194.0,199.0,204.0,209.0,213.0,218.0,223.0,228.0,232.0,237.0,239.0,238.0,236.0,233.0,230.0,226.0,223.0,220.0,216.0,213.0,210.0,207.0,204.0,200.0,197.0,194.0,191.0,188.0,185.0,182.0,178.0,175.0,172.0,169.0,166.0,163.0,160.0,157.0,154.0,151.0,148.0,145.0,143.0,140.0,137.0,134.0,131.0,128.0,125.0,123.0,120.0,117.0,114.0,112.0,109.0,106.0,104.0,101.0,98.0,96.0,93.0,90.0,88.0,85.0,83.0,80.0,78.0,75.0,73.0,70.0,68.0,65.0,63.0,61.0,58.0,56.0,54.0,51.0,49.0]},\"selected\":{\"id\":\"15727\",\"type\":\"Selection\"},\"selection_policy\":{\"id\":\"15728\",\"type\":\"UnionRenderers\"}},\"id\":\"15103\",\"type\":\"ColumnDataSource\"},{\"attributes\":{\"data_source\":{\"id\":\"15091\",\"type\":\"ColumnDataSource\"},\"glyph\":{\"id\":\"15093\",\"type\":\"Line\"},\"hover_glyph\":null,\"muted_glyph\":null,\"nonselection_glyph\":{\"id\":\"15094\",\"type\":\"Line\"},\"selection_glyph\":null,\"view\":{\"id\":\"15096\",\"type\":\"CDSView\"}},\"id\":\"15095\",\"type\":\"GlyphRenderer\"},{\"attributes\":{},\"id\":\"15730\",\"type\":\"UnionRenderers\"},{\"attributes\":{\"callback\":null,\"data\":{\"x\":[50,51,52,53,54,55,56,57,58,59,60,61,62,63,64,65,66,67,68,69,70,71,72,73,74,75,76,77,78,79,80,81,82,83,84,85,86,87,88,89,90,91,92,93,94,95,96,97,98,99,100,101,102,103,104,105,106,107,108,109,110,111,112,113,114,115,116,117,118,119,120,121,122,123,124,125,126,127,128,129,130,131,132,133,134,135,136,137,138,139,140,141,142,143,144,145,146,147,148,149,150,151,152,153,154,155,156,157,158,159,160,161,162,163,164,165,166,167,168,169,170,171,172,173,174,175,176,177,178,179,180,181,182,183,184,185,186,187,188,189,190,191,192,193,194,195,196,197,198,199],\"y\":[4.0,7.0,10.0,13.0,16.0,19.0,22.0,25.0,28.0,31.0,33.0,36.0,39.0,42.0,45.0,48.0,51.0,53.0,56.0,59.0,62.0,64.0,67.0,70.0,73.0,75.0,78.0,81.0,83.0,86.0,88.0,91.0,94.0,96.0,99.0,101.0,104.0,106.0,108.0,111.0,113.0,115.0,118.0,120.0,122.0,125.0,127.0,129.0,131.0,134.0,136.0,138.0,140.0,142.0,144.0,146.0,148.0,150.0,152.0,154.0,156.0,158.0,160.0,162.0,164.0,166.0,167.0,169.0,171.0,173.0,174.0,176.0,178.0,179.0,181.0,182.0,184.0,186.0,187.0,189.0,190.0,192.0,193.0,194.0,196.0,197.0,198.0,200.0,201.0,202.0,203.0,204.0,205.0,207.0,208.0,209.0,210.0,211.0,212.0,213.0,214.0,215.0,216.0,217.0,218.0,219.0,220.0,221.0,222.0,223.0,223.0,224.0,225.0,226.0,226.0,227.0,228.0,228.0,229.0,230.0,230.0,231.0,231.0,232.0,232.0,233.0,233.0,234.0,234.0,235.0,235.0,236.0,236.0,236.0,237.0,237.0,238.0,238.0,238.0,238.0,239.0,239.0,239.0,240.0,240.0,240.0,240.0,240.0,241.0,241.0]},\"selected\":{\"id\":\"15717\",\"type\":\"Selection\"},\"selection_policy\":{\"id\":\"15718\",\"type\":\"UnionRenderers\"}},\"id\":\"15073\",\"type\":\"ColumnDataSource\"},{\"attributes\":{\"line_alpha\":0.8,\"line_width\":2,\"x\":{\"field\":\"x\"},\"y\":{\"field\":\"y\"}},\"id\":\"15105\",\"type\":\"Line\"},{\"attributes\":{\"active_drag\":\"auto\",\"active_inspect\":\"auto\",\"active_multi\":null,\"active_scroll\":\"auto\",\"active_tap\":\"auto\",\"tools\":[{\"id\":\"15058\",\"type\":\"PanTool\"},{\"id\":\"15059\",\"type\":\"WheelZoomTool\"},{\"id\":\"15060\",\"type\":\"BoxZoomTool\"},{\"id\":\"15061\",\"type\":\"SaveTool\"},{\"id\":\"15062\",\"type\":\"ResetTool\"},{\"id\":\"15063\",\"type\":\"HelpTool\"}]},\"id\":\"15064\",\"type\":\"Toolbar\"},{\"attributes\":{},\"id\":\"15058\",\"type\":\"PanTool\"},{\"attributes\":{\"line_alpha\":0.1,\"line_color\":\"#1f77b4\",\"line_width\":2,\"x\":{\"field\":\"x\"},\"y\":{\"field\":\"y\"}},\"id\":\"15106\",\"type\":\"Line\"},{\"attributes\":{\"data_source\":{\"id\":\"15103\",\"type\":\"ColumnDataSource\"},\"glyph\":{\"id\":\"15105\",\"type\":\"Line\"},\"hover_glyph\":null,\"muted_glyph\":null,\"nonselection_glyph\":{\"id\":\"15106\",\"type\":\"Line\"},\"selection_glyph\":null,\"view\":{\"id\":\"15108\",\"type\":\"CDSView\"}},\"id\":\"15107\",\"type\":\"GlyphRenderer\"},{\"attributes\":{},\"id\":\"15059\",\"type\":\"WheelZoomTool\"},{\"attributes\":{\"overlay\":{\"id\":\"15066\",\"type\":\"BoxAnnotation\"}},\"id\":\"15060\",\"type\":\"BoxZoomTool\"},{\"attributes\":{\"source\":{\"id\":\"15103\",\"type\":\"ColumnDataSource\"}},\"id\":\"15108\",\"type\":\"CDSView\"},{\"attributes\":{},\"id\":\"15061\",\"type\":\"SaveTool\"},{\"attributes\":{\"callback\":null,\"data\":{\"x\":[50,51,52,53,54,55,56,57,58,59,60,61,62,63,64,65,66,67,68,69,70,71,72,73,74,75,76,77,78,79,80,81,82,83,84,85,86,87,88,89,90,91,92,93,94,95,96,97,98,99,100,101,102,103,104,105,106,107,108,109,110,111,112,113,114,115,116,117,118,119,120,121,122,123,124,125,126,127,128,129,130,131,132,133,134,135,136,137,138,139,140,141,142,143,144,145,146,147,148,149,150,151,152,153,154,155,156,157,158,159,160,161,162,163,164,165,166,167,168,169,170,171,172,173,174,175,176,177,178,179,180,181,182,183,184,185,186,187,188,189,190,191,192,193,194,195,196,197,198,199],\"y\":[-278.0,-271.0,-265.0,-258.0,-252.0,-246.0,-239.0,-233.0,-226.0,-220.0,-214.0,-208.0,-201.0,-195.0,-189.0,-183.0,-177.0,-171.0,-165.0,-159.0,-153.0,-147.0,-141.0,-135.0,-129.0,-123.0,-117.0,-111.0,-106.0,-100.0,-95.0,-89.0,-84.0,-78.0,-73.0,-67.0,-62.0,-57.0,-51.0,-46.0,-41.0,-36.0,-31.0,-26.0,-21.0,-16.0,-11.0,-6.0,-2.0,3.0,8.0,13.0,17.0,22.0,26.0,31.0,35.0,40.0,44.0,48.0,53.0,57.0,61.0,65.0,69.0,73.0,77.0,81.0,85.0,89.0,92.0,96.0,99.0,103.0,107.0,110.0,113.0,117.0,120.0,123.0,127.0,130.0,133.0,136.0,139.0,142.0,144.0,147.0,150.0,153.0,155.0,158.0,160.0,163.0,165.0,168.0,170.0,173.0,175.0,177.0,180.0,182.0,184.0,186.0,188.0,190.0,192.0,194.0,196.0,198.0,200.0,201.0,203.0,204.0,206.0,208.0,209.0,210.0,212.0,213.0,214.0,216.0,217.0,218.0,219.0,220.0,221.0,223.0,224.0,225.0,225.0,226.0,227.0,228.0,229.0,230.0,230.0,231.0,232.0,232.0,233.0,234.0,234.0,235.0,235.0,236.0,236.0,237.0,237.0,238.0]},\"selected\":{\"id\":\"15729\",\"type\":\"Selection\"},\"selection_policy\":{\"id\":\"15730\",\"type\":\"UnionRenderers\"}},\"id\":\"15109\",\"type\":\"ColumnDataSource\"},{\"attributes\":{},\"id\":\"15062\",\"type\":\"ResetTool\"},{\"attributes\":{},\"id\":\"15729\",\"type\":\"Selection\"},{\"attributes\":{},\"id\":\"15063\",\"type\":\"HelpTool\"},{\"attributes\":{\"line_dash\":[6],\"line_width\":2,\"x\":{\"field\":\"x\"},\"y\":{\"field\":\"y\"}},\"id\":\"15111\",\"type\":\"Line\"},{\"attributes\":{\"line_alpha\":0.1,\"line_color\":\"#1f77b4\",\"line_dash\":[6],\"line_width\":2,\"x\":{\"field\":\"x\"},\"y\":{\"field\":\"y\"}},\"id\":\"15112\",\"type\":\"Line\"},{\"attributes\":{\"bottom_units\":\"screen\",\"fill_alpha\":{\"value\":0.5},\"fill_color\":{\"value\":\"lightgrey\"},\"left_units\":\"screen\",\"level\":\"overlay\",\"line_alpha\":{\"value\":1.0},\"line_color\":{\"value\":\"black\"},\"line_dash\":[4,4],\"line_width\":{\"value\":2},\"plot\":null,\"render_mode\":\"css\",\"right_units\":\"screen\",\"top_units\":\"screen\"},\"id\":\"15066\",\"type\":\"BoxAnnotation\"},{\"attributes\":{\"data_source\":{\"id\":\"15109\",\"type\":\"ColumnDataSource\"},\"glyph\":{\"id\":\"15111\",\"type\":\"Line\"},\"hover_glyph\":null,\"muted_glyph\":null,\"nonselection_glyph\":{\"id\":\"15112\",\"type\":\"Line\"},\"selection_glyph\":null,\"view\":{\"id\":\"15114\",\"type\":\"CDSView\"}},\"id\":\"15113\",\"type\":\"GlyphRenderer\"},{\"attributes\":{\"line_dash\":[6],\"line_width\":2,\"x\":{\"field\":\"x\"},\"y\":{\"field\":\"y\"}},\"id\":\"15075\",\"type\":\"Line\"},{\"attributes\":{\"source\":{\"id\":\"15109\",\"type\":\"ColumnDataSource\"}},\"id\":\"15114\",\"type\":\"CDSView\"},{\"attributes\":{},\"id\":\"15712\",\"type\":\"BasicTickFormatter\"},{\"attributes\":{\"line_alpha\":0.1,\"line_color\":\"#1f77b4\",\"line_dash\":[6],\"line_width\":2,\"x\":{\"field\":\"x\"},\"y\":{\"field\":\"y\"}},\"id\":\"15076\",\"type\":\"Line\"},{\"attributes\":{\"callback\":null,\"data\":{\"x\":[50,51,52,53,54,55,56,57,58,59,60,61,62,63,64,65,66,67,68,69,70,71,72,73,74,75,76,77,78,79,80,81,82,83,84,85,86,87,88,89,90,91,92,93,94,95,96,97,98,99,100,101,102,103,104,105,106,107,108,109,110,111,112,113,114,115,116,117,118,119,120,121,122,123,124,125,126,127,128,129,130,131,132,133,134,135,136,137,138,139,140,141,142,143,144,145,146,147,148,149,150,151,152,153,154,155,156,157,158,159,160,161,162,163,164,165,166,167,168,169,170,171,172,173,174,175,176,177,178,179,180,181,182,183,184,185,186,187,188,189,190,191,192,193,194,195,196,197,198,199],\"y\":[-273.0,-267.0,-260.0,-253.0,-246.0,-239.0,-233.0,-226.0,-219.0,-212.0,-206.0,-199.0,-192.0,-185.0,-179.0,-172.0,-165.0,-159.0,-152.0,-145.0,-139.0,-132.0,-125.0,-119.0,-112.0,-106.0,-99.0,-92.0,-86.0,-79.0,-73.0,-66.0,-60.0,-53.0,-47.0,-40.0,-34.0,-27.0,-21.0,-14.0,-8.0,-2.0,5.0,11.0,17.0,24.0,30.0,36.0,43.0,49.0,55.0,61.0,68.0,74.0,80.0,86.0,92.0,99.0,105.0,111.0,117.0,123.0,129.0,135.0,141.0,147.0,153.0,159.0,165.0,171.0,177.0,183.0,189.0,195.0,200.0,206.0,212.0,218.0,224.0,229.0,235.0,238.0,237.0,235.0,233.0,230.0,226.0,223.0,220.0,216.0,213.0,210.0,207.0,204.0,200.0,197.0,194.0,191.0,188.0,185.0,182.0,178.0,175.0,172.0,169.0,166.0,163.0,160.0,157.0,154.0,151.0,148.0,145.0,143.0,140.0,137.0,134.0,131.0,128.0,125.0,123.0,120.0,117.0,114.0,112.0,109.0,106.0,104.0,101.0,98.0,96.0,93.0,90.0,88.0,85.0,83.0,80.0,78.0,75.0,73.0,70.0,68.0,65.0,63.0,61.0,58.0,56.0,54.0,51.0,49.0]},\"selected\":{\"id\":\"15731\",\"type\":\"Selection\"},\"selection_policy\":{\"id\":\"15732\",\"type\":\"UnionRenderers\"}},\"id\":\"15115\",\"type\":\"ColumnDataSource\"},{\"attributes\":{\"data_source\":{\"id\":\"15073\",\"type\":\"ColumnDataSource\"},\"glyph\":{\"id\":\"15075\",\"type\":\"Line\"},\"hover_glyph\":null,\"muted_glyph\":null,\"nonselection_glyph\":{\"id\":\"15076\",\"type\":\"Line\"},\"selection_glyph\":null,\"view\":{\"id\":\"15078\",\"type\":\"CDSView\"}},\"id\":\"15077\",\"type\":\"GlyphRenderer\"},{\"attributes\":{},\"id\":\"15728\",\"type\":\"UnionRenderers\"},{\"attributes\":{\"source\":{\"id\":\"15073\",\"type\":\"ColumnDataSource\"}},\"id\":\"15078\",\"type\":\"CDSView\"},{\"attributes\":{\"line_alpha\":0.8,\"line_width\":2,\"x\":{\"field\":\"x\"},\"y\":{\"field\":\"y\"}},\"id\":\"15117\",\"type\":\"Line\"},{\"attributes\":{\"callback\":null,\"data\":{\"x\":[50,51,52,53,54,55,56,57,58,59,60,61,62,63,64,65,66,67,68,69,70,71,72,73,74,75,76,77,78,79,80,81,82,83,84,85,86,87,88,89,90,91,92,93,94,95,96,97,98,99,100,101,102,103,104,105,106,107,108,109,110,111,112,113,114,115,116,117,118,119,120,121,122,123,124,125,126,127,128,129,130,131,132,133,134,135,136,137,138,139,140,141,142,143,144,145,146,147,148,149,150,151,152,153,154,155,156,157,158,159,160,161,162,163,164,165,166,167,168,169,170,171,172,173,174,175,176,177,178,179,180,181,182,183,184,185,186,187,188,189,190,191,192,193,194,195,196,197,198,199],\"y\":[6.0,9.0,12.0,15.0,19.0,22.0,25.0,28.0,31.0,34.0,37.0,40.0,44.0,47.0,50.0,53.0,56.0,59.0,62.0,65.0,68.0,71.0,74.0,78.0,81.0,84.0,87.0,90.0,93.0,96.0,99.0,102.0,105.0,108.0,111.0,114.0,117.0,120.0,123.0,126.0,129.0,132.0,135.0,138.0,140.0,143.0,146.0,149.0,152.0,155.0,158.0,161.0,164.0,167.0,169.0,172.0,175.0,178.0,181.0,184.0,186.0,189.0,192.0,195.0,198.0,200.0,203.0,206.0,209.0,211.0,214.0,217.0,220.0,222.0,225.0,228.0,230.0,233.0,236.0,238.0,241.0,241.0,239.0,236.0,233.0,230.0,226.0,223.0,220.0,216.0,213.0,210.0,207.0,204.0,200.0,197.0,194.0,191.0,188.0,185.0,182.0,178.0,175.0,172.0,169.0,166.0,163.0,160.0,157.0,154.0,151.0,148.0,145.0,143.0,140.0,137.0,134.0,131.0,128.0,125.0,123.0,120.0,117.0,114.0,112.0,109.0,106.0,104.0,101.0,98.0,96.0,93.0,90.0,88.0,85.0,83.0,80.0,78.0,75.0,73.0,70.0,68.0,65.0,63.0,61.0,58.0,56.0,54.0,51.0,49.0]},\"selected\":{\"id\":\"15719\",\"type\":\"Selection\"},\"selection_policy\":{\"id\":\"15720\",\"type\":\"UnionRenderers\"}},\"id\":\"15079\",\"type\":\"ColumnDataSource\"},{\"attributes\":{\"line_alpha\":0.1,\"line_color\":\"#1f77b4\",\"line_width\":2,\"x\":{\"field\":\"x\"},\"y\":{\"field\":\"y\"}},\"id\":\"15118\",\"type\":\"Line\"},{\"attributes\":{\"data_source\":{\"id\":\"15115\",\"type\":\"ColumnDataSource\"},\"glyph\":{\"id\":\"15117\",\"type\":\"Line\"},\"hover_glyph\":null,\"muted_glyph\":null,\"nonselection_glyph\":{\"id\":\"15118\",\"type\":\"Line\"},\"selection_glyph\":null,\"view\":{\"id\":\"15120\",\"type\":\"CDSView\"}},\"id\":\"15119\",\"type\":\"GlyphRenderer\"},{\"attributes\":{\"line_alpha\":0.1,\"line_color\":\"#1f77b4\",\"line_width\":2,\"x\":{\"field\":\"x\"},\"y\":{\"field\":\"y\"}},\"id\":\"15094\",\"type\":\"Line\"},{\"attributes\":{\"line_alpha\":0.8,\"line_width\":2,\"x\":{\"field\":\"x\"},\"y\":{\"field\":\"y\"}},\"id\":\"15081\",\"type\":\"Line\"},{\"attributes\":{\"source\":{\"id\":\"15115\",\"type\":\"ColumnDataSource\"}},\"id\":\"15120\",\"type\":\"CDSView\"},{\"attributes\":{\"line_alpha\":0.1,\"line_color\":\"#1f77b4\",\"line_width\":2,\"x\":{\"field\":\"x\"},\"y\":{\"field\":\"y\"}},\"id\":\"15082\",\"type\":\"Line\"},{\"attributes\":{\"background_fill_alpha\":{\"value\":0.4},\"background_fill_color\":{\"value\":\"lightgrey\"},\"plot\":{\"id\":\"15039\",\"subtype\":\"Figure\",\"type\":\"Plot\"},\"text\":\"1.0\",\"text_font_size\":{\"value\":\"8pt\"},\"x\":20,\"x_units\":\"screen\",\"y\":100,\"y_units\":\"screen\"},\"id\":\"15122\",\"type\":\"Label\"},{\"attributes\":{\"data_source\":{\"id\":\"15079\",\"type\":\"ColumnDataSource\"},\"glyph\":{\"id\":\"15081\",\"type\":\"Line\"},\"hover_glyph\":null,\"muted_glyph\":null,\"nonselection_glyph\":{\"id\":\"15082\",\"type\":\"Line\"},\"selection_glyph\":null,\"view\":{\"id\":\"15084\",\"type\":\"CDSView\"}},\"id\":\"15083\",\"type\":\"GlyphRenderer\"},{\"attributes\":{\"background_fill_alpha\":{\"value\":0.4},\"background_fill_color\":{\"value\":\"lightgrey\"},\"plot\":{\"id\":\"15039\",\"subtype\":\"Figure\",\"type\":\"Plot\"},\"text\":\"2.0\",\"text_font_size\":{\"value\":\"8pt\"},\"x\":20,\"x_units\":\"screen\",\"y\":65,\"y_units\":\"screen\"},\"id\":\"15123\",\"type\":\"Label\"},{\"attributes\":{\"source\":{\"id\":\"15079\",\"type\":\"ColumnDataSource\"}},\"id\":\"15084\",\"type\":\"CDSView\"},{\"attributes\":{\"callback\":null,\"data\":{\"x\":[50,51,52,53,54,55,56,57,58,59,60,61,62,63,64,65,66,67,68,69,70,71,72,73,74,75,76,77,78,79,80,81,82,83,84,85,86,87,88,89,90,91,92,93,94,95,96,97,98,99,100,101,102,103,104,105,106,107,108,109,110,111,112,113,114,115,116,117,118,119,120,121,122,123,124,125,126,127,128,129,130,131,132,133,134,135,136,137,138,139,140,141,142,143,144,145,146,147,148,149,150,151,152,153,154,155,156,157,158,159,160,161,162,163,164,165,166,167,168,169,170,171,172,173,174,175,176,177,178,179,180,181,182,183,184,185,186,187,188,189,190,191,192,193,194,195,196,197,198,199],\"y\":[-90.0,-86.0,-82.0,-78.0,-73.0,-69.0,-65.0,-61.0,-57.0,-53.0,-49.0,-45.0,-41.0,-37.0,-33.0,-29.0,-25.0,-21.0,-17.0,-14.0,-10.0,-6.0,-2.0,2.0,5.0,9.0,13.0,17.0,20.0,24.0,27.0,31.0,35.0,38.0,42.0,45.0,48.0,52.0,55.0,58.0,62.0,65.0,68.0,71.0,75.0,78.0,81.0,84.0,87.0,90.0,93.0,96.0,99.0,102.0,105.0,108.0,111.0,113.0,116.0,119.0,122.0,124.0,127.0,130.0,132.0,135.0,137.0,140.0,142.0,145.0,147.0,149.0,152.0,154.0,156.0,158.0,161.0,163.0,165.0,167.0,169.0,171.0,173.0,175.0,177.0,179.0,180.0,182.0,184.0,186.0,187.0,189.0,190.0,192.0,194.0,195.0,197.0,198.0,200.0,201.0,203.0,204.0,205.0,207.0,208.0,209.0,211.0,212.0,213.0,214.0,215.0,216.0,217.0,219.0,220.0,220.0,221.0,222.0,223.0,224.0,225.0,226.0,226.0,227.0,228.0,229.0,229.0,230.0,231.0,231.0,232.0,233.0,233.0,234.0,234.0,235.0,235.0,236.0,236.0,236.0,237.0,237.0,238.0,238.0,238.0,239.0,239.0,239.0,240.0,240.0]},\"selected\":{\"id\":\"15721\",\"type\":\"Selection\"},\"selection_policy\":{\"id\":\"15722\",\"type\":\"UnionRenderers\"}},\"id\":\"15085\",\"type\":\"ColumnDataSource\"},{\"attributes\":{\"background_fill_alpha\":{\"value\":0.4},\"background_fill_color\":{\"value\":\"lightgrey\"},\"plot\":{\"id\":\"15039\",\"subtype\":\"Figure\",\"type\":\"Plot\"},\"text\":\"3.0\",\"text_font_size\":{\"value\":\"8pt\"},\"x\":20,\"x_units\":\"screen\",\"y\":35,\"y_units\":\"screen\"},\"id\":\"15124\",\"type\":\"Label\"},{\"attributes\":{\"line_alpha\":0.8,\"line_width\":2,\"x\":{\"field\":\"x\"},\"y\":{\"field\":\"y\"}},\"id\":\"15093\",\"type\":\"Line\"},{\"attributes\":{\"background_fill_alpha\":{\"value\":0.4},\"background_fill_color\":{\"value\":\"lightgrey\"},\"plot\":{\"id\":\"15039\",\"subtype\":\"Figure\",\"type\":\"Plot\"},\"text\":\"4.0\",\"text_font_size\":{\"value\":\"8pt\"},\"x\":20,\"x_units\":\"screen\",\"y\":5,\"y_units\":\"screen\"},\"id\":\"15125\",\"type\":\"Label\"},{\"attributes\":{\"line_dash\":[6],\"line_width\":2,\"x\":{\"field\":\"x\"},\"y\":{\"field\":\"y\"}},\"id\":\"15087\",\"type\":\"Line\"},{\"attributes\":{\"items\":[{\"id\":\"15127\",\"type\":\"LegendItem\"},{\"id\":\"15128\",\"type\":\"LegendItem\"}],\"label_standoff\":1,\"label_text_font_size\":{\"value\":\"12px\"},\"location\":[0,0],\"orientation\":\"horizontal\",\"plot\":{\"id\":\"15039\",\"subtype\":\"Figure\",\"type\":\"Plot\"},\"spacing\":0},\"id\":\"15126\",\"type\":\"Legend\"},{\"attributes\":{\"line_alpha\":0.1,\"line_color\":\"#1f77b4\",\"line_dash\":[6],\"line_width\":2,\"x\":{\"field\":\"x\"},\"y\":{\"field\":\"y\"}},\"id\":\"15088\",\"type\":\"Line\"},{\"attributes\":{\"data_source\":{\"id\":\"15085\",\"type\":\"ColumnDataSource\"},\"glyph\":{\"id\":\"15087\",\"type\":\"Line\"},\"hover_glyph\":null,\"muted_glyph\":null,\"nonselection_glyph\":{\"id\":\"15088\",\"type\":\"Line\"},\"selection_glyph\":null,\"view\":{\"id\":\"15090\",\"type\":\"CDSView\"}},\"id\":\"15089\",\"type\":\"GlyphRenderer\"},{\"attributes\":{\"plot\":null,\"text\":\"\"},\"id\":\"15711\",\"type\":\"Title\"},{\"attributes\":{\"source\":{\"id\":\"15085\",\"type\":\"ColumnDataSource\"}},\"id\":\"15090\",\"type\":\"CDSView\"},{\"attributes\":{\"label\":{\"value\":\"Classic   \"},\"renderers\":[{\"id\":\"15077\",\"type\":\"GlyphRenderer\"}]},\"id\":\"15127\",\"type\":\"LegendItem\"},{\"attributes\":{\"callback\":null,\"data\":{\"x\":[50,51,52,53,54,55,56,57,58,59,60,61,62,63,64,65,66,67,68,69,70,71,72,73,74,75,76,77,78,79,80,81,82,83,84,85,86,87,88,89,90,91,92,93,94,95,96,97,98,99,100,101,102,103,104,105,106,107,108,109,110,111,112,113,114,115,116,117,118,119,120,121,122,123,124,125,126,127,128,129,130,131,132,133,134,135,136,137,138,139,140,141,142,143,144,145,146,147,148,149,150,151,152,153,154,155,156,157,158,159,160,161,162,163,164,165,166,167,168,169,170,171,172,173,174,175,176,177,178,179,180,181,182,183,184,185,186,187,188,189,190,191,192,193,194,195,196,197,198,199],\"y\":[-87.0,-83.0,-78.0,-74.0,-70.0,-65.0,-61.0,-57.0,-52.0,-48.0,-44.0,-39.0,-35.0,-31.0,-26.0,-22.0,-18.0,-13.0,-9.0,-5.0,-1.0,4.0,8.0,12.0,16.0,21.0,25.0,29.0,33.0,37.0,42.0,46.0,50.0,54.0,58.0,63.0,67.0,71.0,75.0,79.0,83.0,87.0,91.0,95.0,99.0,104.0,108.0,112.0,116.0,120.0,124.0,128.0,132.0,136.0,140.0,144.0,148.0,152.0,155.0,159.0,163.0,167.0,171.0,175.0,179.0,183.0,187.0,190.0,194.0,198.0,202.0,206.0,209.0,213.0,217.0,221.0,224.0,228.0,232.0,235.0,239.0,240.0,238.0,236.0,233.0,230.0,226.0,223.0,220.0,216.0,213.0,210.0,207.0,204.0,200.0,197.0,194.0,191.0,188.0,185.0,182.0,178.0,175.0,172.0,169.0,166.0,163.0,160.0,157.0,154.0,151.0,148.0,145.0,143.0,140.0,137.0,134.0,131.0,128.0,125.0,123.0,120.0,117.0,114.0,112.0,109.0,106.0,104.0,101.0,98.0,96.0,93.0,90.0,88.0,85.0,83.0,80.0,78.0,75.0,73.0,70.0,68.0,65.0,63.0,61.0,58.0,56.0,54.0,51.0,49.0]},\"selected\":{\"id\":\"15723\",\"type\":\"Selection\"},\"selection_policy\":{\"id\":\"15724\",\"type\":\"UnionRenderers\"}},\"id\":\"15091\",\"type\":\"ColumnDataSource\"},{\"attributes\":{\"label\":{\"value\":\"Quantum\"},\"renderers\":[{\"id\":\"15083\",\"type\":\"GlyphRenderer\"}]},\"id\":\"15128\",\"type\":\"LegendItem\"}],\"root_ids\":[\"15039\"]},\"title\":\"Bokeh Application\",\"version\":\"1.0.4\"}};\n  var render_items = [{\"docid\":\"4740ea7f-94fc-4069-8c9b-fb9c063216a8\",\"roots\":{\"15039\":\"4333d86c-3450-437a-9dcb-1d9cf5b6c0c4\"}}];\n  root.Bokeh.embed.embed_items_notebook(docs_json, render_items);\n\n  }\n  if (root.Bokeh !== undefined) {\n    embed_document(root);\n  } else {\n    var attempts = 0;\n    var timer = setInterval(function(root) {\n      if (root.Bokeh !== undefined) {\n        embed_document(root);\n        clearInterval(timer);\n      }\n      attempts++;\n      if (attempts > 100) {\n        console.log(\"Bokeh: ERROR: Unable to run BokehJS code because BokehJS library is missing\");\n        clearInterval(timer);\n      }\n    }, 10, root)\n  }\n})(window);",
      "application/vnd.bokehjs_exec.v0+json": ""
     },
     "metadata": {
      "application/vnd.bokehjs_exec.v0+json": {
       "id": "15039"
      }
     },
     "output_type": "display_data"
    }
   ],
   "source": [
    "item = 4\n",
    "consider_minmax = 1\n",
    "y_min = -300\n",
    "y_max = 301\n",
    "%run Bokeh_Combined_SHtoHL.ipynb"
   ]
  },
  {
   "cell_type": "code",
   "execution_count": 117,
   "metadata": {},
   "outputs": [
    {
     "ename": "IndexError",
     "evalue": "invalid index to scalar variable.",
     "output_type": "error",
     "traceback": [
      "\u001b[0;31m---------------------------------------------------------------------------\u001b[0m",
      "\u001b[0;31mIndexError\u001b[0m                                Traceback (most recent call last)",
      "\u001b[0;32m<ipython-input-117-08ee7910fe42>\u001b[0m in \u001b[0;36m<module>\u001b[0;34m()\u001b[0m\n\u001b[0;32m----> 1\u001b[0;31m \u001b[0mLoadObject_tuple\u001b[0m\u001b[0;34m[\u001b[0m\u001b[0;36m0\u001b[0m\u001b[0;34m]\u001b[0m\u001b[0;34m[\u001b[0m\u001b[0;36m0\u001b[0m\u001b[0;34m]\u001b[0m\u001b[0;34m[\u001b[0m\u001b[0my_no\u001b[0m\u001b[0;34m]\u001b[0m\u001b[0;34m[\u001b[0m\u001b[0mitem\u001b[0m\u001b[0;34m]\u001b[0m\u001b[0;34m\u001b[0m\u001b[0m\n\u001b[0m",
      "\u001b[0;31mIndexError\u001b[0m: invalid index to scalar variable."
     ]
    }
   ],
   "source": [
    "LoadObject_tuple[0]"
   ]
  },
  {
   "cell_type": "code",
   "execution_count": null,
   "metadata": {},
   "outputs": [],
   "source": [
    "LoadObject_tuple[1][0][y_no][item]"
   ]
  },
  {
   "cell_type": "code",
   "execution_count": null,
   "metadata": {},
   "outputs": [],
   "source": []
  },
  {
   "cell_type": "markdown",
   "metadata": {},
   "source": [
    "### Sensitivity Analysis on the Number of iterations"
   ]
  },
  {
   "cell_type": "code",
   "execution_count": 124,
   "metadata": {},
   "outputs": [
    {
     "data": {
      "text/plain": [
       "0"
      ]
     },
     "execution_count": 124,
     "metadata": {},
     "output_type": "execute_result"
    }
   ],
   "source": [
    "i"
   ]
  },
  {
   "cell_type": "code",
   "execution_count": 120,
   "metadata": {},
   "outputs": [
    {
     "data": {
      "text/plain": [
       "array([ 500, 1000, 1500])"
      ]
     },
     "execution_count": 120,
     "metadata": {},
     "output_type": "execute_result"
    }
   ],
   "source": [
    "sz_range=np.arange(500,1501,500)\n",
    "sz_range"
   ]
  },
  {
   "cell_type": "code",
   "execution_count": 136,
   "metadata": {},
   "outputs": [
    {
     "data": {
      "text/plain": [
       "[500, 1000, 1500, 5000]"
      ]
     },
     "execution_count": 136,
     "metadata": {},
     "output_type": "execute_result"
    }
   ],
   "source": [
    "sz_range=[500,1000,1500,5000]\n",
    "sz_range"
   ]
  },
  {
   "cell_type": "code",
   "execution_count": 138,
   "metadata": {},
   "outputs": [
    {
     "name": "stdout",
     "output_type": "stream",
     "text": [
      "P\n",
      "L\n",
      "U\n",
      "P\n",
      "L\n",
      "U\n",
      "P\n",
      "L\n",
      "U\n",
      "P\n",
      "L\n",
      "U\n"
     ]
    }
   ],
   "source": [
    "SaveObject_tuple = () #For the Pickle package, we can add all objects to a Tuple and save it\n",
    "policy=['P','L', 'U']\n",
    "s=0.005\n",
    "#sz_range=np.arange(500,1501,500)\n",
    "sz_range=[500,1000,1500,5000]\n",
    "for sample_size in sz_range:\n",
    "    d1 = spt.uniform.rvs(loc=uniform_min, scale=uniform_min+uniform_max, size=sample_size, random_state=None)\n",
    "    d2 = spt.uniform.rvs(loc=uniform_min, scale=uniform_min+uniform_max, size=sample_size, random_state=None)\n",
    "    k_min = 50\n",
    "    #k_max = 140\n",
    "    k_max = 200      \n",
    "    k_range = np.arange(k_min, k_max, 1)\n",
    "    result = []\n",
    "    m=9\n",
    "    n=5\n",
    "    kk=2 #0 for non-quantum 1 for quantum\n",
    "    #result=[[0] * m for i in range(n)] #creating n*m dimensions list in Python\n",
    "    result=[[[0] * m for i in range(n)] for i in range(kk)]\n",
    "    nn=0\n",
    "\n",
    "    for policy_selected in policy:\n",
    "        print(policy_selected)\n",
    "        fr_1_arr = [0]*len(k_range)\n",
    "        short1_arr = [0]*len(k_range)\n",
    "        holding1_arr = [0]*len(k_range)\n",
    "        profit1_arr = [0]*len(k_range)\n",
    "        fr_2_arr = [0]*len(k_range)\n",
    "        short2_arr = [0]*len(k_range)\n",
    "        holding2_arr = [0]*len(k_range)\n",
    "        profit2_arr = [0]*len(k_range)\n",
    "\n",
    "        q_fr_1_arr = [0]*len(k_range)\n",
    "        q_short1_arr = [0]*len(k_range)\n",
    "        q_holding1_arr = [0]*len(k_range)\n",
    "        q_profit1_arr = [0]*len(k_range)\n",
    "        q_fr_2_arr = [0]*len(k_range)\n",
    "        q_short2_arr = [0]*len(k_range)\n",
    "        q_holding2_arr = [0]*len(k_range)\n",
    "        q_profit2_arr = [0]*len(k_range)\n",
    "\n",
    "        i=0\n",
    "\n",
    "\n",
    "        for k in k_range:\n",
    "            quant1=0\n",
    "            quant2=0\n",
    "            fr_1_arr[i], short1_arr[i], holding1_arr[i], profit1_arr[i], fr_2_arr[i], short2_arr[i], holding2_arr[i], profit2_arr[i] = origin_updated(0)\n",
    "            quant1=1\n",
    "            quant2=1\n",
    "            q_fr_1_arr[i], q_short1_arr[i], q_holding1_arr[i], q_profit1_arr[i], q_fr_2_arr[i], q_short2_arr[i], q_holding2_arr[i], q_profit2_arr[i] = origin_updated(np.pi/6)\n",
    "            i=i+1\n",
    "\n",
    "        result[0][nn][0] = policy_selected\n",
    "        result[0][nn][1] = fr_1_arr\n",
    "        result[0][nn][2] = short1_arr\n",
    "        result[0][nn][3] = holding1_arr\n",
    "        result[0][nn][4] = profit1_arr\n",
    "\n",
    "        result[0][nn][5] = fr_2_arr\n",
    "        result[0][nn][6] = short2_arr\n",
    "        result[0][nn][7] = holding2_arr\n",
    "        result[0][nn][8] = profit2_arr\n",
    "\n",
    "        result[1][nn][0] = policy_selected\n",
    "        result[1][nn][1] = q_fr_1_arr\n",
    "        result[1][nn][2] = q_short1_arr\n",
    "        result[1][nn][3] = q_holding1_arr\n",
    "        result[1][nn][4] = q_profit1_arr\n",
    "\n",
    "        result[1][nn][5] = q_fr_2_arr\n",
    "        result[1][nn][6] = q_short2_arr\n",
    "        result[1][nn][7] = q_holding2_arr\n",
    "        result[1][nn][8] = q_profit2_arr\n",
    "\n",
    "        nn=nn+1\n",
    "    \n",
    "    SaveObject_tuple = SaveObject_tuple + (sample_size,result)\n",
    "\n",
    "with open('results_iterations.pickle', 'wb') as f:\n",
    "    pickle.dump(SaveObject_tuple, f)"
   ]
  },
  {
   "cell_type": "code",
   "execution_count": 139,
   "metadata": {},
   "outputs": [],
   "source": [
    "with open('results_iterations.pickle', 'rb') as f:\n",
    "    LoadObject_tuple = pickle.load(f)"
   ]
  },
  {
   "cell_type": "code",
   "execution_count": 150,
   "metadata": {},
   "outputs": [
    {
     "data": {
      "text/html": [
       "\n",
       "    <div class=\"bk-root\">\n",
       "        <a href=\"https://bokeh.pydata.org\" target=\"_blank\" class=\"bk-logo bk-logo-small bk-logo-notebook\"></a>\n",
       "        <span id=\"28540\">Loading BokehJS ...</span>\n",
       "    </div>"
      ]
     },
     "metadata": {},
     "output_type": "display_data"
    },
    {
     "data": {
      "application/javascript": "\n(function(root) {\n  function now() {\n    return new Date();\n  }\n\n  var force = true;\n\n  if (typeof (root._bokeh_onload_callbacks) === \"undefined\" || force === true) {\n    root._bokeh_onload_callbacks = [];\n    root._bokeh_is_loading = undefined;\n  }\n\n  var JS_MIME_TYPE = 'application/javascript';\n  var HTML_MIME_TYPE = 'text/html';\n  var EXEC_MIME_TYPE = 'application/vnd.bokehjs_exec.v0+json';\n  var CLASS_NAME = 'output_bokeh rendered_html';\n\n  /**\n   * Render data to the DOM node\n   */\n  function render(props, node) {\n    var script = document.createElement(\"script\");\n    node.appendChild(script);\n  }\n\n  /**\n   * Handle when an output is cleared or removed\n   */\n  function handleClearOutput(event, handle) {\n    var cell = handle.cell;\n\n    var id = cell.output_area._bokeh_element_id;\n    var server_id = cell.output_area._bokeh_server_id;\n    // Clean up Bokeh references\n    if (id != null && id in Bokeh.index) {\n      Bokeh.index[id].model.document.clear();\n      delete Bokeh.index[id];\n    }\n\n    if (server_id !== undefined) {\n      // Clean up Bokeh references\n      var cmd = \"from bokeh.io.state import curstate; print(curstate().uuid_to_server['\" + server_id + \"'].get_sessions()[0].document.roots[0]._id)\";\n      cell.notebook.kernel.execute(cmd, {\n        iopub: {\n          output: function(msg) {\n            var id = msg.content.text.trim();\n            if (id in Bokeh.index) {\n              Bokeh.index[id].model.document.clear();\n              delete Bokeh.index[id];\n            }\n          }\n        }\n      });\n      // Destroy server and session\n      var cmd = \"import bokeh.io.notebook as ion; ion.destroy_server('\" + server_id + \"')\";\n      cell.notebook.kernel.execute(cmd);\n    }\n  }\n\n  /**\n   * Handle when a new output is added\n   */\n  function handleAddOutput(event, handle) {\n    var output_area = handle.output_area;\n    var output = handle.output;\n\n    // limit handleAddOutput to display_data with EXEC_MIME_TYPE content only\n    if ((output.output_type != \"display_data\") || (!output.data.hasOwnProperty(EXEC_MIME_TYPE))) {\n      return\n    }\n\n    var toinsert = output_area.element.find(\".\" + CLASS_NAME.split(' ')[0]);\n\n    if (output.metadata[EXEC_MIME_TYPE][\"id\"] !== undefined) {\n      toinsert[toinsert.length - 1].firstChild.textContent = output.data[JS_MIME_TYPE];\n      // store reference to embed id on output_area\n      output_area._bokeh_element_id = output.metadata[EXEC_MIME_TYPE][\"id\"];\n    }\n    if (output.metadata[EXEC_MIME_TYPE][\"server_id\"] !== undefined) {\n      var bk_div = document.createElement(\"div\");\n      bk_div.innerHTML = output.data[HTML_MIME_TYPE];\n      var script_attrs = bk_div.children[0].attributes;\n      for (var i = 0; i < script_attrs.length; i++) {\n        toinsert[toinsert.length - 1].firstChild.setAttribute(script_attrs[i].name, script_attrs[i].value);\n      }\n      // store reference to server id on output_area\n      output_area._bokeh_server_id = output.metadata[EXEC_MIME_TYPE][\"server_id\"];\n    }\n  }\n\n  function register_renderer(events, OutputArea) {\n\n    function append_mime(data, metadata, element) {\n      // create a DOM node to render to\n      var toinsert = this.create_output_subarea(\n        metadata,\n        CLASS_NAME,\n        EXEC_MIME_TYPE\n      );\n      this.keyboard_manager.register_events(toinsert);\n      // Render to node\n      var props = {data: data, metadata: metadata[EXEC_MIME_TYPE]};\n      render(props, toinsert[toinsert.length - 1]);\n      element.append(toinsert);\n      return toinsert\n    }\n\n    /* Handle when an output is cleared or removed */\n    events.on('clear_output.CodeCell', handleClearOutput);\n    events.on('delete.Cell', handleClearOutput);\n\n    /* Handle when a new output is added */\n    events.on('output_added.OutputArea', handleAddOutput);\n\n    /**\n     * Register the mime type and append_mime function with output_area\n     */\n    OutputArea.prototype.register_mime_type(EXEC_MIME_TYPE, append_mime, {\n      /* Is output safe? */\n      safe: true,\n      /* Index of renderer in `output_area.display_order` */\n      index: 0\n    });\n  }\n\n  // register the mime type if in Jupyter Notebook environment and previously unregistered\n  if (root.Jupyter !== undefined) {\n    var events = require('base/js/events');\n    var OutputArea = require('notebook/js/outputarea').OutputArea;\n\n    if (OutputArea.prototype.mime_types().indexOf(EXEC_MIME_TYPE) == -1) {\n      register_renderer(events, OutputArea);\n    }\n  }\n\n  \n  if (typeof (root._bokeh_timeout) === \"undefined\" || force === true) {\n    root._bokeh_timeout = Date.now() + 5000;\n    root._bokeh_failed_load = false;\n  }\n\n  var NB_LOAD_WARNING = {'data': {'text/html':\n     \"<div style='background-color: #fdd'>\\n\"+\n     \"<p>\\n\"+\n     \"BokehJS does not appear to have successfully loaded. If loading BokehJS from CDN, this \\n\"+\n     \"may be due to a slow or bad network connection. Possible fixes:\\n\"+\n     \"</p>\\n\"+\n     \"<ul>\\n\"+\n     \"<li>re-rerun `output_notebook()` to attempt to load from CDN again, or</li>\\n\"+\n     \"<li>use INLINE resources instead, as so:</li>\\n\"+\n     \"</ul>\\n\"+\n     \"<code>\\n\"+\n     \"from bokeh.resources import INLINE\\n\"+\n     \"output_notebook(resources=INLINE)\\n\"+\n     \"</code>\\n\"+\n     \"</div>\"}};\n\n  function display_loaded() {\n    var el = document.getElementById(\"28540\");\n    if (el != null) {\n      el.textContent = \"BokehJS is loading...\";\n    }\n    if (root.Bokeh !== undefined) {\n      if (el != null) {\n        el.textContent = \"BokehJS \" + root.Bokeh.version + \" successfully loaded.\";\n      }\n    } else if (Date.now() < root._bokeh_timeout) {\n      setTimeout(display_loaded, 100)\n    }\n  }\n\n\n  function run_callbacks() {\n    try {\n      root._bokeh_onload_callbacks.forEach(function(callback) { callback() });\n    }\n    finally {\n      delete root._bokeh_onload_callbacks\n    }\n    console.info(\"Bokeh: all callbacks have finished\");\n  }\n\n  function load_libs(js_urls, callback) {\n    root._bokeh_onload_callbacks.push(callback);\n    if (root._bokeh_is_loading > 0) {\n      console.log(\"Bokeh: BokehJS is being loaded, scheduling callback at\", now());\n      return null;\n    }\n    if (js_urls == null || js_urls.length === 0) {\n      run_callbacks();\n      return null;\n    }\n    console.log(\"Bokeh: BokehJS not loaded, scheduling load and callback at\", now());\n    root._bokeh_is_loading = js_urls.length;\n    for (var i = 0; i < js_urls.length; i++) {\n      var url = js_urls[i];\n      var s = document.createElement('script');\n      s.src = url;\n      s.async = false;\n      s.onreadystatechange = s.onload = function() {\n        root._bokeh_is_loading--;\n        if (root._bokeh_is_loading === 0) {\n          console.log(\"Bokeh: all BokehJS libraries loaded\");\n          run_callbacks()\n        }\n      };\n      s.onerror = function() {\n        console.warn(\"failed to load library \" + url);\n      };\n      console.log(\"Bokeh: injecting script tag for BokehJS library: \", url);\n      document.getElementsByTagName(\"head\")[0].appendChild(s);\n    }\n  };var element = document.getElementById(\"28540\");\n  if (element == null) {\n    console.log(\"Bokeh: ERROR: autoload.js configured with elementid '28540' but no matching script tag was found. \")\n    return false;\n  }\n\n  var js_urls = [\"https://cdn.pydata.org/bokeh/release/bokeh-1.0.4.min.js\", \"https://cdn.pydata.org/bokeh/release/bokeh-widgets-1.0.4.min.js\", \"https://cdn.pydata.org/bokeh/release/bokeh-tables-1.0.4.min.js\", \"https://cdn.pydata.org/bokeh/release/bokeh-gl-1.0.4.min.js\"];\n\n  var inline_js = [\n    function(Bokeh) {\n      Bokeh.set_log_level(\"info\");\n    },\n    \n    function(Bokeh) {\n      \n    },\n    function(Bokeh) {\n      console.log(\"Bokeh: injecting CSS: https://cdn.pydata.org/bokeh/release/bokeh-1.0.4.min.css\");\n      Bokeh.embed.inject_css(\"https://cdn.pydata.org/bokeh/release/bokeh-1.0.4.min.css\");\n      console.log(\"Bokeh: injecting CSS: https://cdn.pydata.org/bokeh/release/bokeh-widgets-1.0.4.min.css\");\n      Bokeh.embed.inject_css(\"https://cdn.pydata.org/bokeh/release/bokeh-widgets-1.0.4.min.css\");\n      console.log(\"Bokeh: injecting CSS: https://cdn.pydata.org/bokeh/release/bokeh-tables-1.0.4.min.css\");\n      Bokeh.embed.inject_css(\"https://cdn.pydata.org/bokeh/release/bokeh-tables-1.0.4.min.css\");\n    }\n  ];\n\n  function run_inline_js() {\n    \n    if ((root.Bokeh !== undefined) || (force === true)) {\n      for (var i = 0; i < inline_js.length; i++) {\n        inline_js[i].call(root, root.Bokeh);\n      }if (force === true) {\n        display_loaded();\n      }} else if (Date.now() < root._bokeh_timeout) {\n      setTimeout(run_inline_js, 100);\n    } else if (!root._bokeh_failed_load) {\n      console.log(\"Bokeh: BokehJS failed to load within specified timeout.\");\n      root._bokeh_failed_load = true;\n    } else if (force !== true) {\n      var cell = $(document.getElementById(\"28540\")).parents('.cell').data().cell;\n      cell.output_area.append_execute_result(NB_LOAD_WARNING)\n    }\n\n  }\n\n  if (root._bokeh_is_loading === 0) {\n    console.log(\"Bokeh: BokehJS loaded, going straight to plotting\");\n    run_inline_js();\n  } else {\n    load_libs(js_urls, function() {\n      console.log(\"Bokeh: BokehJS plotting callback run at\", now());\n      run_inline_js();\n    });\n  }\n}(window));",
      "application/vnd.bokehjs_load.v0+json": ""
     },
     "metadata": {},
     "output_type": "display_data"
    },
    {
     "data": {
      "text/html": [
       "\n",
       "\n",
       "\n",
       "\n",
       "\n",
       "\n",
       "  <div class=\"bk-root\" id=\"fd90dc55-16c4-441c-b9bc-041cf4c71c40\" data-root-id=\"28541\"></div>\n"
      ]
     },
     "metadata": {},
     "output_type": "display_data"
    },
    {
     "data": {
      "application/javascript": "(function(root) {\n  function embed_document(root) {\n    \n  var docs_json = {\"24a4ee38-1c99-446b-9b28-e33330ab1080\":{\"roots\":{\"references\":[{\"attributes\":{\"above\":[{\"id\":\"28628\",\"type\":\"Legend\"}],\"below\":[{\"id\":\"28550\",\"type\":\"LinearAxis\"}],\"left\":[{\"id\":\"28555\",\"type\":\"LinearAxis\"}],\"plot_height\":320,\"plot_width\":400,\"renderers\":[{\"id\":\"28550\",\"type\":\"LinearAxis\"},{\"id\":\"28554\",\"type\":\"Grid\"},{\"id\":\"28555\",\"type\":\"LinearAxis\"},{\"id\":\"28559\",\"type\":\"Grid\"},{\"id\":\"28568\",\"type\":\"BoxAnnotation\"},{\"id\":\"28579\",\"type\":\"GlyphRenderer\"},{\"id\":\"28585\",\"type\":\"GlyphRenderer\"},{\"id\":\"28591\",\"type\":\"GlyphRenderer\"},{\"id\":\"28597\",\"type\":\"GlyphRenderer\"},{\"id\":\"28603\",\"type\":\"GlyphRenderer\"},{\"id\":\"28609\",\"type\":\"GlyphRenderer\"},{\"id\":\"28615\",\"type\":\"GlyphRenderer\"},{\"id\":\"28621\",\"type\":\"GlyphRenderer\"},{\"id\":\"28623\",\"type\":\"Label\"},{\"id\":\"28624\",\"type\":\"Label\"},{\"id\":\"28625\",\"type\":\"Label\"},{\"id\":\"28626\",\"type\":\"Label\"},{\"id\":\"28627\",\"type\":\"Label\"},{\"id\":\"28628\",\"type\":\"Legend\"}],\"title\":{\"id\":\"29515\",\"type\":\"Title\"},\"toolbar\":{\"id\":\"28566\",\"type\":\"Toolbar\"},\"x_range\":{\"id\":\"28542\",\"type\":\"Range1d\"},\"x_scale\":{\"id\":\"28546\",\"type\":\"LinearScale\"},\"y_range\":{\"id\":\"28544\",\"type\":\"Range1d\"},\"y_scale\":{\"id\":\"28548\",\"type\":\"LinearScale\"}},\"id\":\"28541\",\"subtype\":\"Figure\",\"type\":\"Plot\"},{\"attributes\":{\"callback\":null,\"end\":210,\"start\":20},\"id\":\"28542\",\"type\":\"Range1d\"},{\"attributes\":{},\"id\":\"29535\",\"type\":\"Selection\"},{\"attributes\":{\"callback\":null,\"end\":301,\"start\":-400},\"id\":\"28544\",\"type\":\"Range1d\"},{\"attributes\":{\"items\":[{\"id\":\"28629\",\"type\":\"LegendItem\"},{\"id\":\"28630\",\"type\":\"LegendItem\"}],\"label_standoff\":1,\"label_text_font_size\":{\"value\":\"12px\"},\"location\":[0,0],\"orientation\":\"horizontal\",\"plot\":{\"id\":\"28541\",\"subtype\":\"Figure\",\"type\":\"Plot\"},\"spacing\":0},\"id\":\"28628\",\"type\":\"Legend\"},{\"attributes\":{},\"id\":\"28546\",\"type\":\"LinearScale\"},{\"attributes\":{},\"id\":\"29534\",\"type\":\"UnionRenderers\"},{\"attributes\":{\"line_dash\":[6],\"line_width\":2,\"x\":{\"field\":\"x\"},\"y\":{\"field\":\"y\"}},\"id\":\"28577\",\"type\":\"Line\"},{\"attributes\":{},\"id\":\"28548\",\"type\":\"LinearScale\"},{\"attributes\":{\"bottom_units\":\"screen\",\"fill_alpha\":{\"value\":0.5},\"fill_color\":{\"value\":\"lightgrey\"},\"left_units\":\"screen\",\"level\":\"overlay\",\"line_alpha\":{\"value\":1.0},\"line_color\":{\"value\":\"black\"},\"line_dash\":[4,4],\"line_width\":{\"value\":2},\"plot\":null,\"render_mode\":\"css\",\"right_units\":\"screen\",\"top_units\":\"screen\"},\"id\":\"28568\",\"type\":\"BoxAnnotation\"},{\"attributes\":{\"background_fill_alpha\":{\"value\":0.4},\"background_fill_color\":{\"value\":\"lightgrey\"},\"plot\":{\"id\":\"28541\",\"subtype\":\"Figure\",\"type\":\"Plot\"},\"text\":\"1500\",\"text_font_size\":{\"value\":\"8pt\"},\"x\":20,\"x_units\":\"screen\",\"y\":110,\"y_units\":\"screen\"},\"id\":\"28626\",\"type\":\"Label\"},{\"attributes\":{},\"id\":\"29536\",\"type\":\"UnionRenderers\"},{\"attributes\":{\"axis_label\":\"Capacity (k)\",\"formatter\":{\"id\":\"29516\",\"type\":\"BasicTickFormatter\"},\"plot\":{\"id\":\"28541\",\"subtype\":\"Figure\",\"type\":\"Plot\"},\"ticker\":{\"id\":\"28551\",\"type\":\"BasicTicker\"}},\"id\":\"28550\",\"type\":\"LinearAxis\"},{\"attributes\":{},\"id\":\"29529\",\"type\":\"Selection\"},{\"attributes\":{},\"id\":\"28551\",\"type\":\"BasicTicker\"},{\"attributes\":{},\"id\":\"29518\",\"type\":\"BasicTickFormatter\"},{\"attributes\":{\"label\":{\"value\":\"Quantum\"},\"renderers\":[{\"id\":\"28585\",\"type\":\"GlyphRenderer\"}]},\"id\":\"28630\",\"type\":\"LegendItem\"},{\"attributes\":{\"plot\":{\"id\":\"28541\",\"subtype\":\"Figure\",\"type\":\"Plot\"},\"ticker\":{\"id\":\"28551\",\"type\":\"BasicTicker\"},\"visible\":false},\"id\":\"28554\",\"type\":\"Grid\"},{\"attributes\":{\"axis_label\":\"Profit\",\"formatter\":{\"id\":\"29518\",\"type\":\"BasicTickFormatter\"},\"plot\":{\"id\":\"28541\",\"subtype\":\"Figure\",\"type\":\"Plot\"},\"ticker\":{\"id\":\"28556\",\"type\":\"BasicTicker\"}},\"id\":\"28555\",\"type\":\"LinearAxis\"},{\"attributes\":{},\"id\":\"29531\",\"type\":\"Selection\"},{\"attributes\":{},\"id\":\"29533\",\"type\":\"Selection\"},{\"attributes\":{},\"id\":\"29516\",\"type\":\"BasicTickFormatter\"},{\"attributes\":{\"background_fill_alpha\":{\"value\":0.4},\"background_fill_color\":{\"value\":\"lightgrey\"},\"plot\":{\"id\":\"28541\",\"subtype\":\"Figure\",\"type\":\"Plot\"},\"text\":\"5000\",\"text_font_size\":{\"value\":\"8pt\"},\"x\":20,\"x_units\":\"screen\",\"y\":20,\"y_units\":\"screen\"},\"id\":\"28627\",\"type\":\"Label\"},{\"attributes\":{},\"id\":\"29532\",\"type\":\"UnionRenderers\"},{\"attributes\":{},\"id\":\"29530\",\"type\":\"UnionRenderers\"},{\"attributes\":{\"label\":{\"value\":\"Classic   \"},\"renderers\":[{\"id\":\"28579\",\"type\":\"GlyphRenderer\"}]},\"id\":\"28629\",\"type\":\"LegendItem\"},{\"attributes\":{\"active_drag\":\"auto\",\"active_inspect\":\"auto\",\"active_multi\":null,\"active_scroll\":\"auto\",\"active_tap\":\"auto\",\"tools\":[{\"id\":\"28560\",\"type\":\"PanTool\"},{\"id\":\"28561\",\"type\":\"WheelZoomTool\"},{\"id\":\"28562\",\"type\":\"BoxZoomTool\"},{\"id\":\"28563\",\"type\":\"SaveTool\"},{\"id\":\"28564\",\"type\":\"ResetTool\"},{\"id\":\"28565\",\"type\":\"HelpTool\"}]},\"id\":\"28566\",\"type\":\"Toolbar\"},{\"attributes\":{\"plot\":null,\"text\":\"\"},\"id\":\"29515\",\"type\":\"Title\"},{\"attributes\":{\"callback\":null,\"data\":{\"x\":[50,51,52,53,54,55,56,57,58,59,60,61,62,63,64,65,66,67,68,69,70,71,72,73,74,75,76,77,78,79,80,81,82,83,84,85,86,87,88,89,90,91,92,93,94,95,96,97,98,99,100,101,102,103,104,105,106,107,108,109,110,111,112,113,114,115,116,117,118,119,120,121,122,123,124,125,126,127,128,129,130,131,132,133,134,135,136,137,138,139,140,141,142,143,144,145,146,147,148,149,150,151,152,153,154,155,156,157,158,159,160,161,162,163,164,165,166,167,168,169,170,171,172,173,174,175,176,177,178,179,180,181,182,183,184,185,186,187,188,189,190,191,192,193,194,195,196,197,198,199],\"y\":[48.0,51.0,53.0,55.0,58.0,60.0,62.0,65.0,67.0,69.0,72.0,74.0,76.0,79.0,81.0,83.0,85.0,88.0,90.0,92.0,94.0,96.0,98.0,101.0,103.0,105.0,107.0,109.0,111.0,113.0,115.0,117.0,119.0,121.0,123.0,125.0,127.0,129.0,131.0,133.0,135.0,137.0,139.0,141.0,143.0,144.0,146.0,148.0,150.0,152.0,153.0,155.0,157.0,159.0,160.0,162.0,164.0,165.0,167.0,169.0,170.0,172.0,173.0,175.0,176.0,178.0,179.0,181.0,182.0,184.0,185.0,186.0,188.0,189.0,190.0,192.0,193.0,194.0,196.0,197.0,198.0,199.0,200.0,201.0,202.0,203.0,205.0,206.0,207.0,208.0,209.0,210.0,211.0,211.0,212.0,213.0,214.0,215.0,216.0,217.0,217.0,218.0,219.0,220.0,220.0,221.0,222.0,223.0,223.0,224.0,225.0,225.0,226.0,227.0,227.0,228.0,228.0,229.0,229.0,230.0,230.0,231.0,231.0,232.0,232.0,233.0,233.0,233.0,234.0,234.0,235.0,235.0,235.0,236.0,236.0,236.0,237.0,237.0,237.0,237.0,238.0,238.0,238.0,238.0,239.0,239.0,239.0,239.0,240.0,240.0]},\"selected\":{\"id\":\"29521\",\"type\":\"Selection\"},\"selection_policy\":{\"id\":\"29522\",\"type\":\"UnionRenderers\"}},\"id\":\"28575\",\"type\":\"ColumnDataSource\"},{\"attributes\":{\"overlay\":{\"id\":\"28568\",\"type\":\"BoxAnnotation\"}},\"id\":\"28562\",\"type\":\"BoxZoomTool\"},{\"attributes\":{\"dimension\":1,\"plot\":{\"id\":\"28541\",\"subtype\":\"Figure\",\"type\":\"Plot\"},\"ticker\":{\"id\":\"28556\",\"type\":\"BasicTicker\"},\"visible\":false},\"id\":\"28559\",\"type\":\"Grid\"},{\"attributes\":{\"background_fill_alpha\":{\"value\":0.4},\"background_fill_color\":{\"value\":\"lightgrey\"},\"plot\":{\"id\":\"28541\",\"subtype\":\"Figure\",\"type\":\"Plot\"},\"text\":\"500\",\"text_font_size\":{\"value\":\"8pt\"},\"x\":20,\"x_units\":\"screen\",\"y\":140,\"y_units\":\"screen\"},\"id\":\"28624\",\"type\":\"Label\"},{\"attributes\":{},\"id\":\"28563\",\"type\":\"SaveTool\"},{\"attributes\":{},\"id\":\"28561\",\"type\":\"WheelZoomTool\"},{\"attributes\":{\"background_fill_alpha\":{\"value\":0.4},\"background_fill_color\":{\"value\":\"lightgrey\"},\"border_line_color\":{\"value\":\"black\"},\"plot\":{\"id\":\"28541\",\"subtype\":\"Figure\",\"type\":\"Plot\"},\"text\":\"Time\",\"text_font_size\":{\"value\":\"8pt\"},\"x\":20,\"x_units\":\"screen\",\"y\":180,\"y_units\":\"screen\"},\"id\":\"28623\",\"type\":\"Label\"},{\"attributes\":{},\"id\":\"28560\",\"type\":\"PanTool\"},{\"attributes\":{},\"id\":\"28565\",\"type\":\"HelpTool\"},{\"attributes\":{},\"id\":\"28564\",\"type\":\"ResetTool\"},{\"attributes\":{},\"id\":\"28556\",\"type\":\"BasicTicker\"},{\"attributes\":{},\"id\":\"29528\",\"type\":\"UnionRenderers\"},{\"attributes\":{\"background_fill_alpha\":{\"value\":0.4},\"background_fill_color\":{\"value\":\"lightgrey\"},\"plot\":{\"id\":\"28541\",\"subtype\":\"Figure\",\"type\":\"Plot\"},\"text\":\"1000\",\"text_font_size\":{\"value\":\"8pt\"},\"x\":20,\"x_units\":\"screen\",\"y\":125,\"y_units\":\"screen\"},\"id\":\"28625\",\"type\":\"Label\"},{\"attributes\":{\"source\":{\"id\":\"28605\",\"type\":\"ColumnDataSource\"}},\"id\":\"28610\",\"type\":\"CDSView\"},{\"attributes\":{\"callback\":null,\"data\":{\"x\":[50,51,52,53,54,55,56,57,58,59,60,61,62,63,64,65,66,67,68,69,70,71,72,73,74,75,76,77,78,79,80,81,82,83,84,85,86,87,88,89,90,91,92,93,94,95,96,97,98,99,100,101,102,103,104,105,106,107,108,109,110,111,112,113,114,115,116,117,118,119,120,121,122,123,124,125,126,127,128,129,130,131,132,133,134,135,136,137,138,139,140,141,142,143,144,145,146,147,148,149,150,151,152,153,154,155,156,157,158,159,160,161,162,163,164,165,166,167,168,169,170,171,172,173,174,175,176,177,178,179,180,181,182,183,184,185,186,187,188,189,190,191,192,193,194,195,196,197,198,199],\"y\":[-354.0,-346.0,-339.0,-331.0,-324.0,-316.0,-309.0,-301.0,-294.0,-287.0,-279.0,-272.0,-265.0,-258.0,-251.0,-244.0,-237.0,-230.0,-223.0,-216.0,-209.0,-202.0,-195.0,-189.0,-182.0,-175.0,-169.0,-162.0,-156.0,-149.0,-143.0,-136.0,-130.0,-124.0,-117.0,-111.0,-105.0,-99.0,-93.0,-87.0,-81.0,-75.0,-69.0,-63.0,-57.0,-52.0,-46.0,-41.0,-35.0,-30.0,-24.0,-19.0,-14.0,-8.0,-3.0,2.0,7.0,12.0,17.0,22.0,27.0,32.0,37.0,41.0,46.0,50.0,55.0,59.0,63.0,68.0,72.0,76.0,80.0,84.0,88.0,92.0,96.0,99.0,103.0,106.0,110.0,113.0,117.0,120.0,123.0,127.0,130.0,133.0,136.0,139.0,142.0,145.0,147.0,150.0,153.0,155.0,158.0,161.0,163.0,166.0,168.0,170.0,173.0,175.0,177.0,179.0,181.0,183.0,185.0,187.0,189.0,191.0,193.0,195.0,197.0,198.0,200.0,202.0,203.0,205.0,206.0,208.0,209.0,210.0,212.0,213.0,214.0,215.0,216.0,218.0,219.0,220.0,221.0,222.0,223.0,224.0,225.0,225.0,226.0,227.0,228.0,229.0,229.0,230.0,231.0,231.0,232.0,233.0,233.0,234.0]},\"selected\":{\"id\":\"29533\",\"type\":\"Selection\"},\"selection_policy\":{\"id\":\"29534\",\"type\":\"UnionRenderers\"}},\"id\":\"28611\",\"type\":\"ColumnDataSource\"},{\"attributes\":{\"line_dash\":[6],\"line_width\":2,\"x\":{\"field\":\"x\"},\"y\":{\"field\":\"y\"}},\"id\":\"28613\",\"type\":\"Line\"},{\"attributes\":{\"data_source\":{\"id\":\"28611\",\"type\":\"ColumnDataSource\"},\"glyph\":{\"id\":\"28613\",\"type\":\"Line\"},\"hover_glyph\":null,\"muted_glyph\":null,\"nonselection_glyph\":{\"id\":\"28614\",\"type\":\"Line\"},\"selection_glyph\":null,\"view\":{\"id\":\"28616\",\"type\":\"CDSView\"}},\"id\":\"28615\",\"type\":\"GlyphRenderer\"},{\"attributes\":{\"callback\":null,\"data\":{\"x\":[50,51,52,53,54,55,56,57,58,59,60,61,62,63,64,65,66,67,68,69,70,71,72,73,74,75,76,77,78,79,80,81,82,83,84,85,86,87,88,89,90,91,92,93,94,95,96,97,98,99,100,101,102,103,104,105,106,107,108,109,110,111,112,113,114,115,116,117,118,119,120,121,122,123,124,125,126,127,128,129,130,131,132,133,134,135,136,137,138,139,140,141,142,143,144,145,146,147,148,149,150,151,152,153,154,155,156,157,158,159,160,161,162,163,164,165,166,167,168,169,170,171,172,173,174,175,176,177,178,179,180,181,182,183,184,185,186,187,188,189,190,191,192,193,194,195,196,197,198,199],\"y\":[52.0,54.0,57.0,59.0,62.0,64.0,67.0,69.0,72.0,75.0,77.0,80.0,82.0,84.0,87.0,89.0,92.0,94.0,97.0,99.0,102.0,104.0,107.0,109.0,112.0,114.0,117.0,119.0,121.0,124.0,126.0,129.0,131.0,134.0,136.0,138.0,141.0,143.0,146.0,148.0,150.0,153.0,155.0,158.0,160.0,162.0,165.0,167.0,169.0,172.0,174.0,176.0,179.0,181.0,183.0,186.0,188.0,190.0,192.0,195.0,197.0,199.0,201.0,204.0,206.0,208.0,210.0,213.0,215.0,217.0,219.0,221.0,224.0,226.0,228.0,230.0,232.0,234.0,236.0,239.0,241.0,239.0,237.0,235.0,232.0,229.0,226.0,224.0,221.0,218.0,215.0,212.0,209.0,207.0,204.0,201.0,198.0,196.0,193.0,190.0,187.0,185.0,182.0,179.0,177.0,174.0,172.0,169.0,166.0,164.0,161.0,159.0,156.0,154.0,151.0,149.0,146.0,144.0,141.0,139.0,136.0,134.0,132.0,129.0,127.0,124.0,122.0,120.0,117.0,115.0,113.0,110.0,108.0,106.0,104.0,101.0,99.0,97.0,95.0,93.0,91.0,88.0,86.0,84.0,82.0,80.0,78.0,76.0,74.0,72.0]},\"selected\":{\"id\":\"29523\",\"type\":\"Selection\"},\"selection_policy\":{\"id\":\"29524\",\"type\":\"UnionRenderers\"}},\"id\":\"28581\",\"type\":\"ColumnDataSource\"},{\"attributes\":{\"line_alpha\":0.1,\"line_color\":\"#1f77b4\",\"line_dash\":[6],\"line_width\":2,\"x\":{\"field\":\"x\"},\"y\":{\"field\":\"y\"}},\"id\":\"28614\",\"type\":\"Line\"},{\"attributes\":{\"source\":{\"id\":\"28575\",\"type\":\"ColumnDataSource\"}},\"id\":\"28580\",\"type\":\"CDSView\"},{\"attributes\":{\"line_alpha\":0.1,\"line_color\":\"#1f77b4\",\"line_width\":2,\"x\":{\"field\":\"x\"},\"y\":{\"field\":\"y\"}},\"id\":\"28620\",\"type\":\"Line\"},{\"attributes\":{\"data_source\":{\"id\":\"28581\",\"type\":\"ColumnDataSource\"},\"glyph\":{\"id\":\"28583\",\"type\":\"Line\"},\"hover_glyph\":null,\"muted_glyph\":null,\"nonselection_glyph\":{\"id\":\"28584\",\"type\":\"Line\"},\"selection_glyph\":null,\"view\":{\"id\":\"28586\",\"type\":\"CDSView\"}},\"id\":\"28585\",\"type\":\"GlyphRenderer\"},{\"attributes\":{},\"id\":\"29521\",\"type\":\"Selection\"},{\"attributes\":{\"callback\":null,\"data\":{\"x\":[50,51,52,53,54,55,56,57,58,59,60,61,62,63,64,65,66,67,68,69,70,71,72,73,74,75,76,77,78,79,80,81,82,83,84,85,86,87,88,89,90,91,92,93,94,95,96,97,98,99,100,101,102,103,104,105,106,107,108,109,110,111,112,113,114,115,116,117,118,119,120,121,122,123,124,125,126,127,128,129,130,131,132,133,134,135,136,137,138,139,140,141,142,143,144,145,146,147,148,149,150,151,152,153,154,155,156,157,158,159,160,161,162,163,164,165,166,167,168,169,170,171,172,173,174,175,176,177,178,179,180,181,182,183,184,185,186,187,188,189,190,191,192,193,194,195,196,197,198,199],\"y\":[-346.0,-338.0,-330.0,-322.0,-314.0,-306.0,-298.0,-290.0,-282.0,-274.0,-266.0,-258.0,-250.0,-242.0,-234.0,-226.0,-219.0,-211.0,-203.0,-195.0,-187.0,-180.0,-172.0,-164.0,-156.0,-148.0,-141.0,-133.0,-125.0,-118.0,-110.0,-102.0,-95.0,-87.0,-80.0,-72.0,-64.0,-57.0,-49.0,-42.0,-34.0,-27.0,-19.0,-12.0,-5.0,3.0,10.0,18.0,25.0,32.0,40.0,47.0,54.0,61.0,68.0,76.0,83.0,90.0,97.0,104.0,111.0,118.0,125.0,132.0,139.0,146.0,153.0,160.0,167.0,174.0,181.0,187.0,194.0,201.0,208.0,214.0,221.0,228.0,234.0,239.0,234.0,227.0,220.0,212.0,205.0,198.0,191.0,184.0,176.0,169.0,162.0,155.0,148.0,141.0,134.0,127.0,120.0,114.0,107.0,100.0,93.0,87.0,80.0,73.0,67.0,60.0,54.0,47.0,41.0,34.0,28.0,22.0,15.0,9.0,3.0,-3.0,-9.0,-15.0,-22.0,-28.0,-34.0,-40.0,-46.0,-51.0,-57.0,-63.0,-69.0,-75.0,-81.0,-86.0,-92.0,-98.0,-103.0,-109.0,-114.0,-120.0,-125.0,-130.0,-136.0,-141.0,-146.0,-151.0,-157.0,-162.0,-167.0,-172.0,-177.0,-182.0,-186.0,-191.0]},\"selected\":{\"id\":\"29535\",\"type\":\"Selection\"},\"selection_policy\":{\"id\":\"29536\",\"type\":\"UnionRenderers\"}},\"id\":\"28617\",\"type\":\"ColumnDataSource\"},{\"attributes\":{\"line_alpha\":0.8,\"line_width\":2,\"x\":{\"field\":\"x\"},\"y\":{\"field\":\"y\"}},\"id\":\"28607\",\"type\":\"Line\"},{\"attributes\":{},\"id\":\"29522\",\"type\":\"UnionRenderers\"},{\"attributes\":{\"line_alpha\":0.8,\"line_width\":2,\"x\":{\"field\":\"x\"},\"y\":{\"field\":\"y\"}},\"id\":\"28583\",\"type\":\"Line\"},{\"attributes\":{\"source\":{\"id\":\"28611\",\"type\":\"ColumnDataSource\"}},\"id\":\"28616\",\"type\":\"CDSView\"},{\"attributes\":{\"data_source\":{\"id\":\"28617\",\"type\":\"ColumnDataSource\"},\"glyph\":{\"id\":\"28619\",\"type\":\"Line\"},\"hover_glyph\":null,\"muted_glyph\":null,\"nonselection_glyph\":{\"id\":\"28620\",\"type\":\"Line\"},\"selection_glyph\":null,\"view\":{\"id\":\"28622\",\"type\":\"CDSView\"}},\"id\":\"28621\",\"type\":\"GlyphRenderer\"},{\"attributes\":{\"source\":{\"id\":\"28617\",\"type\":\"ColumnDataSource\"}},\"id\":\"28622\",\"type\":\"CDSView\"},{\"attributes\":{\"line_alpha\":0.1,\"line_color\":\"#1f77b4\",\"line_width\":2,\"x\":{\"field\":\"x\"},\"y\":{\"field\":\"y\"}},\"id\":\"28584\",\"type\":\"Line\"},{\"attributes\":{\"line_alpha\":0.1,\"line_color\":\"#1f77b4\",\"line_dash\":[6],\"line_width\":2,\"x\":{\"field\":\"x\"},\"y\":{\"field\":\"y\"}},\"id\":\"28578\",\"type\":\"Line\"},{\"attributes\":{},\"id\":\"29527\",\"type\":\"Selection\"},{\"attributes\":{\"line_alpha\":0.8,\"line_width\":2,\"x\":{\"field\":\"x\"},\"y\":{\"field\":\"y\"}},\"id\":\"28619\",\"type\":\"Line\"},{\"attributes\":{\"data_source\":{\"id\":\"28575\",\"type\":\"ColumnDataSource\"},\"glyph\":{\"id\":\"28577\",\"type\":\"Line\"},\"hover_glyph\":null,\"muted_glyph\":null,\"nonselection_glyph\":{\"id\":\"28578\",\"type\":\"Line\"},\"selection_glyph\":null,\"view\":{\"id\":\"28580\",\"type\":\"CDSView\"}},\"id\":\"28579\",\"type\":\"GlyphRenderer\"},{\"attributes\":{},\"id\":\"29526\",\"type\":\"UnionRenderers\"},{\"attributes\":{\"data_source\":{\"id\":\"28605\",\"type\":\"ColumnDataSource\"},\"glyph\":{\"id\":\"28607\",\"type\":\"Line\"},\"hover_glyph\":null,\"muted_glyph\":null,\"nonselection_glyph\":{\"id\":\"28608\",\"type\":\"Line\"},\"selection_glyph\":null,\"view\":{\"id\":\"28610\",\"type\":\"CDSView\"}},\"id\":\"28609\",\"type\":\"GlyphRenderer\"},{\"attributes\":{\"callback\":null,\"data\":{\"x\":[50,51,52,53,54,55,56,57,58,59,60,61,62,63,64,65,66,67,68,69,70,71,72,73,74,75,76,77,78,79,80,81,82,83,84,85,86,87,88,89,90,91,92,93,94,95,96,97,98,99,100,101,102,103,104,105,106,107,108,109,110,111,112,113,114,115,116,117,118,119,120,121,122,123,124,125,126,127,128,129,130,131,132,133,134,135,136,137,138,139,140,141,142,143,144,145,146,147,148,149,150,151,152,153,154,155,156,157,158,159,160,161,162,163,164,165,166,167,168,169,170,171,172,173,174,175,176,177,178,179,180,181,182,183,184,185,186,187,188,189,190,191,192,193,194,195,196,197,198,199],\"y\":[11.0,14.0,17.0,20.0,23.0,26.0,29.0,32.0,34.0,37.0,40.0,43.0,46.0,49.0,51.0,54.0,57.0,60.0,63.0,65.0,68.0,71.0,74.0,76.0,79.0,82.0,84.0,87.0,89.0,92.0,95.0,97.0,100.0,102.0,105.0,107.0,110.0,112.0,114.0,117.0,119.0,121.0,124.0,126.0,128.0,131.0,133.0,135.0,137.0,139.0,141.0,143.0,146.0,148.0,150.0,152.0,154.0,156.0,157.0,159.0,161.0,163.0,165.0,166.0,168.0,170.0,171.0,173.0,175.0,176.0,178.0,179.0,181.0,183.0,184.0,185.0,187.0,188.0,190.0,191.0,192.0,194.0,195.0,196.0,197.0,198.0,200.0,201.0,202.0,203.0,204.0,205.0,206.0,208.0,209.0,210.0,210.0,211.0,212.0,213.0,214.0,215.0,216.0,217.0,218.0,218.0,219.0,220.0,221.0,221.0,222.0,223.0,223.0,224.0,225.0,225.0,226.0,227.0,227.0,228.0,228.0,229.0,229.0,230.0,230.0,230.0,231.0,231.0,232.0,232.0,232.0,233.0,233.0,233.0,234.0,234.0,234.0,234.0,235.0,235.0,235.0,235.0,236.0,236.0,236.0,236.0,237.0,237.0,237.0,237.0]},\"selected\":{\"id\":\"29525\",\"type\":\"Selection\"},\"selection_policy\":{\"id\":\"29526\",\"type\":\"UnionRenderers\"}},\"id\":\"28587\",\"type\":\"ColumnDataSource\"},{\"attributes\":{\"line_dash\":[6],\"line_width\":2,\"x\":{\"field\":\"x\"},\"y\":{\"field\":\"y\"}},\"id\":\"28589\",\"type\":\"Line\"},{\"attributes\":{\"source\":{\"id\":\"28581\",\"type\":\"ColumnDataSource\"}},\"id\":\"28586\",\"type\":\"CDSView\"},{\"attributes\":{\"callback\":null,\"data\":{\"x\":[50,51,52,53,54,55,56,57,58,59,60,61,62,63,64,65,66,67,68,69,70,71,72,73,74,75,76,77,78,79,80,81,82,83,84,85,86,87,88,89,90,91,92,93,94,95,96,97,98,99,100,101,102,103,104,105,106,107,108,109,110,111,112,113,114,115,116,117,118,119,120,121,122,123,124,125,126,127,128,129,130,131,132,133,134,135,136,137,138,139,140,141,142,143,144,145,146,147,148,149,150,151,152,153,154,155,156,157,158,159,160,161,162,163,164,165,166,167,168,169,170,171,172,173,174,175,176,177,178,179,180,181,182,183,184,185,186,187,188,189,190,191,192,193,194,195,196,197,198,199],\"y\":[14.0,17.0,21.0,24.0,27.0,30.0,33.0,36.0,39.0,42.0,46.0,49.0,52.0,55.0,58.0,61.0,64.0,67.0,70.0,73.0,76.0,79.0,82.0,85.0,88.0,91.0,94.0,97.0,100.0,103.0,106.0,109.0,112.0,115.0,118.0,121.0,124.0,127.0,130.0,133.0,136.0,139.0,141.0,144.0,147.0,150.0,153.0,156.0,159.0,162.0,164.0,167.0,170.0,173.0,176.0,179.0,181.0,184.0,187.0,190.0,193.0,195.0,198.0,201.0,204.0,206.0,209.0,212.0,215.0,217.0,220.0,223.0,225.0,228.0,230.0,233.0,234.0,236.0,237.0,235.0,232.0,228.0,225.0,221.0,218.0,215.0,211.0,208.0,205.0,202.0,198.0,195.0,192.0,189.0,186.0,182.0,179.0,176.0,173.0,170.0,167.0,164.0,161.0,158.0,155.0,152.0,149.0,146.0,143.0,140.0,137.0,134.0,131.0,128.0,125.0,123.0,120.0,117.0,114.0,111.0,109.0,106.0,103.0,101.0,98.0,95.0,93.0,90.0,88.0,85.0,83.0,80.0,78.0,75.0,73.0,70.0,68.0,66.0,63.0,61.0,59.0,56.0,54.0,52.0,50.0,48.0,45.0,43.0,41.0,39.0]},\"selected\":{\"id\":\"29527\",\"type\":\"Selection\"},\"selection_policy\":{\"id\":\"29528\",\"type\":\"UnionRenderers\"}},\"id\":\"28593\",\"type\":\"ColumnDataSource\"},{\"attributes\":{\"callback\":null,\"data\":{\"x\":[50,51,52,53,54,55,56,57,58,59,60,61,62,63,64,65,66,67,68,69,70,71,72,73,74,75,76,77,78,79,80,81,82,83,84,85,86,87,88,89,90,91,92,93,94,95,96,97,98,99,100,101,102,103,104,105,106,107,108,109,110,111,112,113,114,115,116,117,118,119,120,121,122,123,124,125,126,127,128,129,130,131,132,133,134,135,136,137,138,139,140,141,142,143,144,145,146,147,148,149,150,151,152,153,154,155,156,157,158,159,160,161,162,163,164,165,166,167,168,169,170,171,172,173,174,175,176,177,178,179,180,181,182,183,184,185,186,187,188,189,190,191,192,193,194,195,196,197,198,199],\"y\":[-32.0,-28.0,-25.0,-21.0,-17.0,-13.0,-10.0,-6.0,-2.0,1.0,5.0,9.0,12.0,16.0,20.0,23.0,27.0,31.0,34.0,38.0,42.0,45.0,49.0,53.0,56.0,60.0,64.0,67.0,71.0,74.0,78.0,82.0,85.0,89.0,92.0,96.0,99.0,103.0,107.0,110.0,114.0,117.0,121.0,124.0,128.0,131.0,134.0,138.0,141.0,145.0,148.0,152.0,155.0,158.0,162.0,165.0,168.0,172.0,175.0,178.0,182.0,185.0,188.0,192.0,195.0,198.0,201.0,205.0,208.0,211.0,214.0,218.0,221.0,224.0,227.0,230.0,233.0,236.0,236.0,232.0,228.0,224.0,221.0,217.0,213.0,209.0,205.0,202.0,198.0,194.0,190.0,187.0,183.0,179.0,176.0,172.0,168.0,165.0,161.0,158.0,154.0,151.0,147.0,144.0,140.0,137.0,133.0,130.0,127.0,123.0,120.0,117.0,113.0,110.0,107.0,104.0,100.0,97.0,94.0,91.0,88.0,85.0,82.0,79.0,75.0,72.0,69.0,66.0,63.0,60.0,57.0,55.0,52.0,49.0,46.0,43.0,40.0,37.0,35.0,32.0,29.0,26.0,24.0,21.0,18.0,16.0,13.0,11.0,8.0,5.0]},\"selected\":{\"id\":\"29531\",\"type\":\"Selection\"},\"selection_policy\":{\"id\":\"29532\",\"type\":\"UnionRenderers\"}},\"id\":\"28605\",\"type\":\"ColumnDataSource\"},{\"attributes\":{\"line_alpha\":0.1,\"line_color\":\"#1f77b4\",\"line_width\":2,\"x\":{\"field\":\"x\"},\"y\":{\"field\":\"y\"}},\"id\":\"28608\",\"type\":\"Line\"},{\"attributes\":{\"source\":{\"id\":\"28587\",\"type\":\"ColumnDataSource\"}},\"id\":\"28592\",\"type\":\"CDSView\"},{\"attributes\":{\"callback\":null,\"data\":{\"x\":[50,51,52,53,54,55,56,57,58,59,60,61,62,63,64,65,66,67,68,69,70,71,72,73,74,75,76,77,78,79,80,81,82,83,84,85,86,87,88,89,90,91,92,93,94,95,96,97,98,99,100,101,102,103,104,105,106,107,108,109,110,111,112,113,114,115,116,117,118,119,120,121,122,123,124,125,126,127,128,129,130,131,132,133,134,135,136,137,138,139,140,141,142,143,144,145,146,147,148,149,150,151,152,153,154,155,156,157,158,159,160,161,162,163,164,165,166,167,168,169,170,171,172,173,174,175,176,177,178,179,180,181,182,183,184,185,186,187,188,189,190,191,192,193,194,195,196,197,198,199],\"y\":[-35.0,-32.0,-28.0,-25.0,-21.0,-18.0,-14.0,-11.0,-7.0,-4.0,-1.0,3.0,6.0,10.0,13.0,16.0,20.0,23.0,26.0,30.0,33.0,36.0,39.0,43.0,46.0,49.0,52.0,55.0,58.0,61.0,64.0,67.0,70.0,73.0,76.0,79.0,82.0,85.0,88.0,91.0,94.0,96.0,99.0,102.0,105.0,107.0,110.0,112.0,115.0,118.0,120.0,123.0,125.0,127.0,130.0,132.0,135.0,137.0,139.0,142.0,144.0,146.0,148.0,151.0,153.0,155.0,157.0,159.0,161.0,163.0,165.0,167.0,169.0,171.0,172.0,174.0,176.0,178.0,179.0,181.0,183.0,184.0,186.0,187.0,188.0,190.0,191.0,193.0,194.0,195.0,197.0,198.0,199.0,200.0,202.0,203.0,204.0,205.0,206.0,207.0,208.0,209.0,210.0,211.0,212.0,213.0,214.0,215.0,215.0,216.0,217.0,218.0,219.0,219.0,220.0,221.0,221.0,222.0,223.0,224.0,224.0,225.0,225.0,226.0,227.0,227.0,228.0,228.0,229.0,229.0,230.0,230.0,231.0,231.0,232.0,232.0,232.0,233.0,233.0,233.0,234.0,234.0,234.0,234.0,235.0,235.0,235.0,235.0,236.0,236.0]},\"selected\":{\"id\":\"29529\",\"type\":\"Selection\"},\"selection_policy\":{\"id\":\"29530\",\"type\":\"UnionRenderers\"}},\"id\":\"28599\",\"type\":\"ColumnDataSource\"},{\"attributes\":{\"data_source\":{\"id\":\"28587\",\"type\":\"ColumnDataSource\"},\"glyph\":{\"id\":\"28589\",\"type\":\"Line\"},\"hover_glyph\":null,\"muted_glyph\":null,\"nonselection_glyph\":{\"id\":\"28590\",\"type\":\"Line\"},\"selection_glyph\":null,\"view\":{\"id\":\"28592\",\"type\":\"CDSView\"}},\"id\":\"28591\",\"type\":\"GlyphRenderer\"},{\"attributes\":{\"line_alpha\":0.1,\"line_color\":\"#1f77b4\",\"line_dash\":[6],\"line_width\":2,\"x\":{\"field\":\"x\"},\"y\":{\"field\":\"y\"}},\"id\":\"28590\",\"type\":\"Line\"},{\"attributes\":{},\"id\":\"29525\",\"type\":\"Selection\"},{\"attributes\":{},\"id\":\"29523\",\"type\":\"Selection\"},{\"attributes\":{\"line_alpha\":0.8,\"line_width\":2,\"x\":{\"field\":\"x\"},\"y\":{\"field\":\"y\"}},\"id\":\"28595\",\"type\":\"Line\"},{\"attributes\":{\"line_alpha\":0.1,\"line_color\":\"#1f77b4\",\"line_width\":2,\"x\":{\"field\":\"x\"},\"y\":{\"field\":\"y\"}},\"id\":\"28596\",\"type\":\"Line\"},{\"attributes\":{\"source\":{\"id\":\"28593\",\"type\":\"ColumnDataSource\"}},\"id\":\"28598\",\"type\":\"CDSView\"},{\"attributes\":{\"source\":{\"id\":\"28599\",\"type\":\"ColumnDataSource\"}},\"id\":\"28604\",\"type\":\"CDSView\"},{\"attributes\":{\"line_alpha\":0.1,\"line_color\":\"#1f77b4\",\"line_dash\":[6],\"line_width\":2,\"x\":{\"field\":\"x\"},\"y\":{\"field\":\"y\"}},\"id\":\"28602\",\"type\":\"Line\"},{\"attributes\":{\"data_source\":{\"id\":\"28593\",\"type\":\"ColumnDataSource\"},\"glyph\":{\"id\":\"28595\",\"type\":\"Line\"},\"hover_glyph\":null,\"muted_glyph\":null,\"nonselection_glyph\":{\"id\":\"28596\",\"type\":\"Line\"},\"selection_glyph\":null,\"view\":{\"id\":\"28598\",\"type\":\"CDSView\"}},\"id\":\"28597\",\"type\":\"GlyphRenderer\"},{\"attributes\":{},\"id\":\"29524\",\"type\":\"UnionRenderers\"},{\"attributes\":{\"line_dash\":[6],\"line_width\":2,\"x\":{\"field\":\"x\"},\"y\":{\"field\":\"y\"}},\"id\":\"28601\",\"type\":\"Line\"},{\"attributes\":{\"data_source\":{\"id\":\"28599\",\"type\":\"ColumnDataSource\"},\"glyph\":{\"id\":\"28601\",\"type\":\"Line\"},\"hover_glyph\":null,\"muted_glyph\":null,\"nonselection_glyph\":{\"id\":\"28602\",\"type\":\"Line\"},\"selection_glyph\":null,\"view\":{\"id\":\"28604\",\"type\":\"CDSView\"}},\"id\":\"28603\",\"type\":\"GlyphRenderer\"}],\"root_ids\":[\"28541\"]},\"title\":\"Bokeh Application\",\"version\":\"1.0.4\"}};\n  var render_items = [{\"docid\":\"24a4ee38-1c99-446b-9b28-e33330ab1080\",\"roots\":{\"28541\":\"fd90dc55-16c4-441c-b9bc-041cf4c71c40\"}}];\n  root.Bokeh.embed.embed_items_notebook(docs_json, render_items);\n\n  }\n  if (root.Bokeh !== undefined) {\n    embed_document(root);\n  } else {\n    var attempts = 0;\n    var timer = setInterval(function(root) {\n      if (root.Bokeh !== undefined) {\n        embed_document(root);\n        clearInterval(timer);\n      }\n      attempts++;\n      if (attempts > 100) {\n        console.log(\"Bokeh: ERROR: Unable to run BokehJS code because BokehJS library is missing\");\n        clearInterval(timer);\n      }\n    }, 10, root)\n  }\n})(window);",
      "application/vnd.bokehjs_exec.v0+json": ""
     },
     "metadata": {
      "application/vnd.bokehjs_exec.v0+json": {
       "id": "28541"
      }
     },
     "output_type": "display_data"
    }
   ],
   "source": [
    "item = 4\n",
    "consider_minmax = 1\n",
    "y_min = -400\n",
    "y_max = 301\n",
    "%run Bokeh_Combined_Iterations.ipynb"
   ]
  },
  {
   "cell_type": "code",
   "execution_count": null,
   "metadata": {},
   "outputs": [],
   "source": [
    "sample_size = 1000"
   ]
  },
  {
   "cell_type": "code",
   "execution_count": null,
   "metadata": {},
   "outputs": [],
   "source": []
  },
  {
   "cell_type": "markdown",
   "metadata": {},
   "source": [
    "#### tanh(gamma)\n",
    "\n",
    "- Gamma $\\in$ \\[0,infinity). By getting the tanh(gamma): tanh(gamma) $\\in$ [0,1)"
   ]
  },
  {
   "cell_type": "code",
   "execution_count": 101,
   "metadata": {},
   "outputs": [
    {
     "data": {
      "image/png": "[encoded data removed]",
      "text/plain": [
       "<Figure size 432x288 with 1 Axes>"
      ]
     },
     "metadata": {},
     "output_type": "display_data"
    }
   ],
   "source": [
    "tan_gamma = np.tanh(gamma)\n",
    "plt.plot(tan_gamma, fr_1_arr)\n",
    "plt.xlabel(\"tanh(Entanglement)\")\n",
    "plt.ylabel(\"Fill Rate\")\n",
    "plt.show()"
   ]
  },
  {
   "cell_type": "markdown",
   "metadata": {},
   "source": [
    "#### Adaptive Gamma\n",
    "\n",
    "- In this section, we keep the gamma for player 2 as a constant value and then change the gamma of the player1 based on the ratio of past shortage cost by holding cost."
   ]
  },
  {
   "cell_type": "code",
   "execution_count": 54,
   "metadata": {},
   "outputs": [],
   "source": [
    "def adaptive_origin(ent):\n",
    "    #policy_selected='L'\n",
    "\n",
    "    \n",
    "    q1_quant = [0]*sample_size\n",
    "    g1_quant = [0]*sample_size\n",
    "    g2_quant = [0]*sample_size\n",
    "    holding1 = [0]*sample_size\n",
    "    holding2 = [0]*sample_size\n",
    "    shortage1 = [0]*sample_size\n",
    "    shortage2 = [0]*sample_size\n",
    "    \n",
    "    q2_quant = d2*np.cosh(ent)+d1*np.sinh(ent)\n",
    "    \n",
    "    for cc in range(sample_size):\n",
    "        if cc < 31:\n",
    "            q1_quant[cc] = d1[cc]*np.cosh(ent)+d2[cc]*np.sinh(ent)\n",
    "            \n",
    "            if policy_selected=='P':\n",
    "                g1_quant[cc] = proportional(q1_quant[cc],q2_quant[cc])\n",
    "                g2_quant[cc] = proportional(q2_quant[cc],q1_quant[cc])\n",
    "\n",
    "            if policy_selected=='L':\n",
    "                g1_quant[cc] = linear(q1_quant[cc],q2_quant[cc])[0]\n",
    "                g2_quant[cc] = linear(q1_quant[cc],q2_quant[cc])[1]\n",
    "\n",
    "            if policy_selected=='U':\n",
    "                g1_quant[cc] = uniform(q1_quant[cc],q2_quant[cc])[0]\n",
    "                g2_quant[cc] = uniform(q1_quant[cc],q2_quant[cc])[1]\n",
    "\n",
    "            if policy_selected=='R':\n",
    "                g1_quant[cc] = relaxed_linear(q1_quant[cc],q2_quant[cc])[0]\n",
    "                g2_quant[cc] = relaxed_linear(q1_quant[cc],q2_quant[cc])[1]\n",
    "\n",
    "            if policy_selected=='Lx':\n",
    "                g1_quant[cc] = lexicographic(q1_quant[cc],q2_quant[cc])[0]\n",
    "                g2_quant[cc] = lexicographic(q1_quant[cc],q2_quant[cc])[1]\n",
    "\n",
    "        else:\n",
    "            \n",
    "            balance1=g1_quant - d1\n",
    "            holding1 = [sum(balance1[:j+1]) if sum(balance1[:j+1]) > 0 else 0 for j in range(cc)]\n",
    "            shortage1 = [sum(balance1[:j+1]) if sum(balance1[:j+1]) < 0 else 0 for j in range(cc)] #Not LOST Sales\n",
    "            holding1_avr = sum(holding1)/cc\n",
    "            shortage1_avr = -1*sum(shortage1)/cc\n",
    "            \n",
    "            if holding1_avr == 0:\n",
    "                correct = 1\n",
    "            else:\n",
    "                correct = (shortage1_avr * s) / (holding1_avr * h)\n",
    "            \n",
    "                \n",
    "            adaptive_ent = ent * correct\n",
    "            #print(correct)\n",
    "            \n",
    "            if adaptive_ent > np.pi/3:\n",
    "                adaptive_ent = np.pi/3\n",
    "            \n",
    "            \n",
    "            q1_quant[cc] = d1[cc]*np.cosh(adaptive_ent)+d2[cc]*np.sinh(adaptive_ent)\n",
    "            \n",
    "                        \n",
    "            if policy_selected=='P':\n",
    "                g1_quant[cc] = proportional(q1_quant[cc],q2_quant[cc])\n",
    "                g2_quant[cc] = proportional(q2_quant[cc],q1_quant[cc])\n",
    "\n",
    "            if policy_selected=='L':\n",
    "                g1_quant[cc] = linear(q1_quant[cc],q2_quant[cc])[0]\n",
    "                g2_quant[cc] = linear(q1_quant[cc],q2_quant[cc])[1]\n",
    "\n",
    "            if policy_selected=='U':\n",
    "                g1_quant[cc] = uniform(q1_quant[cc],q2_quant[cc])[0]\n",
    "                g2_quant[cc] = uniform(q1_quant[cc],q2_quant[cc])[1]\n",
    "\n",
    "            if policy_selected=='R':\n",
    "                g1_quant[cc] = relaxed_linear(q1_quant[cc],q2_quant[cc])[0]\n",
    "                g2_quant[cc] = relaxed_linear(q1_quant[cc],q2_quant[cc])[1]\n",
    "\n",
    "            if policy_selected=='Lx':\n",
    "                g1_quant[cc] = lexicographic(q1_quant[cc],q2_quant[cc])[0]\n",
    "                g2_quant[cc] = lexicographic(q1_quant[cc],q2_quant[cc])[1]\n",
    "\n",
    "                \n",
    "                \n",
    "    fr_quant_1 = round(sum(g1_quant)/sum(d1)*100,1)\n",
    "    fr_quant_2 = round(sum(g2_quant)/sum(d2)*100,1)\n",
    "    \n",
    "    #fr_quant_1 = round(sum(g1_quant)/sum(order1)*100,1)\n",
    "    #fr_quant_2 = round(sum(g2_quant)/sum(order2)*100,1)\n",
    "    \n",
    "    balance1=g1_quant - d1\n",
    "    holding1 = [sum(balance1[:j+1]) if sum(balance1[:j+1]) > 0 else 0 for j in range(len(balance1))]\n",
    "    shortage1 = [sum(balance1[:j+1]) if sum(balance1[:j+1]) < 0 else 0 for j in range(len(balance1))] #Not LOST Sales\n",
    "    holding1_avr = sum(holding1)/sample_size\n",
    "    shortage1_avr = -1*sum(shortage1)/sample_size\n",
    "    \n",
    "    balance2=g2_quant - d2\n",
    "    holding2 = [sum(balance2[:j+1]) if sum(balance2[:j+1]) > 0 else 0 for j in range(len(balance2))]\n",
    "    shortage2 = [sum(balance2[:j+1]) if sum(balance2[:j+1]) < 0 else 0 for j in range(len(balance2))] #Not LOST Sales\n",
    "    holding2_avr = sum(holding2)/sample_size\n",
    "    shortage2_avr = -1*sum(shortage2)/sample_size\n",
    "    \n",
    "    sale1_avr = min(sum(g1_quant),sum(d1))/sample_size     #Our case is not lost sales. So, the total sum is compared.\n",
    "    sale2_avr = min(sum(g2_quant),sum(d2))/sample_size\n",
    "\n",
    "    profit1_quant_avr = round(sale1_avr*p - (sum(g1_quant)/sample_size)*w - shortage1_avr*s - holding1_avr*h,0)\n",
    "    profit2_quant_avr = round(sale2_avr*p - (sum(g2_quant)/sample_size)*w - shortage2_avr*s - holding2_avr*h,0)\n",
    "\n",
    "    \n",
    "    return fr_quant_1, shortage1_avr*s, holding1_avr*h, profit1_quant_avr, fr_quant_2, shortage2_avr*s, holding2_avr*h, profit2_quant_avr"
   ]
  },
  {
   "cell_type": "code",
   "execution_count": null,
   "metadata": {},
   "outputs": [],
   "source": []
  },
  {
   "cell_type": "code",
   "execution_count": 55,
   "metadata": {},
   "outputs": [
    {
     "name": "stdout",
     "output_type": "stream",
     "text": [
      "P\n",
      "L\n",
      "U\n",
      "R\n",
      "Lx\n"
     ]
    }
   ],
   "source": [
    "k=100\n",
    "\n",
    "gamma = np.arange(0, np.pi/3, 0.1)\n",
    "result = []\n",
    "m=9\n",
    "n=5\n",
    "result=[[0] * m for i in range(n)]  #creating n*m dimensions list in Python\n",
    "nn=0\n",
    "\n",
    "for policy_selected in policy:\n",
    "    print(policy_selected)\n",
    "    fr_1_arr = [0]*len(gamma)\n",
    "    short1_arr = [0]*len(gamma)\n",
    "    holding1_arr = [0]*len(gamma)\n",
    "    profit1_arr = [0]*len(gamma)\n",
    "    fr_2_arr = [0]*len(gamma)\n",
    "    short2_arr = [0]*len(gamma)\n",
    "    holding2_arr = [0]*len(gamma)\n",
    "    profit2_arr = [0]*len(gamma)\n",
    "    i=0\n",
    "    \n",
    "    #quant1=1\n",
    "    #quant2=1\n",
    "\n",
    "    \n",
    "    for ent in gamma:\n",
    "        fr_1_arr[i], short1_arr[i], holding1_arr[i], profit1_arr[i], fr_2_arr[i], short2_arr[i], holding2_arr[i], profit2_arr[i] = adaptive_origin(ent)\n",
    "        i=i+1\n",
    "    \n",
    "    result[nn][0] = policy_selected\n",
    "    result[nn][1] = fr_1_arr\n",
    "    result[nn][2] = short1_arr\n",
    "    result[nn][3] = holding1_arr\n",
    "    result[nn][4] = profit1_arr\n",
    "    \n",
    "    result[nn][5] = fr_2_arr\n",
    "    result[nn][6] = short2_arr\n",
    "    result[nn][7] = holding2_arr\n",
    "    result[nn][8] = profit2_arr\n",
    "    \n",
    "    nn=nn+1"
   ]
  },
  {
   "cell_type": "code",
   "execution_count": 88,
   "metadata": {},
   "outputs": [
    {
     "data": {
      "text/html": [
       "\n",
       "    <div class=\"bk-root\">\n",
       "        <a href=\"https://bokeh.pydata.org\" target=\"_blank\" class=\"bk-logo bk-logo-small bk-logo-notebook\"></a>\n",
       "        <span id=\"21624\">Loading BokehJS ...</span>\n",
       "    </div>"
      ]
     },
     "metadata": {},
     "output_type": "display_data"
    },
    {
     "data": {
      "application/javascript": "\n(function(root) {\n  function now() {\n    return new Date();\n  }\n\n  var force = true;\n\n  if (typeof (root._bokeh_onload_callbacks) === \"undefined\" || force === true) {\n    root._bokeh_onload_callbacks = [];\n    root._bokeh_is_loading = undefined;\n  }\n\n  var JS_MIME_TYPE = 'application/javascript';\n  var HTML_MIME_TYPE = 'text/html';\n  var EXEC_MIME_TYPE = 'application/vnd.bokehjs_exec.v0+json';\n  var CLASS_NAME = 'output_bokeh rendered_html';\n\n  /**\n   * Render data to the DOM node\n   */\n  function render(props, node) {\n    var script = document.createElement(\"script\");\n    node.appendChild(script);\n  }\n\n  /**\n   * Handle when an output is cleared or removed\n   */\n  function handleClearOutput(event, handle) {\n    var cell = handle.cell;\n\n    var id = cell.output_area._bokeh_element_id;\n    var server_id = cell.output_area._bokeh_server_id;\n    // Clean up Bokeh references\n    if (id != null && id in Bokeh.index) {\n      Bokeh.index[id].model.document.clear();\n      delete Bokeh.index[id];\n    }\n\n    if (server_id !== undefined) {\n      // Clean up Bokeh references\n      var cmd = \"from bokeh.io.state import curstate; print(curstate().uuid_to_server['\" + server_id + \"'].get_sessions()[0].document.roots[0]._id)\";\n      cell.notebook.kernel.execute(cmd, {\n        iopub: {\n          output: function(msg) {\n            var id = msg.content.text.trim();\n            if (id in Bokeh.index) {\n              Bokeh.index[id].model.document.clear();\n              delete Bokeh.index[id];\n            }\n          }\n        }\n      });\n      // Destroy server and session\n      var cmd = \"import bokeh.io.notebook as ion; ion.destroy_server('\" + server_id + \"')\";\n      cell.notebook.kernel.execute(cmd);\n    }\n  }\n\n  /**\n   * Handle when a new output is added\n   */\n  function handleAddOutput(event, handle) {\n    var output_area = handle.output_area;\n    var output = handle.output;\n\n    // limit handleAddOutput to display_data with EXEC_MIME_TYPE content only\n    if ((output.output_type != \"display_data\") || (!output.data.hasOwnProperty(EXEC_MIME_TYPE))) {\n      return\n    }\n\n    var toinsert = output_area.element.find(\".\" + CLASS_NAME.split(' ')[0]);\n\n    if (output.metadata[EXEC_MIME_TYPE][\"id\"] !== undefined) {\n      toinsert[toinsert.length - 1].firstChild.textContent = output.data[JS_MIME_TYPE];\n      // store reference to embed id on output_area\n      output_area._bokeh_element_id = output.metadata[EXEC_MIME_TYPE][\"id\"];\n    }\n    if (output.metadata[EXEC_MIME_TYPE][\"server_id\"] !== undefined) {\n      var bk_div = document.createElement(\"div\");\n      bk_div.innerHTML = output.data[HTML_MIME_TYPE];\n      var script_attrs = bk_div.children[0].attributes;\n      for (var i = 0; i < script_attrs.length; i++) {\n        toinsert[toinsert.length - 1].firstChild.setAttribute(script_attrs[i].name, script_attrs[i].value);\n      }\n      // store reference to server id on output_area\n      output_area._bokeh_server_id = output.metadata[EXEC_MIME_TYPE][\"server_id\"];\n    }\n  }\n\n  function register_renderer(events, OutputArea) {\n\n    function append_mime(data, metadata, element) {\n      // create a DOM node to render to\n      var toinsert = this.create_output_subarea(\n        metadata,\n        CLASS_NAME,\n        EXEC_MIME_TYPE\n      );\n      this.keyboard_manager.register_events(toinsert);\n      // Render to node\n      var props = {data: data, metadata: metadata[EXEC_MIME_TYPE]};\n      render(props, toinsert[toinsert.length - 1]);\n      element.append(toinsert);\n      return toinsert\n    }\n\n    /* Handle when an output is cleared or removed */\n    events.on('clear_output.CodeCell', handleClearOutput);\n    events.on('delete.Cell', handleClearOutput);\n\n    /* Handle when a new output is added */\n    events.on('output_added.OutputArea', handleAddOutput);\n\n    /**\n     * Register the mime type and append_mime function with output_area\n     */\n    OutputArea.prototype.register_mime_type(EXEC_MIME_TYPE, append_mime, {\n      /* Is output safe? */\n      safe: true,\n      /* Index of renderer in `output_area.display_order` */\n      index: 0\n    });\n  }\n\n  // register the mime type if in Jupyter Notebook environment and previously unregistered\n  if (root.Jupyter !== undefined) {\n    var events = require('base/js/events');\n    var OutputArea = require('notebook/js/outputarea').OutputArea;\n\n    if (OutputArea.prototype.mime_types().indexOf(EXEC_MIME_TYPE) == -1) {\n      register_renderer(events, OutputArea);\n    }\n  }\n\n  \n  if (typeof (root._bokeh_timeout) === \"undefined\" || force === true) {\n    root._bokeh_timeout = Date.now() + 5000;\n    root._bokeh_failed_load = false;\n  }\n\n  var NB_LOAD_WARNING = {'data': {'text/html':\n     \"<div style='background-color: #fdd'>\\n\"+\n     \"<p>\\n\"+\n     \"BokehJS does not appear to have successfully loaded. If loading BokehJS from CDN, this \\n\"+\n     \"may be due to a slow or bad network connection. Possible fixes:\\n\"+\n     \"</p>\\n\"+\n     \"<ul>\\n\"+\n     \"<li>re-rerun `output_notebook()` to attempt to load from CDN again, or</li>\\n\"+\n     \"<li>use INLINE resources instead, as so:</li>\\n\"+\n     \"</ul>\\n\"+\n     \"<code>\\n\"+\n     \"from bokeh.resources import INLINE\\n\"+\n     \"output_notebook(resources=INLINE)\\n\"+\n     \"</code>\\n\"+\n     \"</div>\"}};\n\n  function display_loaded() {\n    var el = document.getElementById(\"21624\");\n    if (el != null) {\n      el.textContent = \"BokehJS is loading...\";\n    }\n    if (root.Bokeh !== undefined) {\n      if (el != null) {\n        el.textContent = \"BokehJS \" + root.Bokeh.version + \" successfully loaded.\";\n      }\n    } else if (Date.now() < root._bokeh_timeout) {\n      setTimeout(display_loaded, 100)\n    }\n  }\n\n\n  function run_callbacks() {\n    try {\n      root._bokeh_onload_callbacks.forEach(function(callback) { callback() });\n    }\n    finally {\n      delete root._bokeh_onload_callbacks\n    }\n    console.info(\"Bokeh: all callbacks have finished\");\n  }\n\n  function load_libs(js_urls, callback) {\n    root._bokeh_onload_callbacks.push(callback);\n    if (root._bokeh_is_loading > 0) {\n      console.log(\"Bokeh: BokehJS is being loaded, scheduling callback at\", now());\n      return null;\n    }\n    if (js_urls == null || js_urls.length === 0) {\n      run_callbacks();\n      return null;\n    }\n    console.log(\"Bokeh: BokehJS not loaded, scheduling load and callback at\", now());\n    root._bokeh_is_loading = js_urls.length;\n    for (var i = 0; i < js_urls.length; i++) {\n      var url = js_urls[i];\n      var s = document.createElement('script');\n      s.src = url;\n      s.async = false;\n      s.onreadystatechange = s.onload = function() {\n        root._bokeh_is_loading--;\n        if (root._bokeh_is_loading === 0) {\n          console.log(\"Bokeh: all BokehJS libraries loaded\");\n          run_callbacks()\n        }\n      };\n      s.onerror = function() {\n        console.warn(\"failed to load library \" + url);\n      };\n      console.log(\"Bokeh: injecting script tag for BokehJS library: \", url);\n      document.getElementsByTagName(\"head\")[0].appendChild(s);\n    }\n  };var element = document.getElementById(\"21624\");\n  if (element == null) {\n    console.log(\"Bokeh: ERROR: autoload.js configured with elementid '21624' but no matching script tag was found. \")\n    return false;\n  }\n\n  var js_urls = [\"https://cdn.pydata.org/bokeh/release/bokeh-1.0.4.min.js\", \"https://cdn.pydata.org/bokeh/release/bokeh-widgets-1.0.4.min.js\", \"https://cdn.pydata.org/bokeh/release/bokeh-tables-1.0.4.min.js\", \"https://cdn.pydata.org/bokeh/release/bokeh-gl-1.0.4.min.js\"];\n\n  var inline_js = [\n    function(Bokeh) {\n      Bokeh.set_log_level(\"info\");\n    },\n    \n    function(Bokeh) {\n      \n    },\n    function(Bokeh) {\n      console.log(\"Bokeh: injecting CSS: https://cdn.pydata.org/bokeh/release/bokeh-1.0.4.min.css\");\n      Bokeh.embed.inject_css(\"https://cdn.pydata.org/bokeh/release/bokeh-1.0.4.min.css\");\n      console.log(\"Bokeh: injecting CSS: https://cdn.pydata.org/bokeh/release/bokeh-widgets-1.0.4.min.css\");\n      Bokeh.embed.inject_css(\"https://cdn.pydata.org/bokeh/release/bokeh-widgets-1.0.4.min.css\");\n      console.log(\"Bokeh: injecting CSS: https://cdn.pydata.org/bokeh/release/bokeh-tables-1.0.4.min.css\");\n      Bokeh.embed.inject_css(\"https://cdn.pydata.org/bokeh/release/bokeh-tables-1.0.4.min.css\");\n    }\n  ];\n\n  function run_inline_js() {\n    \n    if ((root.Bokeh !== undefined) || (force === true)) {\n      for (var i = 0; i < inline_js.length; i++) {\n        inline_js[i].call(root, root.Bokeh);\n      }if (force === true) {\n        display_loaded();\n      }} else if (Date.now() < root._bokeh_timeout) {\n      setTimeout(run_inline_js, 100);\n    } else if (!root._bokeh_failed_load) {\n      console.log(\"Bokeh: BokehJS failed to load within specified timeout.\");\n      root._bokeh_failed_load = true;\n    } else if (force !== true) {\n      var cell = $(document.getElementById(\"21624\")).parents('.cell').data().cell;\n      cell.output_area.append_execute_result(NB_LOAD_WARNING)\n    }\n\n  }\n\n  if (root._bokeh_is_loading === 0) {\n    console.log(\"Bokeh: BokehJS loaded, going straight to plotting\");\n    run_inline_js();\n  } else {\n    load_libs(js_urls, function() {\n      console.log(\"Bokeh: BokehJS plotting callback run at\", now());\n      run_inline_js();\n    });\n  }\n}(window));",
      "application/vnd.bokehjs_load.v0+json": ""
     },
     "metadata": {},
     "output_type": "display_data"
    },
    {
     "data": {
      "text/html": [
       "\n",
       "\n",
       "\n",
       "\n",
       "\n",
       "\n",
       "  <div class=\"bk-root\" id=\"a6ad4905-fd7f-4073-a6c2-1a87231b1b19\" data-root-id=\"21625\"></div>\n"
      ]
     },
     "metadata": {},
     "output_type": "display_data"
    },
    {
     "data": {
      "application/javascript": "(function(root) {\n  function embed_document(root) {\n    \n  var docs_json = {\"ebc0380b-5bce-42d5-b857-97f65742ae01\":{\"roots\":{\"references\":[{\"attributes\":{\"above\":[{\"id\":\"21683\",\"type\":\"Legend\"}],\"below\":[{\"id\":\"21634\",\"type\":\"LinearAxis\"}],\"left\":[{\"id\":\"21639\",\"type\":\"LinearAxis\"}],\"plot_height\":320,\"plot_width\":400,\"renderers\":[{\"id\":\"21634\",\"type\":\"LinearAxis\"},{\"id\":\"21638\",\"type\":\"Grid\"},{\"id\":\"21639\",\"type\":\"LinearAxis\"},{\"id\":\"21643\",\"type\":\"Grid\"},{\"id\":\"21652\",\"type\":\"BoxAnnotation\"},{\"id\":\"21663\",\"type\":\"GlyphRenderer\"},{\"id\":\"21669\",\"type\":\"GlyphRenderer\"},{\"id\":\"21676\",\"type\":\"GlyphRenderer\"},{\"id\":\"21681\",\"type\":\"GlyphRenderer\"},{\"id\":\"21683\",\"type\":\"Legend\"}],\"title\":{\"id\":\"22317\",\"type\":\"Title\"},\"toolbar\":{\"id\":\"21650\",\"type\":\"Toolbar\"},\"x_range\":{\"id\":\"21626\",\"type\":\"DataRange1d\"},\"x_scale\":{\"id\":\"21630\",\"type\":\"LinearScale\"},\"y_range\":{\"id\":\"21628\",\"type\":\"Range1d\"},\"y_scale\":{\"id\":\"21632\",\"type\":\"LinearScale\"}},\"id\":\"21625\",\"subtype\":\"Figure\",\"type\":\"Plot\"},{\"attributes\":{\"line_width\":2,\"x\":{\"field\":\"x\"},\"y\":{\"field\":\"y\"}},\"id\":\"21661\",\"type\":\"Line\"},{\"attributes\":{\"data_source\":{\"id\":\"21665\",\"type\":\"ColumnDataSource\"},\"glyph\":{\"id\":\"21667\",\"type\":\"Line\"},\"hover_glyph\":null,\"muted_glyph\":null,\"nonselection_glyph\":{\"id\":\"21668\",\"type\":\"Line\"},\"selection_glyph\":null,\"view\":{\"id\":\"21670\",\"type\":\"CDSView\"}},\"id\":\"21669\",\"type\":\"GlyphRenderer\"},{\"attributes\":{\"data_source\":{\"id\":\"21672\",\"type\":\"ColumnDataSource\"},\"glyph\":{\"id\":\"21679\",\"type\":\"Square\"},\"hover_glyph\":null,\"muted_glyph\":null,\"nonselection_glyph\":{\"id\":\"21680\",\"type\":\"Square\"},\"selection_glyph\":null,\"view\":{\"id\":\"21682\",\"type\":\"CDSView\"}},\"id\":\"21681\",\"type\":\"GlyphRenderer\"},{\"attributes\":{},\"id\":\"22331\",\"type\":\"UnionRenderers\"},{\"attributes\":{\"callback\":null,\"data\":{\"x\":{\"__ndarray__\":\"AAAAAAAAAACamZmZmZm5P5qZmZmZmck/NDMzMzMz0z+amZmZmZnZPwAAAAAAAOA/NDMzMzMz4z9nZmZmZmbmP5qZmZmZmek/zczMzMzM7D8AAAAAAADwPw==\",\"dtype\":\"float64\",\"shape\":[11]},\"y\":[72.8,89.7,87.0,84.7,83.0,82.1,81.5,81.2,80.9,80.9,80.8]},\"selected\":{\"id\":\"22324\",\"type\":\"Selection\"},\"selection_policy\":{\"id\":\"22325\",\"type\":\"UnionRenderers\"}},\"id\":\"21659\",\"type\":\"ColumnDataSource\"},{\"attributes\":{\"source\":{\"id\":\"21665\",\"type\":\"ColumnDataSource\"}},\"id\":\"21670\",\"type\":\"CDSView\"},{\"attributes\":{\"source\":{\"id\":\"21672\",\"type\":\"ColumnDataSource\"}},\"id\":\"21682\",\"type\":\"CDSView\"},{\"attributes\":{},\"id\":\"21635\",\"type\":\"BasicTicker\"},{\"attributes\":{\"line_alpha\":0.1,\"line_color\":\"#1f77b4\",\"line_dash\":[6],\"line_width\":2,\"x\":{\"field\":\"x\"},\"y\":{\"field\":\"y\"}},\"id\":\"21668\",\"type\":\"Line\"},{\"attributes\":{\"callback\":null,\"data\":{\"x_marker\":{\"__ndarray__\":\"AAAAAAAAAACamZmZmZnJP5qZmZmZmdk/NDMzMzMz4z+amZmZmZnpPwAAAAAAAPA/\",\"dtype\":\"float64\",\"shape\":[6]},\"y_marker\":[73.5,73.3,78.0,80.2,81.3,82.0]},\"selected\":{\"id\":\"22330\",\"type\":\"Selection\"},\"selection_policy\":{\"id\":\"22331\",\"type\":\"UnionRenderers\"}},\"id\":\"21672\",\"type\":\"ColumnDataSource\"},{\"attributes\":{\"axis_label\":\"Entanglement (\\u03b3)\",\"formatter\":{\"id\":\"22320\",\"type\":\"BasicTickFormatter\"},\"plot\":{\"id\":\"21625\",\"subtype\":\"Figure\",\"type\":\"Plot\"},\"ticker\":{\"id\":\"21635\",\"type\":\"BasicTicker\"}},\"id\":\"21634\",\"type\":\"LinearAxis\"},{\"attributes\":{\"fill_alpha\":{\"value\":0.1},\"fill_color\":{\"value\":\"#1f77b4\"},\"line_alpha\":{\"value\":0.1},\"line_color\":{\"value\":\"#1f77b4\"},\"size\":{\"units\":\"screen\",\"value\":7},\"x\":{\"field\":\"x_marker\"},\"y\":{\"field\":\"y_marker\"}},\"id\":\"21680\",\"type\":\"Square\"},{\"attributes\":{\"label\":{\"value\":\"Adaptive Quantum   \"},\"renderers\":[{\"id\":\"21663\",\"type\":\"GlyphRenderer\"}]},\"id\":\"21684\",\"type\":\"LegendItem\"},{\"attributes\":{},\"id\":\"21632\",\"type\":\"LinearScale\"},{\"attributes\":{\"plot\":null,\"text\":\"\"},\"id\":\"22317\",\"type\":\"Title\"},{\"attributes\":{\"fill_color\":{\"value\":\"white\"},\"size\":{\"units\":\"screen\",\"value\":7},\"x\":{\"field\":\"x_marker\"},\"y\":{\"field\":\"y_marker\"}},\"id\":\"21674\",\"type\":\"Square\"},{\"attributes\":{},\"id\":\"21630\",\"type\":\"LinearScale\"},{\"attributes\":{\"fill_alpha\":{\"value\":0.1},\"fill_color\":{\"value\":\"#1f77b4\"},\"line_alpha\":{\"value\":0.1},\"line_color\":{\"value\":\"#1f77b4\"},\"size\":{\"units\":\"screen\",\"value\":7},\"x\":{\"field\":\"x_marker\"},\"y\":{\"field\":\"y_marker\"}},\"id\":\"21675\",\"type\":\"Square\"},{\"attributes\":{\"callback\":null,\"end\":102,\"start\":50},\"id\":\"21628\",\"type\":\"Range1d\"},{\"attributes\":{\"line_dash\":[6],\"line_width\":2,\"x\":{\"field\":\"x\"},\"y\":{\"field\":\"y\"}},\"id\":\"21667\",\"type\":\"Line\"},{\"attributes\":{\"data_source\":{\"id\":\"21671\",\"type\":\"ColumnDataSource\"},\"glyph\":{\"id\":\"21674\",\"type\":\"Square\"},\"hover_glyph\":null,\"muted_glyph\":null,\"nonselection_glyph\":{\"id\":\"21675\",\"type\":\"Square\"},\"selection_glyph\":null,\"view\":{\"id\":\"21677\",\"type\":\"CDSView\"}},\"id\":\"21676\",\"type\":\"GlyphRenderer\"},{\"attributes\":{\"fill_color\":{\"value\":\"white\"},\"size\":{\"units\":\"screen\",\"value\":7},\"x\":{\"field\":\"x_marker\"},\"y\":{\"field\":\"y_marker\"}},\"id\":\"21679\",\"type\":\"Square\"},{\"attributes\":{\"callback\":null},\"id\":\"21626\",\"type\":\"DataRange1d\"},{\"attributes\":{\"callback\":null,\"data\":{\"x_marker\":{\"__ndarray__\":\"AAAAAAAAAACamZmZmZnJP5qZmZmZmdk/NDMzMzMz4z+amZmZmZnpPwAAAAAAAPA/\",\"dtype\":\"float64\",\"shape\":[6]},\"y_marker\":[72.8,87.0,83.0,81.5,80.9,80.8]},\"selected\":{\"id\":\"22328\",\"type\":\"Selection\"},\"selection_policy\":{\"id\":\"22329\",\"type\":\"UnionRenderers\"}},\"id\":\"21671\",\"type\":\"ColumnDataSource\"},{\"attributes\":{\"overlay\":{\"id\":\"21652\",\"type\":\"BoxAnnotation\"}},\"id\":\"21646\",\"type\":\"BoxZoomTool\"},{\"attributes\":{\"label\":{\"value\":\"Quantum   \"},\"renderers\":[{\"id\":\"21669\",\"type\":\"GlyphRenderer\"}]},\"id\":\"21685\",\"type\":\"LegendItem\"},{\"attributes\":{},\"id\":\"22320\",\"type\":\"BasicTickFormatter\"},{\"attributes\":{},\"id\":\"22322\",\"type\":\"BasicTickFormatter\"},{\"attributes\":{\"active_drag\":\"auto\",\"active_inspect\":\"auto\",\"active_multi\":null,\"active_scroll\":\"auto\",\"active_tap\":\"auto\",\"tools\":[{\"id\":\"21644\",\"type\":\"PanTool\"},{\"id\":\"21645\",\"type\":\"WheelZoomTool\"},{\"id\":\"21646\",\"type\":\"BoxZoomTool\"},{\"id\":\"21647\",\"type\":\"SaveTool\"},{\"id\":\"21648\",\"type\":\"ResetTool\"},{\"id\":\"21649\",\"type\":\"HelpTool\"}]},\"id\":\"21650\",\"type\":\"Toolbar\"},{\"attributes\":{},\"id\":\"21645\",\"type\":\"WheelZoomTool\"},{\"attributes\":{},\"id\":\"21648\",\"type\":\"ResetTool\"},{\"attributes\":{},\"id\":\"22324\",\"type\":\"Selection\"},{\"attributes\":{},\"id\":\"21644\",\"type\":\"PanTool\"},{\"attributes\":{},\"id\":\"21647\",\"type\":\"SaveTool\"},{\"attributes\":{},\"id\":\"22325\",\"type\":\"UnionRenderers\"},{\"attributes\":{\"axis_label\":\"Fill Rate\",\"formatter\":{\"id\":\"22322\",\"type\":\"BasicTickFormatter\"},\"plot\":{\"id\":\"21625\",\"subtype\":\"Figure\",\"type\":\"Plot\"},\"ticker\":{\"id\":\"21640\",\"type\":\"BasicTicker\"}},\"id\":\"21639\",\"type\":\"LinearAxis\"},{\"attributes\":{},\"id\":\"22326\",\"type\":\"Selection\"},{\"attributes\":{\"source\":{\"id\":\"21671\",\"type\":\"ColumnDataSource\"}},\"id\":\"21677\",\"type\":\"CDSView\"},{\"attributes\":{},\"id\":\"21649\",\"type\":\"HelpTool\"},{\"attributes\":{\"plot\":{\"id\":\"21625\",\"subtype\":\"Figure\",\"type\":\"Plot\"},\"ticker\":{\"id\":\"21635\",\"type\":\"BasicTicker\"},\"visible\":false},\"id\":\"21638\",\"type\":\"Grid\"},{\"attributes\":{\"items\":[{\"id\":\"21684\",\"type\":\"LegendItem\"},{\"id\":\"21685\",\"type\":\"LegendItem\"}],\"label_standoff\":1,\"label_text_font_size\":{\"value\":\"12px\"},\"location\":[0,0],\"orientation\":\"horizontal\",\"plot\":{\"id\":\"21625\",\"subtype\":\"Figure\",\"type\":\"Plot\"},\"spacing\":0},\"id\":\"21683\",\"type\":\"Legend\"},{\"attributes\":{\"line_alpha\":0.1,\"line_color\":\"#1f77b4\",\"line_width\":2,\"x\":{\"field\":\"x\"},\"y\":{\"field\":\"y\"}},\"id\":\"21662\",\"type\":\"Line\"},{\"attributes\":{\"dimension\":1,\"plot\":{\"id\":\"21625\",\"subtype\":\"Figure\",\"type\":\"Plot\"},\"ticker\":{\"id\":\"21640\",\"type\":\"BasicTicker\"},\"visible\":false},\"id\":\"21643\",\"type\":\"Grid\"},{\"attributes\":{},\"id\":\"22327\",\"type\":\"UnionRenderers\"},{\"attributes\":{\"callback\":null,\"data\":{\"x\":{\"__ndarray__\":\"AAAAAAAAAACamZmZmZm5P5qZmZmZmck/NDMzMzMz0z+amZmZmZnZPwAAAAAAAOA/NDMzMzMz4z9nZmZmZmbmP5qZmZmZmek/zczMzMzM7D8AAAAAAADwPw==\",\"dtype\":\"float64\",\"shape\":[11]},\"y\":[73.5,70.1,73.3,76.0,78.0,79.3,80.2,80.9,81.3,81.7,82.0]},\"selected\":{\"id\":\"22326\",\"type\":\"Selection\"},\"selection_policy\":{\"id\":\"22327\",\"type\":\"UnionRenderers\"}},\"id\":\"21665\",\"type\":\"ColumnDataSource\"},{\"attributes\":{},\"id\":\"21640\",\"type\":\"BasicTicker\"},{\"attributes\":{\"bottom_units\":\"screen\",\"fill_alpha\":{\"value\":0.5},\"fill_color\":{\"value\":\"lightgrey\"},\"left_units\":\"screen\",\"level\":\"overlay\",\"line_alpha\":{\"value\":1.0},\"line_color\":{\"value\":\"black\"},\"line_dash\":[4,4],\"line_width\":{\"value\":2},\"plot\":null,\"render_mode\":\"css\",\"right_units\":\"screen\",\"top_units\":\"screen\"},\"id\":\"21652\",\"type\":\"BoxAnnotation\"},{\"attributes\":{},\"id\":\"22328\",\"type\":\"Selection\"},{\"attributes\":{\"source\":{\"id\":\"21659\",\"type\":\"ColumnDataSource\"}},\"id\":\"21664\",\"type\":\"CDSView\"},{\"attributes\":{},\"id\":\"22329\",\"type\":\"UnionRenderers\"},{\"attributes\":{\"data_source\":{\"id\":\"21659\",\"type\":\"ColumnDataSource\"},\"glyph\":{\"id\":\"21661\",\"type\":\"Line\"},\"hover_glyph\":null,\"muted_glyph\":null,\"nonselection_glyph\":{\"id\":\"21662\",\"type\":\"Line\"},\"selection_glyph\":null,\"view\":{\"id\":\"21664\",\"type\":\"CDSView\"}},\"id\":\"21663\",\"type\":\"GlyphRenderer\"},{\"attributes\":{},\"id\":\"22330\",\"type\":\"Selection\"}],\"root_ids\":[\"21625\"]},\"title\":\"Bokeh Application\",\"version\":\"1.0.4\"}};\n  var render_items = [{\"docid\":\"ebc0380b-5bce-42d5-b857-97f65742ae01\",\"roots\":{\"21625\":\"a6ad4905-fd7f-4073-a6c2-1a87231b1b19\"}}];\n  root.Bokeh.embed.embed_items_notebook(docs_json, render_items);\n\n  }\n  if (root.Bokeh !== undefined) {\n    embed_document(root);\n  } else {\n    var attempts = 0;\n    var timer = setInterval(function(root) {\n      if (root.Bokeh !== undefined) {\n        embed_document(root);\n        clearInterval(timer);\n      }\n      attempts++;\n      if (attempts > 100) {\n        console.log(\"Bokeh: ERROR: Unable to run BokehJS code because BokehJS library is missing\");\n        clearInterval(timer);\n      }\n    }, 10, root)\n  }\n})(window);",
      "application/vnd.bokehjs_exec.v0+json": ""
     },
     "metadata": {
      "application/vnd.bokehjs_exec.v0+json": {
       "id": "21625"
      }
     },
     "output_type": "display_data"
    }
   ],
   "source": [
    "item = 1\n",
    "y_no = 2 # 'P': 0, 'L': 1, 'U': 2,\n",
    "\n",
    "horzontal_line_100 = 0\n",
    "\n",
    "consider_minmax = 1\n",
    "y_min = 50\n",
    "y_max = 102\n",
    "\n",
    "%run Bokeh_Adaptive.ipynb"
   ]
  },
  {
   "cell_type": "code",
   "execution_count": 58,
   "metadata": {},
   "outputs": [
    {
     "data": {
      "image/png": "[encoded data removed]",
      "text/plain": [
       "<Figure size 432x288 with 1 Axes>"
      ]
     },
     "metadata": {},
     "output_type": "display_data"
    }
   ],
   "source": [
    "pol = policy_selector('L')\n",
    "\n",
    "plt.plot(gamma, result[pol][1], label='1')\n",
    "plt.plot(gamma, result[pol][5], label='2')\n",
    "\n",
    "plt.xlabel(\"Entanglement\")\n",
    "plt.ylabel(\"Fill Rate\")\n",
    "plt.legend()\n",
    "plt.show()"
   ]
  },
  {
   "cell_type": "code",
   "execution_count": null,
   "metadata": {},
   "outputs": [],
   "source": []
  },
  {
   "cell_type": "code",
   "execution_count": 57,
   "metadata": {},
   "outputs": [
    {
     "data": {
      "image/png": "[encoded data removed]",
      "text/plain": [
       "<Figure size 432x288 with 1 Axes>"
      ]
     },
     "metadata": {},
     "output_type": "display_data"
    }
   ],
   "source": [
    "pol = policy_selector('L')\n",
    "\n",
    "plt.plot(gamma, result[pol][4], label='1')\n",
    "plt.plot(gamma, result[pol][8], label='2')\n",
    "\n",
    "plt.xlabel(\"Entanglement\")\n",
    "plt.ylabel(\"Profit\")\n",
    "plt.legend()\n",
    "plt.show()"
   ]
  },
  {
   "cell_type": "code",
   "execution_count": null,
   "metadata": {},
   "outputs": [],
   "source": []
  },
  {
   "cell_type": "code",
   "execution_count": 106,
   "metadata": {},
   "outputs": [],
   "source": [
    "fr1,sh1,hl1,pr1,fr2,sh2,hl2,pr2 = adaptive_origin(0.2)"
   ]
  },
  {
   "cell_type": "code",
   "execution_count": 107,
   "metadata": {},
   "outputs": [
    {
     "name": "stdout",
     "output_type": "stream",
     "text": [
      "100.0 46.9\n"
     ]
    }
   ],
   "source": [
    "print(fr1,fr2)"
   ]
  },
  {
   "cell_type": "code",
   "execution_count": 108,
   "metadata": {},
   "outputs": [
    {
     "name": "stdout",
     "output_type": "stream",
     "text": [
      "1094575.0 521937.0\n"
     ]
    }
   ],
   "source": [
    "print(pr1,pr2)"
   ]
  },
  {
   "cell_type": "code",
   "execution_count": null,
   "metadata": {},
   "outputs": [],
   "source": []
  },
  {
   "cell_type": "markdown",
   "metadata": {},
   "source": [
    "- k=100, if we get the demand k*1.2, then shortages are higher than holdings ...\n",
    "- For k*0.8, holding will be higher and thus the resulting fill rate becomes 100%"
   ]
  },
  {
   "cell_type": "code",
   "execution_count": null,
   "metadata": {},
   "outputs": [],
   "source": []
  },
  {
   "cell_type": "code",
   "execution_count": null,
   "metadata": {},
   "outputs": [],
   "source": []
  }
 ],
 "metadata": {
  "kernelspec": {
   "display_name": "Python 3.10.6 64-bit",
   "language": "python",
   "name": "python3"
  },
  "language_info": {
   "codemirror_mode": {
    "name": "ipython",
    "version": 3
   },
   "file_extension": ".py",
   "mimetype": "text/x-python",
   "name": "python",
   "nbconvert_exporter": "python",
   "pygments_lexer": "ipython3",
   "version": "3.10.6"
  },
  "vscode": {
   "interpreter": {
    "hash": "aee8b7b246df8f9039afb4144a1f6fd8d2ca17a180786b69acc140d282b71a49"
   }
  }
 },
 "nbformat": 4,
 "nbformat_minor": 2
}
